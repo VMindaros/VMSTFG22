{
 "cells": [
  {
   "cell_type": "code",
   "execution_count": 1,
   "id": "c6b74dc7-1d46-4755-bfc7-75fcfeda74c7",
   "metadata": {
    "tags": []
   },
   "outputs": [],
   "source": [
    "import pickle\n",
    "import pandas as pd\n",
    "import numpy as np\n",
    "import matplotlib.pyplot as plt\n",
    "import seaborn as sns\n",
    "\n",
    "from sklearn import metrics\n",
    "from sklearn.utils.class_weight import compute_class_weight\n",
    "\n",
    "from keras.models import Sequential, save_model, load_model\n",
    "from keras.layers import Dense\n",
    "from keras.callbacks import EarlyStopping"
   ]
  },
  {
   "cell_type": "code",
   "execution_count": 2,
   "id": "49705004-5600-4da5-be43-dd230835c685",
   "metadata": {
    "tags": []
   },
   "outputs": [],
   "source": [
    "file_path = './final_ipynb/'"
   ]
  },
  {
   "cell_type": "code",
   "execution_count": 3,
   "id": "2163ee20-fefb-4c8f-9e31-ca32802219aa",
   "metadata": {
    "tags": []
   },
   "outputs": [],
   "source": [
    "# Retrieve the train and set data\n",
    "x_train_df, y_train_df = pd.read_csv(file_path+'x_train.csv'), pd.read_csv(file_path+'y_train.csv')\n",
    "x_test_df, y_test_df = pd.read_csv(file_path+'x_test.csv'), pd.read_csv(file_path+'y_test.csv')"
   ]
  },
  {
   "cell_type": "code",
   "execution_count": 4,
   "id": "4afaf1f4-9411-4c11-bdc1-81f46048c6c6",
   "metadata": {
    "tags": []
   },
   "outputs": [],
   "source": [
    "# Save the name of the columns for XAI\n",
    "pickle.dump(x_train_df.columns.values, open(file_path+'transformed_columns.pkl', 'wb'))\n",
    "\n",
    "# Transform dataframe to numpy arrays for RL model\n",
    "x_train, y_train = x_train_df.values, y_train_df.values.flatten()\n",
    "x_test, y_test = x_test_df.values, y_test_df.values.flatten()\n",
    "\n",
    "# Delete original dataframe to save memory\n",
    "del x_train_df, y_train_df, x_test_df, y_test_df"
   ]
  },
  {
   "cell_type": "code",
   "execution_count": 5,
   "id": "63d21b13-cb9e-4741-a33c-b19d349efd40",
   "metadata": {
    "tags": []
   },
   "outputs": [
    {
     "name": "stderr",
     "output_type": "stream",
     "text": [
      "2023-02-26 14:57:44.829134: E tensorflow/compiler/xla/stream_executor/cuda/cuda_driver.cc:267] failed call to cuInit: CUDA_ERROR_NO_DEVICE: no CUDA-capable device is detected\n",
      "2023-02-26 14:57:44.829179: I tensorflow/compiler/xla/stream_executor/cuda/cuda_diagnostics.cc:156] kernel driver does not appear to be running on this host (tfg-1): /proc/driver/nvidia/version does not exist\n",
      "2023-02-26 14:57:44.829752: I tensorflow/core/platform/cpu_feature_guard.cc:193] This TensorFlow binary is optimized with oneAPI Deep Neural Network Library (oneDNN) to use the following CPU instructions in performance-critical operations:  AVX2 FMA\n",
      "To enable them in other operations, rebuild TensorFlow with the appropriate compiler flags.\n"
     ]
    }
   ],
   "source": [
    "model = Sequential()\n",
    "model.add(Dense(64, input_dim=x_train.shape[1], activation='relu'))\n",
    "model.add(Dense(64, input_dim=x_train.shape[1], activation='relu'))\n",
    "model.add(Dense(1, activation='sigmoid'))\n",
    "\n",
    "model.compile(\n",
    "    loss='binary_crossentropy',\n",
    "    optimizer='adam',\n",
    "    metrics=['accuracy']\n",
    ")\n",
    "\n",
    "monitor = EarlyStopping(\n",
    "    monitor='val_loss',\n",
    "    min_delta=1e-3,\n",
    "    patience=5,\n",
    "    mode='auto',\n",
    "    restore_best_weights=True,\n",
    "    verbose=2,\n",
    ")"
   ]
  },
  {
   "cell_type": "code",
   "execution_count": 6,
   "id": "47c33330-b093-42c5-ba77-4a20b69c7c28",
   "metadata": {
    "tags": []
   },
   "outputs": [],
   "source": [
    "ccw = compute_class_weight(class_weight='balanced', \n",
    "                          classes=np.unique(y_train), \n",
    "                          y=y_train)\n",
    "\n",
    "cw = {i:w for i,w in enumerate(ccw)}"
   ]
  },
  {
   "cell_type": "code",
   "execution_count": 7,
   "id": "5db4d810-2923-4195-b5d6-74db2c2e95ed",
   "metadata": {
    "tags": []
   },
   "outputs": [
    {
     "name": "stdout",
     "output_type": "stream",
     "text": [
      "Epoch 1/200\n",
      "63502/63502 [==============================] - 69s 1ms/step - loss: 0.0207 - accuracy: 0.9892 - val_loss: 0.0433 - val_accuracy: 0.9816\n",
      "Epoch 2/200\n",
      "63502/63502 [==============================] - 71s 1ms/step - loss: 0.0188 - accuracy: 0.9895 - val_loss: 0.0429 - val_accuracy: 0.9816\n",
      "Epoch 3/200\n",
      "63502/63502 [==============================] - 69s 1ms/step - loss: 0.0184 - accuracy: 0.9895 - val_loss: 0.0467 - val_accuracy: 0.9815\n",
      "Epoch 4/200\n",
      "63502/63502 [==============================] - 69s 1ms/step - loss: 0.0179 - accuracy: 0.9895 - val_loss: 0.0423 - val_accuracy: 0.9817\n",
      "Epoch 5/200\n",
      "63502/63502 [==============================] - 69s 1ms/step - loss: 0.0177 - accuracy: 0.9896 - val_loss: 0.0468 - val_accuracy: 0.9816\n",
      "Epoch 6/200\n",
      "63502/63502 [==============================] - 69s 1ms/step - loss: 0.0175 - accuracy: 0.9896 - val_loss: 0.0403 - val_accuracy: 0.9817\n",
      "Epoch 7/200\n",
      "63502/63502 [==============================] - 68s 1ms/step - loss: 0.0178 - accuracy: 0.9896 - val_loss: 0.0411 - val_accuracy: 0.9817\n",
      "Epoch 8/200\n",
      "63502/63502 [==============================] - 68s 1ms/step - loss: 0.0176 - accuracy: 0.9896 - val_loss: 0.0429 - val_accuracy: 0.9816\n",
      "Epoch 9/200\n",
      "63502/63502 [==============================] - 70s 1ms/step - loss: 0.0179 - accuracy: 0.9896 - val_loss: 0.0455 - val_accuracy: 0.9817\n",
      "Epoch 10/200\n",
      "63502/63502 [==============================] - 68s 1ms/step - loss: 0.0175 - accuracy: 0.9896 - val_loss: 0.0424 - val_accuracy: 0.9817\n",
      "Epoch 11/200\n",
      "63492/63502 [============================>.] - ETA: 0s - loss: 0.0182 - accuracy: 0.9896Restoring model weights from the end of the best epoch: 6.\n",
      "63502/63502 [==============================] - 68s 1ms/step - loss: 0.0182 - accuracy: 0.9896 - val_loss: 0.0436 - val_accuracy: 0.9817\n",
      "Epoch 11: early stopping\n"
     ]
    },
    {
     "data": {
      "text/plain": [
       "<keras.callbacks.History at 0x7f9f33eb11c0>"
      ]
     },
     "execution_count": 7,
     "metadata": {},
     "output_type": "execute_result"
    }
   ],
   "source": [
    "model.fit(\n",
    "    x_train,\n",
    "    y_train,\n",
    "    validation_data=(x_test, y_test),\n",
    "    callbacks=[monitor],\n",
    "    epochs=200,\n",
    "    class_weight=cw,\n",
    "    verbose=1,\n",
    "    workers=8\n",
    ")"
   ]
  },
  {
   "cell_type": "code",
   "execution_count": 11,
   "id": "a5939f9c-2614-452d-a3df-a4f7e34498d8",
   "metadata": {
    "tags": []
   },
   "outputs": [
    {
     "name": "stdout",
     "output_type": "stream",
     "text": [
      "15876/15876 [==============================] - 61s 4ms/step\n"
     ]
    }
   ],
   "source": [
    "y_pred = model.predict(x_test)"
   ]
  },
  {
   "cell_type": "code",
   "execution_count": 12,
   "id": "ae41138d-5179-4bed-827a-c668baaec639",
   "metadata": {
    "tags": []
   },
   "outputs": [],
   "source": [
    "y_pred = np.rint(y_pred).astype(int)\n",
    "y_pred = np.ravel(y_pred)"
   ]
  },
  {
   "cell_type": "code",
   "execution_count": 15,
   "id": "48b52174-7ccb-476f-b1a7-f1999de7d69c",
   "metadata": {
    "tags": []
   },
   "outputs": [],
   "source": [
    "models_benchmark = pd.DataFrame(columns=['Accuracy', 'Recall', 'Precision', 'F1-score'])\n",
    "\n",
    "def getMetrics(model_name, y_truth, y_pred):\n",
    "    # Macro-avg is recommended to keep minority classes relevant\n",
    "    # Weighted-avg is recommended to keep majority classes relevant\n",
    "    print(f'Metrics')\n",
    "    acc = metrics.accuracy_score(y_truth, y_pred)\n",
    "    rec = metrics.recall_score(y_truth, y_pred, zero_division=0)\n",
    "    pre = metrics.precision_score(y_truth, y_pred, zero_division=0)\n",
    "    f1s = metrics.f1_score(y_truth, y_pred, zero_division=0)\n",
    "\n",
    "    models_benchmark.loc[model_name] = [acc, rec, pre, f1s]\n",
    "    display(models_benchmark.loc[model_name])\n",
    "    return\n",
    "\n",
    "def getCM(model_name, y_test, y_pred):\n",
    "    cm = metrics.confusion_matrix(y_test, y_pred)\n",
    "    cm_normalized = cm.astype('float') / cm.sum(axis=1)[:, np.newaxis]\n",
    "\n",
    "    plt.figure(figsize=(5,5))\n",
    "    plt.title(f'{model_name}', fontsize=20)\n",
    "\n",
    "    sns.heatmap(cm_normalized, annot=True, fmt='.3f')\n",
    "\n",
    "    plt.xticks(rotation=45)\n",
    "    plt.ylabel('Real outcome', fontsize=16)\n",
    "    plt.xlabel('Predicted outcome', fontsize=16)\n",
    "    plt.ioff()\n",
    "    plt.show()\n",
    "    return"
   ]
  },
  {
   "cell_type": "code",
   "execution_count": 16,
   "id": "d8009e25-d18e-4825-b987-dcb9aafebe18",
   "metadata": {
    "tags": []
   },
   "outputs": [
    {
     "name": "stdout",
     "output_type": "stream",
     "text": [
      "Metrics\n"
     ]
    },
    {
     "data": {
      "text/plain": [
       "Accuracy     0.981687\n",
       "Recall       0.999849\n",
       "Precision    0.914295\n",
       "F1-score     0.955160\n",
       "Name: MLP, dtype: float64"
      ]
     },
     "metadata": {},
     "output_type": "display_data"
    },
    {
     "data": {
      "image/png": "[encoded data removed]",
      "text/plain": [
       "<Figure size 500x500 with 2 Axes>"
      ]
     },
     "metadata": {},
     "output_type": "display_data"
    }
   ],
   "source": [
    "getMetrics('MLP', y_test, y_pred)\n",
    "getCM('MLP', y_test, y_pred)"
   ]
  },
  {
   "cell_type": "code",
   "execution_count": 13,
   "id": "3f0f6e51-bea7-468b-9ea8-29835eecfff1",
   "metadata": {},
   "outputs": [],
   "source": [
    "save_model(model, './Models/MLP.h5')"
   ]
  },
  {
   "cell_type": "code",
   "execution_count": 10,
   "id": "042ef032-0903-4363-b2b6-be087e45f064",
   "metadata": {
    "tags": []
   },
   "outputs": [],
   "source": [
    "model = load_model('./Models/MLP.h5', compile=False)\n",
    "model.compile(\n",
    "    loss='binary_crossentropy',\n",
    "    optimizer='adam',\n",
    "    metrics=['accuracy']\n",
    ")"
   ]
  },
  {
   "cell_type": "code",
   "execution_count": null,
   "id": "f0a1ff77-47bd-46aa-8c54-3ff67ed5034b",
   "metadata": {},
   "outputs": [],
   "source": []
  }
 ],
 "metadata": {
  "environment": {
   "kernel": "tf",
   "name": "pytorch-gpu.1-13.m103",
   "type": "gcloud",
   "uri": "gcr.io/deeplearning-platform-release/pytorch-gpu.1-13:m103"
  },
  "kernelspec": {
   "display_name": "Python 3 (ipykernel)",
   "language": "python",
   "name": "python3"
  },
  "language_info": {
   "codemirror_mode": {
    "name": "ipython",
    "version": 3
   },
   "file_extension": ".py",
   "mimetype": "text/x-python",
   "name": "python",
   "nbconvert_exporter": "python",
   "pygments_lexer": "ipython3",
   "version": "3.7.16"
  }
 },
 "nbformat": 4,
 "nbformat_minor": 5
}
