{
 "cells": [
  {
   "cell_type": "code",
   "execution_count": 1,
   "id": "7ba0a3da-0e3c-4d85-8883-aa38d607cf28",
   "metadata": {
    "tags": []
   },
   "outputs": [],
   "source": [
    "import pickle\n",
    "import gym\n",
    "import pandas as pd\n",
    "import torch as th\n",
    "import numpy as np\n",
    "import os\n",
    "import random\n",
    "import matplotlib.pyplot as plt\n",
    "import seaborn as sns\n",
    "\n",
    "from sklearn import metrics\n",
    "from sklearn.utils.class_weight import compute_class_weight\n",
    "\n",
    "from stable_baselines3 import PPO\n",
    "from stable_baselines3.common.callbacks import BaseCallback\n",
    "from stable_baselines3.common.monitor import Monitor\n",
    "from stable_baselines3.common.utils import set_random_seed\n",
    "from stable_baselines3.common.vec_env import SubprocVecEnv"
   ]
  },
  {
   "cell_type": "code",
   "execution_count": 2,
   "id": "3a119d69-5451-4c5b-af6b-6bbe33204a2f",
   "metadata": {
    "tags": []
   },
   "outputs": [],
   "source": [
    "file_path = './final_ipynb/'"
   ]
  },
  {
   "cell_type": "code",
   "execution_count": 3,
   "id": "1d365cae-4aae-480e-91dc-28c7889a1c2a",
   "metadata": {
    "tags": []
   },
   "outputs": [],
   "source": [
    "# Retrieve the train and set data\n",
    "x_train_df, y_train_df = pd.read_csv(file_path+'x_train.csv'), pd.read_csv(file_path+'y_train.csv')\n",
    "x_test_df, y_test_df = pd.read_csv(file_path+'x_test.csv'), pd.read_csv(file_path+'y_test.csv')"
   ]
  },
  {
   "cell_type": "code",
   "execution_count": 4,
   "id": "c5775a5e-2dde-499a-9548-f5d88012c30e",
   "metadata": {
    "tags": []
   },
   "outputs": [],
   "source": [
    "# Save the name of the columns for XAI\n",
    "pickle.dump(x_train_df.columns.values, open(file_path+'transformed_columns.pkl', 'wb'))\n",
    "\n",
    "# Transform dataframe to numpy arrays for RL model\n",
    "x_train, y_train = x_train_df.values, y_train_df.values.flatten()\n",
    "x_test, y_test = x_test_df.values, y_test_df.values.flatten()\n",
    "\n",
    "# Delete original dataframe to save memory\n",
    "del x_train_df, y_train_df, x_test_df, y_test_df"
   ]
  },
  {
   "cell_type": "code",
   "execution_count": 5,
   "id": "160e8d8f-322e-484f-acc2-e4eb05db725a",
   "metadata": {
    "tags": []
   },
   "outputs": [],
   "source": [
    "rw_factor = compute_class_weight(class_weight='balanced',\n",
    "                                     classes=[0, 1],\n",
    "                                     y=y_train)\n",
    "\n",
    "minority_classes = [1]"
   ]
  },
  {
   "cell_type": "code",
   "execution_count": 6,
   "id": "29d86d6c-eb66-48f1-8c1f-d09f77a55b1e",
   "metadata": {
    "tags": []
   },
   "outputs": [],
   "source": [
    "class TrainEnv(gym.Env):\n",
    "    def __init__(self, dataset=(x_train, y_train), rw_factor=rw_factor, minority_classes=minority_classes):\n",
    "        \n",
    "        super().__init__()\n",
    "\n",
    "        self.x, self.y = dataset\n",
    "        self.rw_factor = rw_factor\n",
    "        self.idx = random.randint(0, len(self.x) - 1)\n",
    "        self.action_space = gym.spaces.Discrete(2)\n",
    "        self.observation_space = gym.spaces.Box(low=-1000, high=1000,\n",
    "                                                shape=(self.x.shape[1], ),\n",
    "                                                dtype=np.float32)\n",
    "        \n",
    "        self.minority_classes = minority_classes\n",
    "        self.step_counter = 0\n",
    "        self.max_steps = len(self.x)\n",
    "\n",
    "    def step(self, action):\n",
    "        done = False\n",
    "        \n",
    "        # Reward management\n",
    "        if int(action == self.expected_action):\n",
    "            reward = self.rw_factor[self.expected_action]\n",
    "        else:\n",
    "            reward = -self.rw_factor[self.expected_action]\n",
    "            if self.expected_action in self.minority_classes:\n",
    "                done = True\n",
    "\n",
    "        # Observation management\n",
    "        self.idx += 1\n",
    "        if self.idx >= len(self.x):\n",
    "            self.idx = 0\n",
    "        obs = self.seq_observation()\n",
    "\n",
    "        # Done management 2 -> If a whole sweep of X is achieved\n",
    "        self.step_counter += 1\n",
    "        if self.step_counter >= self.max_steps:\n",
    "            done = True\n",
    "        \n",
    "        return obs, reward, done, {}\n",
    "\n",
    "    def reset(self):\n",
    "        # Start from failed idx\n",
    "        self.step_counter = 0\n",
    "        obs = self.seq_observation()\n",
    "        return obs\n",
    "    \n",
    "    def seq_observation(self):        \n",
    "        obs = self.x[self.idx]\n",
    "        self.expected_action = self.y[self.idx]\n",
    "        return obs"
   ]
  },
  {
   "cell_type": "code",
   "execution_count": 7,
   "id": "23df752f-a2bd-469e-be05-064da0d2a8e2",
   "metadata": {},
   "outputs": [],
   "source": [
    "class SaveBest(BaseCallback):\n",
    "    def __init__(self, check_freq: int, log_dir: str, verbose: int = 0):\n",
    "        super(SaveBest, self).__init__(verbose)\n",
    "        self.check_freq = check_freq\n",
    "        self.log_dir = log_dir\n",
    "        self.save_path = os.path.join(log_dir, 'Models/PPO')        \n",
    "        self.max_score = -np.inf\n",
    "            \n",
    "    def _on_step(self) -> bool:\n",
    "        if self.n_calls % self.check_freq == 0:\n",
    "            current_score = self.compute_acc()\n",
    "            diff = current_score - self.max_score\n",
    "            \n",
    "            if diff > 0.001:\n",
    "                self.max_score = current_score\n",
    "                print(f'New best score at {self.num_timesteps}')\n",
    "                print(f'F1: {self.max_score}')\n",
    "                print('----- ----- -----')\n",
    "                self.model.save(self.save_path)\n",
    "\n",
    "        return True\n",
    "    \n",
    "    def compute_acc(self) -> float:\n",
    "        y_test_pred, _ = self.model.predict(x_test, deterministic=True)\n",
    "        current_score = metrics.f1_score(y_test, y_test_pred)\n",
    "        return current_score"
   ]
  },
  {
   "cell_type": "code",
   "execution_count": 8,
   "id": "25ed5b8a-ba2e-4a41-90c0-fc4ff50f4ae8",
   "metadata": {
    "tags": []
   },
   "outputs": [],
   "source": [
    "def make_env(rank, seed=0):\n",
    "    def _init():\n",
    "        env = TrainEnv()\n",
    "        env = Monitor(env, './')\n",
    "        env.seed(seed + rank)\n",
    "        return env\n",
    "    set_random_seed(seed)\n",
    "    return _init"
   ]
  },
  {
   "cell_type": "code",
   "execution_count": 9,
   "id": "b078d1eb-3f5f-46b6-be2d-49f93cb51c62",
   "metadata": {
    "tags": []
   },
   "outputs": [
    {
     "name": "stdout",
     "output_type": "stream",
     "text": [
      ":)\n"
     ]
    }
   ],
   "source": [
    "n_parallel_env = 10\n",
    "train_env = SubprocVecEnv([make_env(i) for i in range(n_parallel_env)])\n",
    "# train_env = TrainEnv()\n",
    "train_env.reset()\n",
    "print(':)')"
   ]
  },
  {
   "cell_type": "code",
   "execution_count": 10,
   "id": "b86763fa-13cb-4b08-80ec-f83bb2e01ebc",
   "metadata": {},
   "outputs": [],
   "source": [
    "policy_kwargs = dict(activation_fn=th.nn.ReLU,\n",
    "                     net_arch=dict(pi=[64, 64], vf=[64, 64]))\n",
    "\n",
    "\n",
    "model = PPO(policy='MlpPolicy',\n",
    "            env=train_env,\n",
    "            policy_kwargs=policy_kwargs)"
   ]
  },
  {
   "cell_type": "code",
   "execution_count": 11,
   "id": "ceb96332-f72d-4d6f-9455-092c113d3ed7",
   "metadata": {},
   "outputs": [
    {
     "data": {
      "application/vnd.jupyter.widget-view+json": {
       "model_id": "a9308e069276401c82f9310361c40e7e",
       "version_major": 2,
       "version_minor": 0
      },
      "text/plain": [
       "Output()"
      ]
     },
     "metadata": {},
     "output_type": "display_data"
    },
    {
     "data": {
      "text/html": [
       "<pre style=\"white-space:pre;overflow-x:auto;line-height:normal;font-family:Menlo,'DejaVu Sans Mono',consolas,'Courier New',monospace\">New best score at 1000\n",
       "</pre>\n"
      ],
      "text/plain": [
       "New best score at 1000\n"
      ]
     },
     "metadata": {},
     "output_type": "display_data"
    },
    {
     "data": {
      "text/html": [
       "<pre style=\"white-space:pre;overflow-x:auto;line-height:normal;font-family:Menlo,'DejaVu Sans Mono',consolas,'Courier New',monospace\">F1: 0.33412560115921885\n",
       "</pre>\n"
      ],
      "text/plain": [
       "F1: 0.33412560115921885\n"
      ]
     },
     "metadata": {},
     "output_type": "display_data"
    },
    {
     "data": {
      "text/html": [
       "<pre style=\"white-space:pre;overflow-x:auto;line-height:normal;font-family:Menlo,'DejaVu Sans Mono',consolas,'Courier New',monospace\">----- ----- -----\n",
       "</pre>\n"
      ],
      "text/plain": [
       "----- ----- -----\n"
      ]
     },
     "metadata": {},
     "output_type": "display_data"
    },
    {
     "data": {
      "text/html": [
       "<pre style=\"white-space:pre;overflow-x:auto;line-height:normal;font-family:Menlo,'DejaVu Sans Mono',consolas,'Courier New',monospace\">New best score at 21000\n",
       "</pre>\n"
      ],
      "text/plain": [
       "New best score at 21000\n"
      ]
     },
     "metadata": {},
     "output_type": "display_data"
    },
    {
     "data": {
      "text/html": [
       "<pre style=\"white-space:pre;overflow-x:auto;line-height:normal;font-family:Menlo,'DejaVu Sans Mono',consolas,'Courier New',monospace\">F1: 0.9421129762856382\n",
       "</pre>\n"
      ],
      "text/plain": [
       "F1: 0.9421129762856382\n"
      ]
     },
     "metadata": {},
     "output_type": "display_data"
    },
    {
     "data": {
      "text/html": [
       "<pre style=\"white-space:pre;overflow-x:auto;line-height:normal;font-family:Menlo,'DejaVu Sans Mono',consolas,'Courier New',monospace\">----- ----- -----\n",
       "</pre>\n"
      ],
      "text/plain": [
       "----- ----- -----\n"
      ]
     },
     "metadata": {},
     "output_type": "display_data"
    },
    {
     "data": {
      "text/html": [
       "<pre style=\"white-space:pre;overflow-x:auto;line-height:normal;font-family:Menlo,'DejaVu Sans Mono',consolas,'Courier New',monospace\">New best score at 62000\n",
       "</pre>\n"
      ],
      "text/plain": [
       "New best score at 62000\n"
      ]
     },
     "metadata": {},
     "output_type": "display_data"
    },
    {
     "data": {
      "text/html": [
       "<pre style=\"white-space:pre;overflow-x:auto;line-height:normal;font-family:Menlo,'DejaVu Sans Mono',consolas,'Courier New',monospace\">F1: 0.9452380838814614\n",
       "</pre>\n"
      ],
      "text/plain": [
       "F1: 0.9452380838814614\n"
      ]
     },
     "metadata": {},
     "output_type": "display_data"
    },
    {
     "data": {
      "text/html": [
       "<pre style=\"white-space:pre;overflow-x:auto;line-height:normal;font-family:Menlo,'DejaVu Sans Mono',consolas,'Courier New',monospace\">----- ----- -----\n",
       "</pre>\n"
      ],
      "text/plain": [
       "----- ----- -----\n"
      ]
     },
     "metadata": {},
     "output_type": "display_data"
    },
    {
     "data": {
      "text/html": [
       "<pre style=\"white-space:pre;overflow-x:auto;line-height:normal;font-family:Menlo,'DejaVu Sans Mono',consolas,'Courier New',monospace\">New best score at 1823000\n",
       "</pre>\n"
      ],
      "text/plain": [
       "New best score at 1823000\n"
      ]
     },
     "metadata": {},
     "output_type": "display_data"
    },
    {
     "data": {
      "text/html": [
       "<pre style=\"white-space:pre;overflow-x:auto;line-height:normal;font-family:Menlo,'DejaVu Sans Mono',consolas,'Courier New',monospace\">F1: 0.9463271573979872\n",
       "</pre>\n"
      ],
      "text/plain": [
       "F1: 0.9463271573979872\n"
      ]
     },
     "metadata": {},
     "output_type": "display_data"
    },
    {
     "data": {
      "text/html": [
       "<pre style=\"white-space:pre;overflow-x:auto;line-height:normal;font-family:Menlo,'DejaVu Sans Mono',consolas,'Courier New',monospace\">----- ----- -----\n",
       "</pre>\n"
      ],
      "text/plain": [
       "----- ----- -----\n"
      ]
     },
     "metadata": {},
     "output_type": "display_data"
    },
    {
     "data": {
      "text/html": [
       "<pre style=\"white-space:pre;overflow-x:auto;line-height:normal;font-family:Menlo,'DejaVu Sans Mono',consolas,'Courier New',monospace\"></pre>\n"
      ],
      "text/plain": []
     },
     "metadata": {},
     "output_type": "display_data"
    },
    {
     "data": {
      "text/html": [
       "<pre style=\"white-space:pre;overflow-x:auto;line-height:normal;font-family:Menlo,'DejaVu Sans Mono',consolas,'Courier New',monospace\">\n",
       "</pre>\n"
      ],
      "text/plain": [
       "\n"
      ]
     },
     "metadata": {},
     "output_type": "display_data"
    },
    {
     "data": {
      "text/plain": [
       "<stable_baselines3.ppo.ppo.PPO at 0x7f33f3e75110>"
      ]
     },
     "execution_count": 11,
     "metadata": {},
     "output_type": "execute_result"
    }
   ],
   "source": [
    "TIMESTEPS = len(x_train)\n",
    "callback = SaveBest(check_freq=10, log_dir='./')\n",
    "\n",
    "model.learn(total_timesteps=TIMESTEPS,\n",
    "            reset_num_timesteps=False,\n",
    "            progress_bar=True,\n",
    "            callback=callback)"
   ]
  },
  {
   "cell_type": "code",
   "execution_count": 12,
   "id": "d01a5653-8cb5-446e-a6e4-52317b6f775c",
   "metadata": {
    "tags": []
   },
   "outputs": [],
   "source": [
    "# model.save('PPO')\n",
    "model = PPO.load('./Models/PPO')"
   ]
  },
  {
   "cell_type": "code",
   "execution_count": 13,
   "id": "871a08f0-8b54-4f9b-a077-f81b01d17354",
   "metadata": {
    "tags": []
   },
   "outputs": [],
   "source": [
    "y_pred, _ = model.predict(x_test, deterministic=True)"
   ]
  },
  {
   "cell_type": "code",
   "execution_count": 14,
   "id": "82ba06d5-54e1-4860-8951-97a623add9e2",
   "metadata": {
    "tags": []
   },
   "outputs": [],
   "source": [
    "models_benchmark = pd.DataFrame(columns=['Accuracy', 'Recall', 'Precision', 'F1-score'])\n",
    "\n",
    "def getMetrics(model_name, y_truth, y_pred):\n",
    "    # Macro-avg is recommended to keep minority classes relevant\n",
    "    # Weighted-avg is recommended to keep majority classes relevant\n",
    "    print(f'Metrics')\n",
    "    acc = metrics.accuracy_score(y_truth, y_pred)\n",
    "    rec = metrics.recall_score(y_truth, y_pred, zero_division=0)\n",
    "    pre = metrics.precision_score(y_truth, y_pred, zero_division=0)\n",
    "    f1s = metrics.f1_score(y_truth, y_pred, zero_division=0)\n",
    "\n",
    "    models_benchmark.loc[model_name] = [acc, rec, pre, f1s]\n",
    "    display(models_benchmark.loc[model_name])\n",
    "    return\n",
    "\n",
    "def getCM(model_name, y_test, y_pred):\n",
    "    cm = metrics.confusion_matrix(y_test, y_pred)\n",
    "    cm_normalized = cm.astype('float') / cm.sum(axis=1)[:, np.newaxis]\n",
    "\n",
    "    plt.figure(figsize=(5,5))\n",
    "    plt.title(f'{model_name}', fontsize=20)\n",
    "\n",
    "    sns.heatmap(cm_normalized, annot=True, fmt='.3f')\n",
    "\n",
    "    plt.xticks(rotation=45)\n",
    "    plt.ylabel('Real outcome', fontsize=16)\n",
    "    plt.xlabel('Predicted outcome', fontsize=16)\n",
    "    plt.ioff()\n",
    "    plt.show()\n",
    "    return"
   ]
  },
  {
   "cell_type": "code",
   "execution_count": 15,
   "id": "0d4c8a4f-0614-447b-b63e-35dfaba6ef36",
   "metadata": {
    "tags": []
   },
   "outputs": [
    {
     "name": "stdout",
     "output_type": "stream",
     "text": [
      "Metrics\n"
     ]
    },
    {
     "data": {
      "text/plain": [
       "Accuracy     0.977880\n",
       "Recall       0.999627\n",
       "Precision    0.898424\n",
       "F1-score     0.946327\n",
       "Name: PPO, dtype: float64"
      ]
     },
     "metadata": {},
     "output_type": "display_data"
    },
    {
     "data": {
      "image/png": "[encoded data removed]",
      "text/plain": [
       "<Figure size 500x500 with 2 Axes>"
      ]
     },
     "metadata": {},
     "output_type": "display_data"
    }
   ],
   "source": [
    "getMetrics('PPO', y_test, y_pred)\n",
    "getCM('PPO', y_test, y_pred)"
   ]
  },
  {
   "cell_type": "code",
   "execution_count": null,
   "id": "ab04df1c-68f2-4216-9519-e2fd3431d197",
   "metadata": {},
   "outputs": [],
   "source": []
  }
 ],
 "metadata": {
  "environment": {
   "kernel": "python3",
   "name": "pytorch-gpu.1-13.m103",
   "type": "gcloud",
   "uri": "gcr.io/deeplearning-platform-release/pytorch-gpu.1-13:m103"
  },
  "kernelspec": {
   "display_name": "Python 3 (ipykernel)",
   "language": "python",
   "name": "python3"
  },
  "language_info": {
   "codemirror_mode": {
    "name": "ipython",
    "version": 3
   },
   "file_extension": ".py",
   "mimetype": "text/x-python",
   "name": "python",
   "nbconvert_exporter": "python",
   "pygments_lexer": "ipython3",
   "version": "3.7.16"
  }
 },
 "nbformat": 4,
 "nbformat_minor": 5
}
