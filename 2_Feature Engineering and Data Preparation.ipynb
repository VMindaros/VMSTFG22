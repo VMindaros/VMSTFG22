{
 "cells": [
  {
   "cell_type": "markdown",
   "metadata": {
    "colab_type": "text",
    "id": "YWffoP0FqwE4"
   },
   "source": [
    "# UNSW-NB15: Feature Engineering"
   ]
  },
  {
   "cell_type": "code",
   "execution_count": 1,
   "metadata": {
    "tags": []
   },
   "outputs": [],
   "source": [
    "import numpy as np  # for array\n",
    "import pandas as pd  # for csv files and dataframe\n",
    "import matplotlib.pyplot as plt  # for plotting\n",
    "import seaborn as sns  # plotting\n",
    "from scipy import stats\n",
    "\n",
    "import pickle  # To load data int disk\n",
    "from prettytable import PrettyTable  # To print in tabular format\n",
    "\n",
    "import warnings\n",
    "warnings.filterwarnings(\"ignore\")\n",
    "\n",
    "from sklearn.preprocessing import StandardScaler\n",
    "from sklearn.preprocessing import LabelEncoder, OneHotEncoder\n",
    "\n",
    "from sklearn.model_selection import train_test_split\n",
    "from sklearn.linear_model import LogisticRegression, SGDClassifier\n",
    "from sklearn.svm import LinearSVC\n",
    "from sklearn.naive_bayes import MultinomialNB\n",
    "from sklearn.tree import DecisionTreeClassifier\n",
    "from sklearn.ensemble import RandomForestClassifier\n",
    "import xgboost as xgb\n",
    "\n",
    "from sklearn.metrics import accuracy_score, confusion_matrix, make_scorer\n",
    "from sklearn.metrics import auc, f1_score, roc_curve\n",
    "from sklearn.model_selection import GridSearchCV, RandomizedSearchCV\n",
    "from sklearn.model_selection import cross_validate, cross_val_predict\n",
    "\n",
    "%matplotlib inline"
   ]
  },
  {
   "cell_type": "code",
   "execution_count": 2,
   "metadata": {
    "tags": []
   },
   "outputs": [],
   "source": [
    "file_path = \"./final_ipynb/\""
   ]
  },
  {
   "cell_type": "code",
   "execution_count": 3,
   "metadata": {
    "tags": []
   },
   "outputs": [],
   "source": [
    "saved_dict = pickle.load(open(file_path+'saved_dict.pkl', 'rb'))"
   ]
  },
  {
   "cell_type": "code",
   "execution_count": 4,
   "metadata": {
    "colab": {},
    "colab_type": "code",
    "id": "NOMATARHRcV5",
    "tags": []
   },
   "outputs": [],
   "source": [
    "# Loading data from disk\n",
    "train = pd.read_csv(file_path+'train_alldata_EDA.csv')\n",
    "test = pd.read_csv(file_path+'test_alldata_EDA.csv')"
   ]
  },
  {
   "cell_type": "code",
   "execution_count": 5,
   "metadata": {
    "colab": {},
    "colab_type": "code",
    "id": "fIc3neXESMFG",
    "tags": []
   },
   "outputs": [],
   "source": [
    "# Utility function\n",
    "def multi_corr(col1, col2=\"label\", df=train):\n",
    "    '''\n",
    "    This function returns correlation between 2 given features.\n",
    "    Also gives corr of the given features with \"label\" afetr applying log1p to it.\n",
    "    '''\n",
    "    corr = df[[col1, col2]].corr().iloc[0,1]\n",
    "    log_corr = df[col1].apply(np.log1p).corr(df[col2])\n",
    "\n",
    "    print(\"Correlation : {}\\nlog_Correlation: {}\".format(corr, log_corr))"
   ]
  },
  {
   "cell_type": "code",
   "execution_count": 6,
   "metadata": {
    "colab": {},
    "colab_type": "code",
    "id": "3LJoqWxGSMFK",
    "tags": []
   },
   "outputs": [],
   "source": [
    "def corr(col1, col2=\"label\", df=train):\n",
    "    \"\"\"\n",
    "    This function returns correlation between 2 given features\n",
    "    \"\"\"\n",
    "    return df[[col1, col2]].corr().iloc[0,1]"
   ]
  },
  {
   "cell_type": "markdown",
   "metadata": {
    "colab_type": "text",
    "id": "2QWyeKKUQsz4"
   },
   "source": [
    "## Removing highly correlated features"
   ]
  },
  {
   "cell_type": "code",
   "execution_count": 7,
   "metadata": {
    "colab": {},
    "colab_type": "code",
    "id": "wloRudezQsz7",
    "tags": []
   },
   "outputs": [],
   "source": [
    "# Selecting all the features with high correlation values with other features\n",
    "# Refer: https://chrisalbon.com/machine_learning/feature_selection/drop_highly_correlated_features/\n",
    "corr_matrix = train.corr().abs()\n",
    "\n",
    "# Select upper triangle of correlation matrix\n",
    "upper = corr_matrix.where(np.triu(np.ones(corr_matrix.shape), k=1).astype(bool))\n",
    "\n",
    "# Find index of feature columns with correlation greater than 0.9\n",
    "to_drop = [column for column in upper.columns if any(upper[column] > 0.95)]"
   ]
  },
  {
   "cell_type": "code",
   "execution_count": 8,
   "metadata": {
    "colab": {
     "base_uri": "https://localhost:8080/",
     "height": 34
    },
    "colab_type": "code",
    "executionInfo": {
     "elapsed": 1980,
     "status": "ok",
     "timestamp": 1598254586384,
     "user": {
      "displayName": "Subrata Maji",
      "photoUrl": "https://lh3.googleusercontent.com/a-/AOh14Ghxu8VIGqB6XL51-t5wM_f1R1LdmEePYHIwb9b-=s64",
      "userId": "03124174213573157612"
     },
     "user_tz": -330
    },
    "id": "cyd3R92wQs0C",
    "outputId": "6783c75c-abb2-4120-9d13-9a76e4d8b41e",
    "tags": []
   },
   "outputs": [
    {
     "name": "stdout",
     "output_type": "stream",
     "text": [
      "['dloss', 'dpkts', 'dwin', 'ltime', 'ct_src_dport_ltm']\n"
     ]
    }
   ],
   "source": [
    "# We don't want to use these features for plotting because these are having high corr\n",
    "# And most likely have same kind of plots with already plotted feature\n",
    "print(to_drop)"
   ]
  },
  {
   "cell_type": "code",
   "execution_count": 9,
   "metadata": {
    "colab": {},
    "colab_type": "code",
    "id": "PWylTNjdQs0H",
    "tags": []
   },
   "outputs": [],
   "source": [
    "saved_dict['corr_col'] = to_drop"
   ]
  },
  {
   "cell_type": "code",
   "execution_count": 10,
   "metadata": {
    "colab": {},
    "colab_type": "code",
    "id": "C0-3uVfIQs0M",
    "tags": []
   },
   "outputs": [],
   "source": [
    "# removing the features from train and test data\n",
    "train.drop(columns=to_drop, inplace=True)"
   ]
  },
  {
   "cell_type": "code",
   "execution_count": 11,
   "metadata": {
    "colab": {
     "base_uri": "https://localhost:8080/",
     "height": 34
    },
    "colab_type": "code",
    "executionInfo": {
     "elapsed": 742,
     "status": "ok",
     "timestamp": 1598254591696,
     "user": {
      "displayName": "Subrata Maji",
      "photoUrl": "https://lh3.googleusercontent.com/a-/AOh14Ghxu8VIGqB6XL51-t5wM_f1R1LdmEePYHIwb9b-=s64",
      "userId": "03124174213573157612"
     },
     "user_tz": -330
    },
    "id": "BFYbC6urQs0Q",
    "outputId": "9d85f065-04de-4d79-d028-62272a1c9c58",
    "tags": []
   },
   "outputs": [
    {
     "data": {
      "text/plain": [
       "((2032037, 44), (508010, 49))"
      ]
     },
     "execution_count": 11,
     "metadata": {},
     "output_type": "execute_result"
    }
   ],
   "source": [
    "train.shape, test.shape"
   ]
  },
  {
   "cell_type": "markdown",
   "metadata": {
    "colab_type": "text",
    "id": "6oqmHrbOrB16"
   },
   "source": [
    "## Adding New Features\n",
    "\n",
    "Refer: https://www.elastic.co/guide/en/ecs/master/ecs-network.html\n",
    "* Network bytes: Total bytes trasferred by the network. It is sum of 'sbytes' (Source to destination bytes) and 'dbytes' (Destination to source bytes)."
   ]
  },
  {
   "cell_type": "code",
   "execution_count": 12,
   "metadata": {
    "colab": {},
    "colab_type": "code",
    "id": "amjoXyqG0UfC",
    "tags": []
   },
   "outputs": [],
   "source": [
    "# creating new features\n",
    "train['network_bytes'] = train['sbytes'] + train['dbytes']"
   ]
  },
  {
   "cell_type": "code",
   "execution_count": 13,
   "metadata": {
    "colab": {
     "base_uri": "https://localhost:8080/",
     "height": 34
    },
    "colab_type": "code",
    "executionInfo": {
     "elapsed": 862,
     "status": "ok",
     "timestamp": 1598254597524,
     "user": {
      "displayName": "Subrata Maji",
      "photoUrl": "https://lh3.googleusercontent.com/a-/AOh14Ghxu8VIGqB6XL51-t5wM_f1R1LdmEePYHIwb9b-=s64",
      "userId": "03124174213573157612"
     },
     "user_tz": -330
    },
    "id": "E5M8hMaLrGrw",
    "outputId": "af23a58a-56cd-4c56-ecca-9f91efbd78f4",
    "tags": []
   },
   "outputs": [
    {
     "data": {
      "text/plain": [
       "((2032037, 45), (508010, 49))"
      ]
     },
     "execution_count": 13,
     "metadata": {},
     "output_type": "execute_result"
    }
   ],
   "source": [
    "train.shape, test.shape"
   ]
  },
  {
   "cell_type": "code",
   "execution_count": 14,
   "metadata": {
    "colab": {},
    "colab_type": "code",
    "id": "0Bht_lnc2S62",
    "tags": []
   },
   "outputs": [],
   "source": [
    "# Dropping columns which are not useful for the classification\n",
    "# attack_cat is for multiclass classification\n",
    "# all the other columns are address related and not present in sample train data\n",
    "train.drop(['srcip', 'sport', 'dstip', 'dsport', 'attack_cat'], axis=1, inplace=True)"
   ]
  },
  {
   "cell_type": "code",
   "execution_count": 15,
   "metadata": {
    "colab": {},
    "colab_type": "code",
    "id": "qKmGyfTs_rrw",
    "tags": []
   },
   "outputs": [],
   "source": [
    "# To use during test data transformation\n",
    "saved_dict['to_drop'] = ['srcip', 'sport', 'dstip', 'dsport', 'attack_cat']"
   ]
  },
  {
   "cell_type": "code",
   "execution_count": 16,
   "metadata": {
    "colab": {
     "base_uri": "https://localhost:8080/",
     "height": 34
    },
    "colab_type": "code",
    "executionInfo": {
     "elapsed": 1665,
     "status": "ok",
     "timestamp": 1598254605266,
     "user": {
      "displayName": "Subrata Maji",
      "photoUrl": "https://lh3.googleusercontent.com/a-/AOh14Ghxu8VIGqB6XL51-t5wM_f1R1LdmEePYHIwb9b-=s64",
      "userId": "03124174213573157612"
     },
     "user_tz": -330
    },
    "id": "1MN4vE9aQT_V",
    "outputId": "e8112a4e-173d-4862-da60-137b420bcf95",
    "tags": []
   },
   "outputs": [
    {
     "data": {
      "text/plain": [
       "((2032037, 40), (508010, 49))"
      ]
     },
     "execution_count": 16,
     "metadata": {},
     "output_type": "execute_result"
    }
   ],
   "source": [
    "train.shape, test.shape"
   ]
  },
  {
   "cell_type": "markdown",
   "metadata": {
    "colab_type": "text",
    "id": "KiifyFft0GSo"
   },
   "source": [
    "## Applying log1p on Numerical columns\n",
    "\n",
    "During EDA we found that few numerical columns shows better visualization for pdf curves if we apply log1p to the columns.\n",
    "\n",
    "So I thought to try log1p on all the columns and check the correlation value of the original column and log1p column with target column i.e. \"label\""
   ]
  },
  {
   "cell_type": "code",
   "execution_count": 17,
   "metadata": {
    "colab": {},
    "colab_type": "code",
    "id": "JjpXQ3oWrmiI",
    "tags": []
   },
   "outputs": [],
   "source": [
    "# Getting number of unique values of all the columns\n",
    "# If the unique values are high that means it has continuous set of values\n",
    "col_unique_values = train.nunique()"
   ]
  },
  {
   "cell_type": "code",
   "execution_count": 18,
   "metadata": {
    "colab": {},
    "colab_type": "code",
    "id": "tf9pWtnWulGB",
    "tags": []
   },
   "outputs": [],
   "source": [
    "# If the unique values are getter than some threshould than we will check its corr\n",
    "col = col_unique_values[col_unique_values>200].index"
   ]
  },
  {
   "cell_type": "code",
   "execution_count": 19,
   "metadata": {
    "colab": {
     "base_uri": "https://localhost:8080/",
     "height": 1000
    },
    "colab_type": "code",
    "executionInfo": {
     "elapsed": 3776,
     "status": "ok",
     "timestamp": 1598252740703,
     "user": {
      "displayName": "Subrata Maji",
      "photoUrl": "https://lh3.googleusercontent.com/a-/AOh14Ghxu8VIGqB6XL51-t5wM_f1R1LdmEePYHIwb9b-=s64",
      "userId": "03124174213573157612"
     },
     "user_tz": -330
    },
    "id": "NC0f9_qLwMm5",
    "outputId": "29e12135-6ac1-4a7e-caea-fd72213bbf2c",
    "tags": []
   },
   "outputs": [
    {
     "name": "stdout",
     "output_type": "stream",
     "text": [
      "-------------dur--------------\n",
      "Correlation : -0.0002745058290609313\n",
      "log_Correlation: -0.03693554176498668\n",
      "------------sbytes------------\n",
      "Correlation : 0.010095279709733698\n",
      "log_Correlation: -0.3405661153969544\n",
      "------------dbytes------------\n",
      "Correlation : -0.07184729733702347\n",
      "log_Correlation: -0.5205853978490864\n",
      "------------sloss-------------\n",
      "Correlation : -0.043374126008650975\n",
      "log_Correlation: -0.29101957669235745\n",
      "------------sload-------------\n",
      "Correlation : 0.21477885640137434\n",
      "log_Correlation: 0.3510714305228587\n",
      "------------dload-------------\n",
      "Correlation : -0.20882598322673818\n",
      "log_Correlation: -0.6139366298720378\n",
      "------------spkts-------------\n",
      "Correlation : -0.1170186810172029\n",
      "log_Correlation: -0.30592842917677887\n",
      "------------stcpb-------------\n",
      "Correlation : -0.2226408378141495\n",
      "log_Correlation: -0.30279805875915294\n",
      "------------dtcpb-------------\n",
      "Correlation : -0.22255599540386262\n",
      "log_Correlation: -0.3026023459994278\n",
      "-----------smeansz------------\n",
      "Correlation : -0.059085556417158416\n",
      "log_Correlation: -0.1346757841365165\n",
      "-----------dmeansz------------\n",
      "Correlation : -0.2613123284196548\n",
      "log_Correlation: -0.5731043235540143\n",
      "---------res_bdy_len----------\n",
      "Correlation : -0.02705397369086695\n",
      "log_Correlation: -0.06516546608572987\n",
      "-------------sjit-------------\n",
      "Correlation : 0.021683390356634042\n",
      "log_Correlation: -0.18164634025713242\n",
      "-------------djit-------------\n",
      "Correlation : -0.050330594108302616\n",
      "log_Correlation: -0.19695901404056226\n",
      "------------stime-------------\n",
      "Correlation : 0.30527306126153314\n",
      "log_Correlation: 0.3052724080255029\n",
      "-----------sintpkt------------\n",
      "Correlation : -0.018841805140708046\n",
      "log_Correlation: -0.07869011098822397\n",
      "-----------dintpkt------------\n",
      "Correlation : -0.010309607981741575\n",
      "log_Correlation: -0.0754159180482694\n",
      "------------tcprtt------------\n",
      "Correlation : 0.16436329188179555\n",
      "log_Correlation: 0.19933587230456684\n",
      "------------synack------------\n",
      "Correlation : 0.1428130334138819\n",
      "log_Correlation: 0.1688947323281265\n",
      "------------ackdat------------\n",
      "Correlation : 0.16419750661795474\n",
      "log_Correlation: 0.19363213046914568\n",
      "--------network_bytes---------\n",
      "Correlation : -0.06417822277860202\n",
      "log_Correlation: -0.39699709000394146\n"
     ]
    }
   ],
   "source": [
    "# Checking corr value of original col and log1p applied col\n",
    "# Taking those columns whose unique values are getter than some threshould\n",
    "for column in col:\n",
    "    print(\"{:-^30}\".format(column))\n",
    "    multi_corr(column)"
   ]
  },
  {
   "cell_type": "code",
   "execution_count": 20,
   "metadata": {
    "colab": {},
    "colab_type": "code",
    "id": "a0ydWVD2yQ-l",
    "tags": []
   },
   "outputs": [],
   "source": [
    "# Will apply log1p on this columns and remove original columns\n",
    "log1p_col = ['dur', 'sbytes', 'dbytes', 'sload', 'dload', 'spkts', 'stcpb', 'dtcpb', 'smeansz', 'dmeansz', 'sjit', 'djit', 'network_bytes']"
   ]
  },
  {
   "cell_type": "code",
   "execution_count": 21,
   "metadata": {
    "colab": {},
    "colab_type": "code",
    "id": "NaP_SChj_3x_",
    "tags": []
   },
   "outputs": [],
   "source": [
    "saved_dict['log1p_col'] = log1p_col"
   ]
  },
  {
   "cell_type": "code",
   "execution_count": 22,
   "metadata": {
    "colab": {},
    "colab_type": "code",
    "id": "ibWUIhAU_8Em",
    "tags": []
   },
   "outputs": [],
   "source": [
    "# mode values of every features, will use to fill Null values of test\n",
    "mode_dict = train.mode().iloc[0].to_dict()"
   ]
  },
  {
   "cell_type": "code",
   "execution_count": 23,
   "metadata": {
    "colab": {},
    "colab_type": "code",
    "id": "Ck9W5AcD4nOk",
    "tags": []
   },
   "outputs": [],
   "source": [
    "def log1p_transform(col, df=train):\n",
    "    '''\n",
    "    Apply log1p on given column.\n",
    "    Remove the original cola and keep log1p applied col\n",
    "    '''\n",
    "    new_col = col+'_log1p'\n",
    "    df[new_col] = df[col].apply(np.log1p)\n",
    "    df.drop(col, axis=1, inplace=True)"
   ]
  },
  {
   "cell_type": "code",
   "execution_count": 24,
   "metadata": {
    "colab": {},
    "colab_type": "code",
    "id": "l4JWdr225k9S",
    "tags": []
   },
   "outputs": [],
   "source": [
    "# Transforming columns with log1p\n",
    "for col in log1p_col:\n",
    "    log1p_transform(col, df=train)"
   ]
  },
  {
   "cell_type": "code",
   "execution_count": 25,
   "metadata": {
    "colab": {
     "base_uri": "https://localhost:8080/",
     "height": 34
    },
    "colab_type": "code",
    "executionInfo": {
     "elapsed": 1270,
     "status": "ok",
     "timestamp": 1598254631197,
     "user": {
      "displayName": "Subrata Maji",
      "photoUrl": "https://lh3.googleusercontent.com/a-/AOh14Ghxu8VIGqB6XL51-t5wM_f1R1LdmEePYHIwb9b-=s64",
      "userId": "03124174213573157612"
     },
     "user_tz": -330
    },
    "id": "ZsgRqtKaSz1j",
    "outputId": "59497e73-3b4f-45e3-93f3-28a4e979384b",
    "tags": []
   },
   "outputs": [
    {
     "data": {
      "text/plain": [
       "(2032037, 40)"
      ]
     },
     "execution_count": 25,
     "metadata": {},
     "output_type": "execute_result"
    }
   ],
   "source": [
    "train.shape"
   ]
  },
  {
   "cell_type": "code",
   "execution_count": 26,
   "metadata": {
    "colab": {
     "base_uri": "https://localhost:8080/",
     "height": 170
    },
    "colab_type": "code",
    "executionInfo": {
     "elapsed": 1467,
     "status": "ok",
     "timestamp": 1598254633748,
     "user": {
      "displayName": "Subrata Maji",
      "photoUrl": "https://lh3.googleusercontent.com/a-/AOh14Ghxu8VIGqB6XL51-t5wM_f1R1LdmEePYHIwb9b-=s64",
      "userId": "03124174213573157612"
     },
     "user_tz": -330
    },
    "id": "yrLZ3F9T5y_x",
    "outputId": "c0b56aca-287c-487c-cb7d-04e237af731f",
    "tags": []
   },
   "outputs": [
    {
     "data": {
      "text/plain": [
       "Index(['proto', 'state', 'sttl', 'dttl', 'sloss', 'service', 'swin',\n",
       "       'trans_depth', 'res_bdy_len', 'stime', 'sintpkt', 'dintpkt', 'tcprtt',\n",
       "       'synack', 'ackdat', 'is_sm_ips_ports', 'ct_state_ttl',\n",
       "       'ct_flw_http_mthd', 'is_ftp_login', 'ct_ftp_cmd', 'ct_srv_src',\n",
       "       'ct_srv_dst', 'ct_dst_ltm', 'ct_src_ltm', 'ct_dst_sport_ltm',\n",
       "       'ct_dst_src_ltm', 'label', 'dur_log1p', 'sbytes_log1p', 'dbytes_log1p',\n",
       "       'sload_log1p', 'dload_log1p', 'spkts_log1p', 'stcpb_log1p',\n",
       "       'dtcpb_log1p', 'smeansz_log1p', 'dmeansz_log1p', 'sjit_log1p',\n",
       "       'djit_log1p', 'network_bytes_log1p'],\n",
       "      dtype='object')"
      ]
     },
     "execution_count": 26,
     "metadata": {},
     "output_type": "execute_result"
    }
   ],
   "source": [
    "train.columns"
   ]
  },
  {
   "cell_type": "code",
   "execution_count": 27,
   "metadata": {
    "colab": {
     "base_uri": "https://localhost:8080/",
     "height": 34
    },
    "colab_type": "code",
    "executionInfo": {
     "elapsed": 2037,
     "status": "ok",
     "timestamp": 1598254639075,
     "user": {
      "displayName": "Subrata Maji",
      "photoUrl": "https://lh3.googleusercontent.com/a-/AOh14Ghxu8VIGqB6XL51-t5wM_f1R1LdmEePYHIwb9b-=s64",
      "userId": "03124174213573157612"
     },
     "user_tz": -330
    },
    "id": "QXO4fhjU58gH",
    "outputId": "42a284f7-3dd3-4fcf-c970-7835ff6ce68a",
    "tags": []
   },
   "outputs": [
    {
     "data": {
      "text/plain": [
       "((2032037, 40), (508010, 49))"
      ]
     },
     "execution_count": 27,
     "metadata": {},
     "output_type": "execute_result"
    }
   ],
   "source": [
    "train.shape, test.shape"
   ]
  },
  {
   "cell_type": "code",
   "execution_count": 28,
   "metadata": {
    "colab": {},
    "colab_type": "code",
    "id": "5YvVxlBS6Anw",
    "tags": []
   },
   "outputs": [],
   "source": [
    "# creating x and y set from the dataset\n",
    "x_train, y_train = train.drop(columns=['label']), train['label']\n",
    "x_test, y_test = test.drop(columns=['label']), test['label']"
   ]
  },
  {
   "cell_type": "code",
   "execution_count": 29,
   "metadata": {
    "colab": {
     "base_uri": "https://localhost:8080/",
     "height": 68
    },
    "colab_type": "code",
    "executionInfo": {
     "elapsed": 996,
     "status": "ok",
     "timestamp": 1598252886305,
     "user": {
      "displayName": "Subrata Maji",
      "photoUrl": "https://lh3.googleusercontent.com/a-/AOh14Ghxu8VIGqB6XL51-t5wM_f1R1LdmEePYHIwb9b-=s64",
      "userId": "03124174213573157612"
     },
     "user_tz": -330
    },
    "id": "_rcY9ebK6USH",
    "outputId": "57848477-e19f-411a-fd58-83a1820d4724",
    "tags": []
   },
   "outputs": [
    {
     "name": "stdout",
     "output_type": "stream",
     "text": [
      "(2032037, 39) (2032037,)\n",
      "\n",
      "(508010, 48) (508010,)\n"
     ]
    }
   ],
   "source": [
    "print(x_train.shape, y_train.shape)\n",
    "print()\n",
    "print(x_test.shape, y_test.shape)"
   ]
  },
  {
   "cell_type": "code",
   "execution_count": 30,
   "metadata": {
    "colab": {},
    "colab_type": "code",
    "id": "vXxUr-le6YNY",
    "tags": []
   },
   "outputs": [],
   "source": [
    "# getting categorical and numerical columns in 2 diff lists\n",
    "cat_col = ['proto', 'service', 'state']\n",
    "num_col = list(set(x_train.columns) - set(cat_col))"
   ]
  },
  {
   "cell_type": "code",
   "execution_count": 31,
   "metadata": {
    "colab": {},
    "colab_type": "code",
    "id": "rvGoI5IMAO1N",
    "tags": []
   },
   "outputs": [],
   "source": [
    "# To use later, during test data cleaning\n",
    "saved_dict['cat_col'] = cat_col\n",
    "saved_dict['num_col'] = num_col"
   ]
  },
  {
   "cell_type": "code",
   "execution_count": 32,
   "metadata": {
    "colab": {
     "base_uri": "https://localhost:8080/",
     "height": 224
    },
    "colab_type": "code",
    "executionInfo": {
     "elapsed": 738,
     "status": "ok",
     "timestamp": 1598252897213,
     "user": {
      "displayName": "Subrata Maji",
      "photoUrl": "https://lh3.googleusercontent.com/a-/AOh14Ghxu8VIGqB6XL51-t5wM_f1R1LdmEePYHIwb9b-=s64",
      "userId": "03124174213573157612"
     },
     "user_tz": -330
    },
    "id": "-QcxEKUz6kOj",
    "outputId": "c4781242-72ec-4990-cc29-3eeed91a7ef4",
    "tags": []
   },
   "outputs": [
    {
     "data": {
      "text/html": [
       "<div>\n",
       "<style scoped>\n",
       "    .dataframe tbody tr th:only-of-type {\n",
       "        vertical-align: middle;\n",
       "    }\n",
       "\n",
       "    .dataframe tbody tr th {\n",
       "        vertical-align: top;\n",
       "    }\n",
       "\n",
       "    .dataframe thead th {\n",
       "        text-align: right;\n",
       "    }\n",
       "</style>\n",
       "<table border=\"1\" class=\"dataframe\">\n",
       "  <thead>\n",
       "    <tr style=\"text-align: right;\">\n",
       "      <th></th>\n",
       "      <th>proto</th>\n",
       "      <th>state</th>\n",
       "      <th>sttl</th>\n",
       "      <th>dttl</th>\n",
       "      <th>sloss</th>\n",
       "      <th>service</th>\n",
       "      <th>swin</th>\n",
       "      <th>trans_depth</th>\n",
       "      <th>res_bdy_len</th>\n",
       "      <th>stime</th>\n",
       "      <th>...</th>\n",
       "      <th>sload_log1p</th>\n",
       "      <th>dload_log1p</th>\n",
       "      <th>spkts_log1p</th>\n",
       "      <th>stcpb_log1p</th>\n",
       "      <th>dtcpb_log1p</th>\n",
       "      <th>smeansz_log1p</th>\n",
       "      <th>dmeansz_log1p</th>\n",
       "      <th>sjit_log1p</th>\n",
       "      <th>djit_log1p</th>\n",
       "      <th>network_bytes_log1p</th>\n",
       "    </tr>\n",
       "  </thead>\n",
       "  <tbody>\n",
       "    <tr>\n",
       "      <th>0</th>\n",
       "      <td>udp</td>\n",
       "      <td>CON</td>\n",
       "      <td>31</td>\n",
       "      <td>29</td>\n",
       "      <td>0</td>\n",
       "      <td>dns</td>\n",
       "      <td>0</td>\n",
       "      <td>0</td>\n",
       "      <td>0</td>\n",
       "      <td>1421927414</td>\n",
       "      <td>...</td>\n",
       "      <td>13.123313</td>\n",
       "      <td>13.340377</td>\n",
       "      <td>1.098612</td>\n",
       "      <td>0.0</td>\n",
       "      <td>0.0</td>\n",
       "      <td>4.204693</td>\n",
       "      <td>4.418841</td>\n",
       "      <td>0.000000</td>\n",
       "      <td>0.000000</td>\n",
       "      <td>5.693732</td>\n",
       "    </tr>\n",
       "    <tr>\n",
       "      <th>1</th>\n",
       "      <td>udp</td>\n",
       "      <td>CON</td>\n",
       "      <td>31</td>\n",
       "      <td>29</td>\n",
       "      <td>0</td>\n",
       "      <td>None</td>\n",
       "      <td>0</td>\n",
       "      <td>0</td>\n",
       "      <td>0</td>\n",
       "      <td>1421927414</td>\n",
       "      <td>...</td>\n",
       "      <td>11.381416</td>\n",
       "      <td>10.829356</td>\n",
       "      <td>1.609438</td>\n",
       "      <td>0.0</td>\n",
       "      <td>0.0</td>\n",
       "      <td>4.890349</td>\n",
       "      <td>4.343805</td>\n",
       "      <td>2.387938</td>\n",
       "      <td>2.458112</td>\n",
       "      <td>6.725034</td>\n",
       "    </tr>\n",
       "    <tr>\n",
       "      <th>2</th>\n",
       "      <td>udp</td>\n",
       "      <td>CON</td>\n",
       "      <td>31</td>\n",
       "      <td>29</td>\n",
       "      <td>0</td>\n",
       "      <td>dns</td>\n",
       "      <td>0</td>\n",
       "      <td>0</td>\n",
       "      <td>0</td>\n",
       "      <td>1421927414</td>\n",
       "      <td>...</td>\n",
       "      <td>13.165223</td>\n",
       "      <td>13.363399</td>\n",
       "      <td>1.098612</td>\n",
       "      <td>0.0</td>\n",
       "      <td>0.0</td>\n",
       "      <td>4.304065</td>\n",
       "      <td>4.499810</td>\n",
       "      <td>0.000000</td>\n",
       "      <td>0.000000</td>\n",
       "      <td>5.783825</td>\n",
       "    </tr>\n",
       "    <tr>\n",
       "      <th>3</th>\n",
       "      <td>udp</td>\n",
       "      <td>CON</td>\n",
       "      <td>31</td>\n",
       "      <td>29</td>\n",
       "      <td>0</td>\n",
       "      <td>dns</td>\n",
       "      <td>0</td>\n",
       "      <td>0</td>\n",
       "      <td>0</td>\n",
       "      <td>1421927414</td>\n",
       "      <td>...</td>\n",
       "      <td>12.987060</td>\n",
       "      <td>13.204124</td>\n",
       "      <td>1.098612</td>\n",
       "      <td>0.0</td>\n",
       "      <td>0.0</td>\n",
       "      <td>4.204693</td>\n",
       "      <td>4.418841</td>\n",
       "      <td>0.000000</td>\n",
       "      <td>0.000000</td>\n",
       "      <td>5.693732</td>\n",
       "    </tr>\n",
       "    <tr>\n",
       "      <th>4</th>\n",
       "      <td>udp</td>\n",
       "      <td>CON</td>\n",
       "      <td>31</td>\n",
       "      <td>29</td>\n",
       "      <td>0</td>\n",
       "      <td>dns</td>\n",
       "      <td>0</td>\n",
       "      <td>0</td>\n",
       "      <td>0</td>\n",
       "      <td>1421927414</td>\n",
       "      <td>...</td>\n",
       "      <td>13.121510</td>\n",
       "      <td>13.319686</td>\n",
       "      <td>1.098612</td>\n",
       "      <td>0.0</td>\n",
       "      <td>0.0</td>\n",
       "      <td>4.304065</td>\n",
       "      <td>4.499810</td>\n",
       "      <td>0.000000</td>\n",
       "      <td>0.000000</td>\n",
       "      <td>5.783825</td>\n",
       "    </tr>\n",
       "  </tbody>\n",
       "</table>\n",
       "<p>5 rows × 39 columns</p>\n",
       "</div>"
      ],
      "text/plain": [
       "  proto state  sttl  dttl  sloss service  swin  trans_depth  res_bdy_len  \\\n",
       "0   udp   CON    31    29      0     dns     0            0            0   \n",
       "1   udp   CON    31    29      0    None     0            0            0   \n",
       "2   udp   CON    31    29      0     dns     0            0            0   \n",
       "3   udp   CON    31    29      0     dns     0            0            0   \n",
       "4   udp   CON    31    29      0     dns     0            0            0   \n",
       "\n",
       "        stime  ...  sload_log1p  dload_log1p  spkts_log1p  stcpb_log1p  \\\n",
       "0  1421927414  ...    13.123313    13.340377     1.098612          0.0   \n",
       "1  1421927414  ...    11.381416    10.829356     1.609438          0.0   \n",
       "2  1421927414  ...    13.165223    13.363399     1.098612          0.0   \n",
       "3  1421927414  ...    12.987060    13.204124     1.098612          0.0   \n",
       "4  1421927414  ...    13.121510    13.319686     1.098612          0.0   \n",
       "\n",
       "   dtcpb_log1p  smeansz_log1p  dmeansz_log1p  sjit_log1p  djit_log1p  \\\n",
       "0          0.0       4.204693       4.418841    0.000000    0.000000   \n",
       "1          0.0       4.890349       4.343805    2.387938    2.458112   \n",
       "2          0.0       4.304065       4.499810    0.000000    0.000000   \n",
       "3          0.0       4.204693       4.418841    0.000000    0.000000   \n",
       "4          0.0       4.304065       4.499810    0.000000    0.000000   \n",
       "\n",
       "   network_bytes_log1p  \n",
       "0             5.693732  \n",
       "1             6.725034  \n",
       "2             5.783825  \n",
       "3             5.693732  \n",
       "4             5.783825  \n",
       "\n",
       "[5 rows x 39 columns]"
      ]
     },
     "execution_count": 32,
     "metadata": {},
     "output_type": "execute_result"
    }
   ],
   "source": [
    "x_train.head()"
   ]
  },
  {
   "cell_type": "markdown",
   "metadata": {
    "colab_type": "text",
    "id": "OPugBJCJ4M2t"
   },
   "source": [
    "## Standardizing\n",
    "    \n",
    "As we have seen that the range of few features in this dataset is very large. So we will keep everything within certain range by applying standardscaler. After this all the features will have mean 0 and std 1"
   ]
  },
  {
   "cell_type": "code",
   "execution_count": 33,
   "metadata": {
    "colab": {},
    "colab_type": "code",
    "id": "zahQPu3dAZyJ",
    "tags": []
   },
   "outputs": [],
   "source": [
    "# Standardizing the data\n",
    "scaler = StandardScaler()\n",
    "scaler = scaler.fit(x_train[num_col])"
   ]
  },
  {
   "cell_type": "code",
   "execution_count": 34,
   "metadata": {
    "colab": {},
    "colab_type": "code",
    "id": "0ERzXoVGAhNY",
    "tags": []
   },
   "outputs": [],
   "source": [
    "x_train[num_col] = scaler.transform(x_train[num_col])"
   ]
  },
  {
   "cell_type": "code",
   "execution_count": 35,
   "metadata": {
    "colab": {
     "base_uri": "https://localhost:8080/",
     "height": 224
    },
    "colab_type": "code",
    "executionInfo": {
     "elapsed": 1325,
     "status": "ok",
     "timestamp": 1598254679362,
     "user": {
      "displayName": "Subrata Maji",
      "photoUrl": "https://lh3.googleusercontent.com/a-/AOh14Ghxu8VIGqB6XL51-t5wM_f1R1LdmEePYHIwb9b-=s64",
      "userId": "03124174213573157612"
     },
     "user_tz": -330
    },
    "id": "bqrHkb0H7OXm",
    "outputId": "e14875d6-0293-4a88-bbe4-2c7b51db78f5",
    "tags": []
   },
   "outputs": [
    {
     "data": {
      "text/html": [
       "<div>\n",
       "<style scoped>\n",
       "    .dataframe tbody tr th:only-of-type {\n",
       "        vertical-align: middle;\n",
       "    }\n",
       "\n",
       "    .dataframe tbody tr th {\n",
       "        vertical-align: top;\n",
       "    }\n",
       "\n",
       "    .dataframe thead th {\n",
       "        text-align: right;\n",
       "    }\n",
       "</style>\n",
       "<table border=\"1\" class=\"dataframe\">\n",
       "  <thead>\n",
       "    <tr style=\"text-align: right;\">\n",
       "      <th></th>\n",
       "      <th>proto</th>\n",
       "      <th>state</th>\n",
       "      <th>sttl</th>\n",
       "      <th>dttl</th>\n",
       "      <th>sloss</th>\n",
       "      <th>service</th>\n",
       "      <th>swin</th>\n",
       "      <th>trans_depth</th>\n",
       "      <th>res_bdy_len</th>\n",
       "      <th>stime</th>\n",
       "      <th>...</th>\n",
       "      <th>sload_log1p</th>\n",
       "      <th>dload_log1p</th>\n",
       "      <th>spkts_log1p</th>\n",
       "      <th>stcpb_log1p</th>\n",
       "      <th>dtcpb_log1p</th>\n",
       "      <th>smeansz_log1p</th>\n",
       "      <th>dmeansz_log1p</th>\n",
       "      <th>sjit_log1p</th>\n",
       "      <th>djit_log1p</th>\n",
       "      <th>network_bytes_log1p</th>\n",
       "    </tr>\n",
       "  </thead>\n",
       "  <tbody>\n",
       "    <tr>\n",
       "      <th>0</th>\n",
       "      <td>udp</td>\n",
       "      <td>CON</td>\n",
       "      <td>-0.387689</td>\n",
       "      <td>-0.04671</td>\n",
       "      <td>-0.247087</td>\n",
       "      <td>dns</td>\n",
       "      <td>-1.25412</td>\n",
       "      <td>-0.244819</td>\n",
       "      <td>-0.091917</td>\n",
       "      <td>-0.951488</td>\n",
       "      <td>...</td>\n",
       "      <td>-0.101337</td>\n",
       "      <td>0.407580</td>\n",
       "      <td>-1.128518</td>\n",
       "      <td>-1.248081</td>\n",
       "      <td>-1.247712</td>\n",
       "      <td>-0.526652</td>\n",
       "      <td>-0.018948</td>\n",
       "      <td>-1.029888</td>\n",
       "      <td>-0.933149</td>\n",
       "      <td>-1.075803</td>\n",
       "    </tr>\n",
       "    <tr>\n",
       "      <th>1</th>\n",
       "      <td>udp</td>\n",
       "      <td>CON</td>\n",
       "      <td>-0.387689</td>\n",
       "      <td>-0.04671</td>\n",
       "      <td>-0.247087</td>\n",
       "      <td>None</td>\n",
       "      <td>-1.25412</td>\n",
       "      <td>-0.244819</td>\n",
       "      <td>-0.091917</td>\n",
       "      <td>-0.951488</td>\n",
       "      <td>...</td>\n",
       "      <td>-0.679554</td>\n",
       "      <td>-0.060217</td>\n",
       "      <td>-0.752408</td>\n",
       "      <td>-1.248081</td>\n",
       "      <td>-1.247712</td>\n",
       "      <td>0.563425</td>\n",
       "      <td>-0.053225</td>\n",
       "      <td>-0.289198</td>\n",
       "      <td>-0.063615</td>\n",
       "      <td>-0.630911</td>\n",
       "    </tr>\n",
       "    <tr>\n",
       "      <th>2</th>\n",
       "      <td>udp</td>\n",
       "      <td>CON</td>\n",
       "      <td>-0.387689</td>\n",
       "      <td>-0.04671</td>\n",
       "      <td>-0.247087</td>\n",
       "      <td>dns</td>\n",
       "      <td>-1.25412</td>\n",
       "      <td>-0.244819</td>\n",
       "      <td>-0.091917</td>\n",
       "      <td>-0.951488</td>\n",
       "      <td>...</td>\n",
       "      <td>-0.087425</td>\n",
       "      <td>0.411869</td>\n",
       "      <td>-1.128518</td>\n",
       "      <td>-1.248081</td>\n",
       "      <td>-1.247712</td>\n",
       "      <td>-0.368667</td>\n",
       "      <td>0.018038</td>\n",
       "      <td>-1.029888</td>\n",
       "      <td>-0.933149</td>\n",
       "      <td>-1.036937</td>\n",
       "    </tr>\n",
       "    <tr>\n",
       "      <th>3</th>\n",
       "      <td>udp</td>\n",
       "      <td>CON</td>\n",
       "      <td>-0.387689</td>\n",
       "      <td>-0.04671</td>\n",
       "      <td>-0.247087</td>\n",
       "      <td>dns</td>\n",
       "      <td>-1.25412</td>\n",
       "      <td>-0.244819</td>\n",
       "      <td>-0.091917</td>\n",
       "      <td>-0.951488</td>\n",
       "      <td>...</td>\n",
       "      <td>-0.146566</td>\n",
       "      <td>0.382196</td>\n",
       "      <td>-1.128518</td>\n",
       "      <td>-1.248081</td>\n",
       "      <td>-1.247712</td>\n",
       "      <td>-0.526652</td>\n",
       "      <td>-0.018948</td>\n",
       "      <td>-1.029888</td>\n",
       "      <td>-0.933149</td>\n",
       "      <td>-1.075803</td>\n",
       "    </tr>\n",
       "    <tr>\n",
       "      <th>4</th>\n",
       "      <td>udp</td>\n",
       "      <td>CON</td>\n",
       "      <td>-0.387689</td>\n",
       "      <td>-0.04671</td>\n",
       "      <td>-0.247087</td>\n",
       "      <td>dns</td>\n",
       "      <td>-1.25412</td>\n",
       "      <td>-0.244819</td>\n",
       "      <td>-0.091917</td>\n",
       "      <td>-0.951488</td>\n",
       "      <td>...</td>\n",
       "      <td>-0.101936</td>\n",
       "      <td>0.403725</td>\n",
       "      <td>-1.128518</td>\n",
       "      <td>-1.248081</td>\n",
       "      <td>-1.247712</td>\n",
       "      <td>-0.368667</td>\n",
       "      <td>0.018038</td>\n",
       "      <td>-1.029888</td>\n",
       "      <td>-0.933149</td>\n",
       "      <td>-1.036937</td>\n",
       "    </tr>\n",
       "  </tbody>\n",
       "</table>\n",
       "<p>5 rows × 39 columns</p>\n",
       "</div>"
      ],
      "text/plain": [
       "  proto state      sttl     dttl     sloss service     swin  trans_depth  \\\n",
       "0   udp   CON -0.387689 -0.04671 -0.247087     dns -1.25412    -0.244819   \n",
       "1   udp   CON -0.387689 -0.04671 -0.247087    None -1.25412    -0.244819   \n",
       "2   udp   CON -0.387689 -0.04671 -0.247087     dns -1.25412    -0.244819   \n",
       "3   udp   CON -0.387689 -0.04671 -0.247087     dns -1.25412    -0.244819   \n",
       "4   udp   CON -0.387689 -0.04671 -0.247087     dns -1.25412    -0.244819   \n",
       "\n",
       "   res_bdy_len     stime  ...  sload_log1p  dload_log1p  spkts_log1p  \\\n",
       "0    -0.091917 -0.951488  ...    -0.101337     0.407580    -1.128518   \n",
       "1    -0.091917 -0.951488  ...    -0.679554    -0.060217    -0.752408   \n",
       "2    -0.091917 -0.951488  ...    -0.087425     0.411869    -1.128518   \n",
       "3    -0.091917 -0.951488  ...    -0.146566     0.382196    -1.128518   \n",
       "4    -0.091917 -0.951488  ...    -0.101936     0.403725    -1.128518   \n",
       "\n",
       "   stcpb_log1p  dtcpb_log1p  smeansz_log1p  dmeansz_log1p  sjit_log1p  \\\n",
       "0    -1.248081    -1.247712      -0.526652      -0.018948   -1.029888   \n",
       "1    -1.248081    -1.247712       0.563425      -0.053225   -0.289198   \n",
       "2    -1.248081    -1.247712      -0.368667       0.018038   -1.029888   \n",
       "3    -1.248081    -1.247712      -0.526652      -0.018948   -1.029888   \n",
       "4    -1.248081    -1.247712      -0.368667       0.018038   -1.029888   \n",
       "\n",
       "   djit_log1p  network_bytes_log1p  \n",
       "0   -0.933149            -1.075803  \n",
       "1   -0.063615            -0.630911  \n",
       "2   -0.933149            -1.036937  \n",
       "3   -0.933149            -1.075803  \n",
       "4   -0.933149            -1.036937  \n",
       "\n",
       "[5 rows x 39 columns]"
      ]
     },
     "execution_count": 35,
     "metadata": {},
     "output_type": "execute_result"
    }
   ],
   "source": [
    "x_train.head()"
   ]
  },
  {
   "cell_type": "markdown",
   "metadata": {
    "colab_type": "text",
    "id": "-9sQ48qZ4ktf"
   },
   "source": [
    "## Onehot Encoding\n",
    "\n",
    "In our dataset we have few categorical columns with text data.\n",
    "But ML models can't process text data it can process numbers.\n",
    "\n",
    "So we have to convert categorical columns to numerical columns in some way.\n",
    "We will use onehotencoder where we will assign 1 if the value is present for the row and rest of the columns will be 0."
   ]
  },
  {
   "cell_type": "code",
   "execution_count": 36,
   "metadata": {
    "colab": {},
    "colab_type": "code",
    "id": "Esez2EkUlZ3o",
    "tags": []
   },
   "outputs": [],
   "source": [
    "# Onehot Encoding\n",
    "service_ = OneHotEncoder()\n",
    "proto_ = OneHotEncoder()\n",
    "state_ = OneHotEncoder()\n",
    "ohe_service = service_.fit(x_train.service.values.reshape(-1,1))\n",
    "ohe_proto = proto_.fit(x_train.proto.values.reshape(-1,1))\n",
    "ohe_state = state_.fit(x_train.state.values.reshape(-1,1))"
   ]
  },
  {
   "cell_type": "code",
   "execution_count": 37,
   "metadata": {
    "colab": {},
    "colab_type": "code",
    "id": "GUc8MixOBcb_",
    "tags": []
   },
   "outputs": [],
   "source": [
    "# We are onehot encoding the given column\n",
    "# Remove the original categorical column\n",
    "for col, ohe in zip(['proto', 'service', 'state'], [ohe_proto, ohe_service, ohe_state]):\n",
    "    x = ohe.transform(x_train[col].values.reshape(-1,1))\n",
    "    tmp_df = pd.DataFrame(x.todense(), columns=[col+'_'+i for i in ohe.categories_[0]])\n",
    "    x_train = pd.concat([x_train.drop(col, axis=1), tmp_df], axis=1)"
   ]
  },
  {
   "cell_type": "code",
   "execution_count": 38,
   "metadata": {
    "colab": {
     "base_uri": "https://localhost:8080/",
     "height": 270
    },
    "colab_type": "code",
    "executionInfo": {
     "elapsed": 1512,
     "status": "ok",
     "timestamp": 1598254771621,
     "user": {
      "displayName": "Subrata Maji",
      "photoUrl": "https://lh3.googleusercontent.com/a-/AOh14Ghxu8VIGqB6XL51-t5wM_f1R1LdmEePYHIwb9b-=s64",
      "userId": "03124174213573157612"
     },
     "user_tz": -330
    },
    "id": "DO192yJJmbJs",
    "outputId": "0380cc6a-1b35-45ab-bee0-a98a4514107e",
    "tags": []
   },
   "outputs": [
    {
     "data": {
      "text/html": [
       "<div>\n",
       "<style scoped>\n",
       "    .dataframe tbody tr th:only-of-type {\n",
       "        vertical-align: middle;\n",
       "    }\n",
       "\n",
       "    .dataframe tbody tr th {\n",
       "        vertical-align: top;\n",
       "    }\n",
       "\n",
       "    .dataframe thead th {\n",
       "        text-align: right;\n",
       "    }\n",
       "</style>\n",
       "<table border=\"1\" class=\"dataframe\">\n",
       "  <thead>\n",
       "    <tr style=\"text-align: right;\">\n",
       "      <th></th>\n",
       "      <th>sttl</th>\n",
       "      <th>dttl</th>\n",
       "      <th>sloss</th>\n",
       "      <th>swin</th>\n",
       "      <th>trans_depth</th>\n",
       "      <th>res_bdy_len</th>\n",
       "      <th>stime</th>\n",
       "      <th>sintpkt</th>\n",
       "      <th>dintpkt</th>\n",
       "      <th>tcprtt</th>\n",
       "      <th>...</th>\n",
       "      <th>state_INT</th>\n",
       "      <th>state_MAS</th>\n",
       "      <th>state_PAR</th>\n",
       "      <th>state_REQ</th>\n",
       "      <th>state_RST</th>\n",
       "      <th>state_TST</th>\n",
       "      <th>state_TXD</th>\n",
       "      <th>state_URH</th>\n",
       "      <th>state_URN</th>\n",
       "      <th>state_no</th>\n",
       "    </tr>\n",
       "  </thead>\n",
       "  <tbody>\n",
       "    <tr>\n",
       "      <th>0</th>\n",
       "      <td>-0.387689</td>\n",
       "      <td>-0.04671</td>\n",
       "      <td>-0.247087</td>\n",
       "      <td>-1.25412</td>\n",
       "      <td>-0.244819</td>\n",
       "      <td>-0.091917</td>\n",
       "      <td>-0.951488</td>\n",
       "      <td>-0.071862</td>\n",
       "      <td>-0.056309</td>\n",
       "      <td>-0.137899</td>\n",
       "      <td>...</td>\n",
       "      <td>0.0</td>\n",
       "      <td>0.0</td>\n",
       "      <td>0.0</td>\n",
       "      <td>0.0</td>\n",
       "      <td>0.0</td>\n",
       "      <td>0.0</td>\n",
       "      <td>0.0</td>\n",
       "      <td>0.0</td>\n",
       "      <td>0.0</td>\n",
       "      <td>0.0</td>\n",
       "    </tr>\n",
       "    <tr>\n",
       "      <th>1</th>\n",
       "      <td>-0.387689</td>\n",
       "      <td>-0.04671</td>\n",
       "      <td>-0.247087</td>\n",
       "      <td>-1.25412</td>\n",
       "      <td>-0.244819</td>\n",
       "      <td>-0.091917</td>\n",
       "      <td>-0.951488</td>\n",
       "      <td>-0.069458</td>\n",
       "      <td>-0.051276</td>\n",
       "      <td>-0.137899</td>\n",
       "      <td>...</td>\n",
       "      <td>0.0</td>\n",
       "      <td>0.0</td>\n",
       "      <td>0.0</td>\n",
       "      <td>0.0</td>\n",
       "      <td>0.0</td>\n",
       "      <td>0.0</td>\n",
       "      <td>0.0</td>\n",
       "      <td>0.0</td>\n",
       "      <td>0.0</td>\n",
       "      <td>0.0</td>\n",
       "    </tr>\n",
       "    <tr>\n",
       "      <th>2</th>\n",
       "      <td>-0.387689</td>\n",
       "      <td>-0.04671</td>\n",
       "      <td>-0.247087</td>\n",
       "      <td>-1.25412</td>\n",
       "      <td>-0.244819</td>\n",
       "      <td>-0.091917</td>\n",
       "      <td>-0.951488</td>\n",
       "      <td>-0.071862</td>\n",
       "      <td>-0.056309</td>\n",
       "      <td>-0.137899</td>\n",
       "      <td>...</td>\n",
       "      <td>0.0</td>\n",
       "      <td>0.0</td>\n",
       "      <td>0.0</td>\n",
       "      <td>0.0</td>\n",
       "      <td>0.0</td>\n",
       "      <td>0.0</td>\n",
       "      <td>0.0</td>\n",
       "      <td>0.0</td>\n",
       "      <td>0.0</td>\n",
       "      <td>0.0</td>\n",
       "    </tr>\n",
       "    <tr>\n",
       "      <th>3</th>\n",
       "      <td>-0.387689</td>\n",
       "      <td>-0.04671</td>\n",
       "      <td>-0.247087</td>\n",
       "      <td>-1.25412</td>\n",
       "      <td>-0.244819</td>\n",
       "      <td>-0.091917</td>\n",
       "      <td>-0.951488</td>\n",
       "      <td>-0.071853</td>\n",
       "      <td>-0.056308</td>\n",
       "      <td>-0.137899</td>\n",
       "      <td>...</td>\n",
       "      <td>0.0</td>\n",
       "      <td>0.0</td>\n",
       "      <td>0.0</td>\n",
       "      <td>0.0</td>\n",
       "      <td>0.0</td>\n",
       "      <td>0.0</td>\n",
       "      <td>0.0</td>\n",
       "      <td>0.0</td>\n",
       "      <td>0.0</td>\n",
       "      <td>0.0</td>\n",
       "    </tr>\n",
       "    <tr>\n",
       "      <th>4</th>\n",
       "      <td>-0.387689</td>\n",
       "      <td>-0.04671</td>\n",
       "      <td>-0.247087</td>\n",
       "      <td>-1.25412</td>\n",
       "      <td>-0.244819</td>\n",
       "      <td>-0.091917</td>\n",
       "      <td>-0.951488</td>\n",
       "      <td>-0.071866</td>\n",
       "      <td>-0.056315</td>\n",
       "      <td>-0.137899</td>\n",
       "      <td>...</td>\n",
       "      <td>0.0</td>\n",
       "      <td>0.0</td>\n",
       "      <td>0.0</td>\n",
       "      <td>0.0</td>\n",
       "      <td>0.0</td>\n",
       "      <td>0.0</td>\n",
       "      <td>0.0</td>\n",
       "      <td>0.0</td>\n",
       "      <td>0.0</td>\n",
       "      <td>0.0</td>\n",
       "    </tr>\n",
       "  </tbody>\n",
       "</table>\n",
       "<p>5 rows × 200 columns</p>\n",
       "</div>"
      ],
      "text/plain": [
       "       sttl     dttl     sloss     swin  trans_depth  res_bdy_len     stime  \\\n",
       "0 -0.387689 -0.04671 -0.247087 -1.25412    -0.244819    -0.091917 -0.951488   \n",
       "1 -0.387689 -0.04671 -0.247087 -1.25412    -0.244819    -0.091917 -0.951488   \n",
       "2 -0.387689 -0.04671 -0.247087 -1.25412    -0.244819    -0.091917 -0.951488   \n",
       "3 -0.387689 -0.04671 -0.247087 -1.25412    -0.244819    -0.091917 -0.951488   \n",
       "4 -0.387689 -0.04671 -0.247087 -1.25412    -0.244819    -0.091917 -0.951488   \n",
       "\n",
       "    sintpkt   dintpkt    tcprtt  ...  state_INT  state_MAS  state_PAR  \\\n",
       "0 -0.071862 -0.056309 -0.137899  ...        0.0        0.0        0.0   \n",
       "1 -0.069458 -0.051276 -0.137899  ...        0.0        0.0        0.0   \n",
       "2 -0.071862 -0.056309 -0.137899  ...        0.0        0.0        0.0   \n",
       "3 -0.071853 -0.056308 -0.137899  ...        0.0        0.0        0.0   \n",
       "4 -0.071866 -0.056315 -0.137899  ...        0.0        0.0        0.0   \n",
       "\n",
       "   state_REQ  state_RST  state_TST  state_TXD  state_URH  state_URN  state_no  \n",
       "0        0.0        0.0        0.0        0.0        0.0        0.0       0.0  \n",
       "1        0.0        0.0        0.0        0.0        0.0        0.0       0.0  \n",
       "2        0.0        0.0        0.0        0.0        0.0        0.0       0.0  \n",
       "3        0.0        0.0        0.0        0.0        0.0        0.0       0.0  \n",
       "4        0.0        0.0        0.0        0.0        0.0        0.0       0.0  \n",
       "\n",
       "[5 rows x 200 columns]"
      ]
     },
     "execution_count": 38,
     "metadata": {},
     "output_type": "execute_result"
    }
   ],
   "source": [
    "x_train.head()"
   ]
  },
  {
   "cell_type": "markdown",
   "metadata": {
    "colab_type": "text",
    "id": "HB0cKgK1cISu"
   },
   "source": [
    "Saving all the important parameters and objects to disk so that we can apply same process on test data"
   ]
  },
  {
   "cell_type": "code",
   "execution_count": 39,
   "metadata": {
    "colab": {},
    "colab_type": "code",
    "id": "d1joGxiQVUPT",
    "tags": []
   },
   "outputs": [],
   "source": [
    "file_path = './final_ipynb/'"
   ]
  },
  {
   "cell_type": "code",
   "execution_count": 40,
   "metadata": {
    "colab": {},
    "colab_type": "code",
    "id": "b_FpdYpQErot",
    "tags": []
   },
   "outputs": [],
   "source": [
    "pickle.dump(scaler, open(file_path+'scaler.pkl', 'wb'))  # Standard scaler\n",
    "pickle.dump(saved_dict, open(file_path+'saved_dict.pkl', 'wb'))  # Dictionary with important parameters\n",
    "pickle.dump(mode_dict, open(file_path+'mode_dict.pkl', 'wb'))  #  Dictionary with most frequent values of columns"
   ]
  },
  {
   "cell_type": "code",
   "execution_count": 41,
   "metadata": {
    "colab": {},
    "colab_type": "code",
    "id": "T_Z5UekVFksJ"
   },
   "outputs": [],
   "source": [
    "# Onehot encoder for categorical columns\n",
    "pickle.dump(ohe_proto, open(file_path+'ohe_proto.pkl', 'wb'))\n",
    "pickle.dump(ohe_service, open(file_path+'ohe_service.pkl', 'wb'))\n",
    "pickle.dump(ohe_state, open(file_path+'ohe_state.pkl', 'wb'))"
   ]
  },
  {
   "cell_type": "markdown",
   "metadata": {
    "colab_type": "text",
    "id": "aN2r_OMDYEXw"
   },
   "source": [
    "## Pipeline functions"
   ]
  },
  {
   "cell_type": "markdown",
   "metadata": {
    "colab_type": "text",
    "id": "3GAn5_uXJTEd"
   },
   "source": [
    "We have to prepare a pipeline, where we can send raw data and get the output.\n",
    "\n",
    "We will use test data to implement the pipeline. Here we will use all the parameters we have saved using train data.\n",
    "\n",
    "Also standardize and onehot encode test data using train data objects for standardscaler and onehotencoder."
   ]
  },
  {
   "cell_type": "code",
   "execution_count": 42,
   "metadata": {
    "colab": {},
    "colab_type": "code",
    "id": "mbdSvaKIOpuL",
    "tags": []
   },
   "outputs": [],
   "source": [
    "def clean_data(data):\n",
    "    '''\n",
    "    Cleans given raw data. Performs various cleaning, removes Null and wrong values.\n",
    "    Check for columns datatype and fix them.\n",
    "    '''\n",
    "    numerical_col = data.select_dtypes(include=np.number).columns  # All the numerical columns list\n",
    "    categorical_col = data.select_dtypes(exclude=np.number).columns  # All the categorical columns list\n",
    "    \n",
    "    # Cleaning the data\n",
    "    for col in data.columns:\n",
    "        val = mode_dict[col]  # Mode value of the column in train data\n",
    "        data[col] = data[col].fillna(value=val)\n",
    "        data[col] = data[col].replace(' ', value=val)\n",
    "        data[col] = data[col].apply(lambda x:\"None\" if x==\"-\" else x)\n",
    "\n",
    "        # Fixing binary columns\n",
    "        if col in saved_dict['binary_col']:\n",
    "            data[col] = np.where(data[col]>1, val, data[col])\n",
    "\n",
    "    # Fixing datatype of columns\n",
    "    bad_dtypes = list(set(categorical_col) - set(saved_dict['cat_col']))\n",
    "    for bad_col in bad_dtypes:\n",
    "        data[col] = data[col].astype(float)\n",
    "    \n",
    "    return data"
   ]
  },
  {
   "cell_type": "code",
   "execution_count": 43,
   "metadata": {
    "colab": {},
    "colab_type": "code",
    "id": "_JN24bR5Vlqb",
    "tags": []
   },
   "outputs": [],
   "source": [
    "def apply_log1p(data):\n",
    "    '''\n",
    "    Performs FE on the data. Apply log1p on the specified columns create new column and remove those original columns.\n",
    "    '''\n",
    "    for col in saved_dict['log1p_col']:\n",
    "        new_col = col + '_log1p'  # New col name\n",
    "        data[new_col] = data[col].apply(np.log1p)  # Creating new column on transformed data\n",
    "        data.drop(col, axis=1, inplace=True)  # Removing old columns\n",
    "    return data"
   ]
  },
  {
   "cell_type": "code",
   "execution_count": 44,
   "metadata": {
    "colab": {},
    "colab_type": "code",
    "id": "uaJlj78XWGFA",
    "tags": []
   },
   "outputs": [],
   "source": [
    "def standardize(data):\n",
    "    '''\n",
    "    Stanardize the given data. Performs mean centering and varience scaling.\n",
    "    Using stanardscaler object trained on train data.\n",
    "    '''\n",
    "    data[saved_dict['num_col']] = scaler.transform(data[saved_dict['num_col']])\n",
    "    return data"
   ]
  },
  {
   "cell_type": "code",
   "execution_count": 45,
   "metadata": {
    "colab": {},
    "colab_type": "code",
    "id": "sWl6pGluquBP",
    "tags": []
   },
   "outputs": [],
   "source": [
    "def ohencoding(data):\n",
    "    '''\n",
    "    Onehot encoding the categoricla columns.\n",
    "    Add the ohe columns with the data and removes categorical columns.\n",
    "    Using Onehotencoder objects trained on train data.\n",
    "    '''\n",
    "\n",
    "    # Onehot encoding cat col using onehotencoder objects\n",
    "    X = ohe_service.transform(data['service'].values.reshape(-1, 1))\n",
    "    Xm = ohe_proto.transform(data['proto'].values.reshape(-1, 1))\n",
    "    Xmm = ohe_state.transform(data['state'].values.reshape(-1, 1))\n",
    "    \n",
    "    # Adding encoding data to original data\n",
    "    data = pd.concat([data,\n",
    "                      pd.DataFrame(Xm.toarray(), columns=['proto_'+i for i in ohe_proto.categories_[0]]),\n",
    "                      pd.DataFrame(X.toarray(), columns=['service_'+i for i in ohe_service.categories_[0]]),\n",
    "                      pd.DataFrame(Xmm.toarray(), columns=['state_'+i for i in ohe_state.categories_[0]])],\n",
    "                      axis=1)\n",
    "    \n",
    "    # Removing cat columns\n",
    "    data.drop(['proto', 'service', 'state'], axis=1, inplace=True)\n",
    "\n",
    "    return data"
   ]
  },
  {
   "cell_type": "markdown",
   "metadata": {
    "colab_type": "text",
    "id": "wzxR_OnQcika"
   },
   "source": [
    "Loading all the objects from disk, that we have trained on train data."
   ]
  },
  {
   "cell_type": "code",
   "execution_count": 46,
   "metadata": {
    "colab": {},
    "colab_type": "code",
    "id": "nbVyiM21Hj2F",
    "tags": []
   },
   "outputs": [],
   "source": [
    "# Parametrs\n",
    "saved_dict = pickle.load(open(file_path+'saved_dict.pkl', 'rb'))\n",
    "# Mode value of all the columns\n",
    "mode_dict = pickle.load(open(file_path+'mode_dict.pkl', 'rb'))\n",
    "# Stanardscaler object\n",
    "scaler = pickle.load(open(file_path+'scaler.pkl', 'rb'))"
   ]
  },
  {
   "cell_type": "code",
   "execution_count": 47,
   "metadata": {
    "colab": {},
    "colab_type": "code",
    "id": "8KWNgXQLc_75",
    "tags": []
   },
   "outputs": [],
   "source": [
    "# One hot encoder objects\n",
    "ohe_proto = pickle.load(open(file_path+'ohe_proto.pkl', 'rb'))\n",
    "ohe_service = pickle.load(open(file_path+'ohe_service.pkl', 'rb'))\n",
    "ohe_state = pickle.load(open(file_path+'ohe_state.pkl', 'rb'))"
   ]
  },
  {
   "cell_type": "code",
   "execution_count": 48,
   "metadata": {
    "colab": {
     "base_uri": "https://localhost:8080/",
     "height": 34
    },
    "colab_type": "code",
    "executionInfo": {
     "elapsed": 971,
     "status": "ok",
     "timestamp": 1598254791308,
     "user": {
      "displayName": "Subrata Maji",
      "photoUrl": "https://lh3.googleusercontent.com/a-/AOh14Ghxu8VIGqB6XL51-t5wM_f1R1LdmEePYHIwb9b-=s64",
      "userId": "03124174213573157612"
     },
     "user_tz": -330
    },
    "id": "h9O_-z_ZlCE_",
    "outputId": "57909fa9-80c3-4a53-b041-b0f6d954560e",
    "tags": []
   },
   "outputs": [
    {
     "data": {
      "text/plain": [
       "(508010, 48)"
      ]
     },
     "execution_count": 48,
     "metadata": {},
     "output_type": "execute_result"
    }
   ],
   "source": [
    "x_test.shape"
   ]
  },
  {
   "cell_type": "code",
   "execution_count": 49,
   "metadata": {
    "colab": {},
    "colab_type": "code",
    "id": "xrowypS2smFi",
    "tags": []
   },
   "outputs": [],
   "source": [
    "# Resetting index of test data\n",
    "x_test.reset_index(drop=True, inplace=True)"
   ]
  },
  {
   "cell_type": "code",
   "execution_count": 50,
   "metadata": {
    "colab": {
     "base_uri": "https://localhost:8080/",
     "height": 34
    },
    "colab_type": "code",
    "executionInfo": {
     "elapsed": 718,
     "status": "ok",
     "timestamp": 1598254793566,
     "user": {
      "displayName": "Subrata Maji",
      "photoUrl": "https://lh3.googleusercontent.com/a-/AOh14Ghxu8VIGqB6XL51-t5wM_f1R1LdmEePYHIwb9b-=s64",
      "userId": "03124174213573157612"
     },
     "user_tz": -330
    },
    "id": "nylwjO_Ifngf",
    "outputId": "84161159-1b04-433d-bf06-4b8f1a6870ea",
    "tags": []
   },
   "outputs": [
    {
     "data": {
      "text/plain": [
       "(508010, 48)"
      ]
     },
     "execution_count": 50,
     "metadata": {},
     "output_type": "execute_result"
    }
   ],
   "source": [
    "x_test.shape"
   ]
  },
  {
   "cell_type": "code",
   "execution_count": 51,
   "metadata": {
    "colab": {
     "base_uri": "https://localhost:8080/",
     "height": 170
    },
    "colab_type": "code",
    "executionInfo": {
     "elapsed": 2073,
     "status": "ok",
     "timestamp": 1598254796641,
     "user": {
      "displayName": "Subrata Maji",
      "photoUrl": "https://lh3.googleusercontent.com/a-/AOh14Ghxu8VIGqB6XL51-t5wM_f1R1LdmEePYHIwb9b-=s64",
      "userId": "03124174213573157612"
     },
     "user_tz": -330
    },
    "id": "f2uMszD5tGF0",
    "outputId": "96b77406-1092-458d-a29a-84bf071e3a0f",
    "tags": []
   },
   "outputs": [
    {
     "data": {
      "text/plain": [
       "Index(['srcip', 'sport', 'dstip', 'dsport', 'proto', 'state', 'dur', 'sbytes',\n",
       "       'dbytes', 'sttl', 'dttl', 'sloss', 'dloss', 'service', 'sload', 'dload',\n",
       "       'spkts', 'dpkts', 'swin', 'dwin', 'stcpb', 'dtcpb', 'smeansz',\n",
       "       'dmeansz', 'trans_depth', 'res_bdy_len', 'sjit', 'djit', 'stime',\n",
       "       'ltime', 'sintpkt', 'dintpkt', 'tcprtt', 'synack', 'ackdat',\n",
       "       'is_sm_ips_ports', 'ct_state_ttl', 'ct_flw_http_mthd', 'is_ftp_login',\n",
       "       'ct_ftp_cmd', 'ct_srv_src', 'ct_srv_dst', 'ct_dst_ltm', 'ct_src_ltm',\n",
       "       'ct_src_dport_ltm', 'ct_dst_sport_ltm', 'ct_dst_src_ltm', 'attack_cat'],\n",
       "      dtype='object')"
      ]
     },
     "execution_count": 51,
     "metadata": {},
     "output_type": "execute_result"
    }
   ],
   "source": [
    "x_test.columns"
   ]
  },
  {
   "cell_type": "code",
   "execution_count": 52,
   "metadata": {
    "colab": {},
    "colab_type": "code",
    "id": "nketS4eVXY9k",
    "tags": []
   },
   "outputs": [],
   "source": [
    "# Adding column names\n",
    "x_test.columns = saved_dict['columns']"
   ]
  },
  {
   "cell_type": "code",
   "execution_count": 53,
   "metadata": {
    "colab": {},
    "colab_type": "code",
    "id": "5icbXK2iXTye",
    "tags": []
   },
   "outputs": [],
   "source": [
    "# Creating new Feature\n",
    "x_test['network_bytes'] = x_test['dbytes'] + x_test['sbytes']"
   ]
  },
  {
   "cell_type": "code",
   "execution_count": 54,
   "metadata": {
    "colab": {},
    "colab_type": "code",
    "id": "134bXg3TZBg0",
    "tags": []
   },
   "outputs": [],
   "source": [
    "# Droping all the unwanted columns\n",
    "dropable_col = saved_dict['to_drop'] + saved_dict['corr_col']\n",
    "x_test.drop(columns=dropable_col, inplace=True)"
   ]
  },
  {
   "cell_type": "code",
   "execution_count": 55,
   "metadata": {
    "colab": {
     "base_uri": "https://localhost:8080/",
     "height": 34
    },
    "colab_type": "code",
    "executionInfo": {
     "elapsed": 1167,
     "status": "ok",
     "timestamp": 1598254805357,
     "user": {
      "displayName": "Subrata Maji",
      "photoUrl": "https://lh3.googleusercontent.com/a-/AOh14Ghxu8VIGqB6XL51-t5wM_f1R1LdmEePYHIwb9b-=s64",
      "userId": "03124174213573157612"
     },
     "user_tz": -330
    },
    "id": "0BUcBPhfZZDE",
    "outputId": "b33dd79a-8450-4b0b-b3ef-327e7fe4373c",
    "tags": []
   },
   "outputs": [
    {
     "data": {
      "text/plain": [
       "(508010, 39)"
      ]
     },
     "execution_count": 55,
     "metadata": {},
     "output_type": "execute_result"
    }
   ],
   "source": [
    "x_test.shape"
   ]
  },
  {
   "cell_type": "code",
   "execution_count": 56,
   "metadata": {
    "colab": {},
    "colab_type": "code",
    "id": "lkyzpOcSZhFo",
    "tags": []
   },
   "outputs": [],
   "source": [
    "# Cleaning data using clean_data()\n",
    "x_test = clean_data(x_test)"
   ]
  },
  {
   "cell_type": "code",
   "execution_count": 57,
   "metadata": {
    "colab": {
     "base_uri": "https://localhost:8080/",
     "height": 34
    },
    "colab_type": "code",
    "executionInfo": {
     "elapsed": 629,
     "status": "ok",
     "timestamp": 1598254819165,
     "user": {
      "displayName": "Subrata Maji",
      "photoUrl": "https://lh3.googleusercontent.com/a-/AOh14Ghxu8VIGqB6XL51-t5wM_f1R1LdmEePYHIwb9b-=s64",
      "userId": "03124174213573157612"
     },
     "user_tz": -330
    },
    "id": "Pd9v3-ODWW0d",
    "outputId": "3ff7306c-085c-4ee9-9b3c-1ab8741af7ab",
    "tags": []
   },
   "outputs": [
    {
     "data": {
      "text/plain": [
       "(508010, 39)"
      ]
     },
     "execution_count": 57,
     "metadata": {},
     "output_type": "execute_result"
    }
   ],
   "source": [
    "x_test.shape"
   ]
  },
  {
   "cell_type": "code",
   "execution_count": 58,
   "metadata": {
    "colab": {},
    "colab_type": "code",
    "id": "X5a1-ZRraESH",
    "tags": []
   },
   "outputs": [],
   "source": [
    "# FE: applying log1p using apply_log1p()\n",
    "x_test = apply_log1p(x_test)"
   ]
  },
  {
   "cell_type": "code",
   "execution_count": 59,
   "metadata": {
    "colab": {
     "base_uri": "https://localhost:8080/",
     "height": 34
    },
    "colab_type": "code",
    "executionInfo": {
     "elapsed": 827,
     "status": "ok",
     "timestamp": 1598254840234,
     "user": {
      "displayName": "Subrata Maji",
      "photoUrl": "https://lh3.googleusercontent.com/a-/AOh14Ghxu8VIGqB6XL51-t5wM_f1R1LdmEePYHIwb9b-=s64",
      "userId": "03124174213573157612"
     },
     "user_tz": -330
    },
    "id": "1e_xjHpRuULJ",
    "outputId": "a8792367-2674-4695-dbf1-32ebdc381513",
    "tags": []
   },
   "outputs": [
    {
     "data": {
      "text/plain": [
       "(508010, 39)"
      ]
     },
     "execution_count": 59,
     "metadata": {},
     "output_type": "execute_result"
    }
   ],
   "source": [
    "x_test.shape"
   ]
  },
  {
   "cell_type": "code",
   "execution_count": 60,
   "metadata": {
    "colab": {
     "base_uri": "https://localhost:8080/",
     "height": 170
    },
    "colab_type": "code",
    "executionInfo": {
     "elapsed": 574,
     "status": "ok",
     "timestamp": 1598254841517,
     "user": {
      "displayName": "Subrata Maji",
      "photoUrl": "https://lh3.googleusercontent.com/a-/AOh14Ghxu8VIGqB6XL51-t5wM_f1R1LdmEePYHIwb9b-=s64",
      "userId": "03124174213573157612"
     },
     "user_tz": -330
    },
    "id": "aWh6xLQwWb3W",
    "outputId": "1115319e-c1cf-4a84-fac0-7535f5484b6e",
    "tags": []
   },
   "outputs": [
    {
     "data": {
      "text/plain": [
       "Index(['proto', 'state', 'sttl', 'dttl', 'sloss', 'service', 'swin',\n",
       "       'trans_depth', 'res_bdy_len', 'stime', 'sintpkt', 'dintpkt', 'tcprtt',\n",
       "       'synack', 'ackdat', 'is_sm_ips_ports', 'ct_state_ttl',\n",
       "       'ct_flw_http_mthd', 'is_ftp_login', 'ct_ftp_cmd', 'ct_srv_src',\n",
       "       'ct_srv_dst', 'ct_dst_ltm', 'ct_src_ltm', 'ct_dst_sport_ltm',\n",
       "       'ct_dst_src_ltm', 'dur_log1p', 'sbytes_log1p', 'dbytes_log1p',\n",
       "       'sload_log1p', 'dload_log1p', 'spkts_log1p', 'stcpb_log1p',\n",
       "       'dtcpb_log1p', 'smeansz_log1p', 'dmeansz_log1p', 'sjit_log1p',\n",
       "       'djit_log1p', 'network_bytes_log1p'],\n",
       "      dtype='object')"
      ]
     },
     "execution_count": 60,
     "metadata": {},
     "output_type": "execute_result"
    }
   ],
   "source": [
    "x_test.columns"
   ]
  },
  {
   "cell_type": "code",
   "execution_count": 61,
   "metadata": {
    "colab": {},
    "colab_type": "code",
    "id": "SovFBr2XaLMB",
    "tags": []
   },
   "outputs": [],
   "source": [
    "# Standardscaling using stanardize()\n",
    "x_test = standardize(x_test)"
   ]
  },
  {
   "cell_type": "code",
   "execution_count": 62,
   "metadata": {
    "colab": {
     "base_uri": "https://localhost:8080/",
     "height": 224
    },
    "colab_type": "code",
    "executionInfo": {
     "elapsed": 597,
     "status": "ok",
     "timestamp": 1598254856268,
     "user": {
      "displayName": "Subrata Maji",
      "photoUrl": "https://lh3.googleusercontent.com/a-/AOh14Ghxu8VIGqB6XL51-t5wM_f1R1LdmEePYHIwb9b-=s64",
      "userId": "03124174213573157612"
     },
     "user_tz": -330
    },
    "id": "f6HrpEbiWil5",
    "outputId": "c8859515-ff2e-4005-c37a-1d7d159a5952",
    "tags": []
   },
   "outputs": [
    {
     "data": {
      "text/html": [
       "<div>\n",
       "<style scoped>\n",
       "    .dataframe tbody tr th:only-of-type {\n",
       "        vertical-align: middle;\n",
       "    }\n",
       "\n",
       "    .dataframe tbody tr th {\n",
       "        vertical-align: top;\n",
       "    }\n",
       "\n",
       "    .dataframe thead th {\n",
       "        text-align: right;\n",
       "    }\n",
       "</style>\n",
       "<table border=\"1\" class=\"dataframe\">\n",
       "  <thead>\n",
       "    <tr style=\"text-align: right;\">\n",
       "      <th></th>\n",
       "      <th>proto</th>\n",
       "      <th>state</th>\n",
       "      <th>sttl</th>\n",
       "      <th>dttl</th>\n",
       "      <th>sloss</th>\n",
       "      <th>service</th>\n",
       "      <th>swin</th>\n",
       "      <th>trans_depth</th>\n",
       "      <th>res_bdy_len</th>\n",
       "      <th>stime</th>\n",
       "      <th>...</th>\n",
       "      <th>sload_log1p</th>\n",
       "      <th>dload_log1p</th>\n",
       "      <th>spkts_log1p</th>\n",
       "      <th>stcpb_log1p</th>\n",
       "      <th>dtcpb_log1p</th>\n",
       "      <th>smeansz_log1p</th>\n",
       "      <th>dmeansz_log1p</th>\n",
       "      <th>sjit_log1p</th>\n",
       "      <th>djit_log1p</th>\n",
       "      <th>network_bytes_log1p</th>\n",
       "    </tr>\n",
       "  </thead>\n",
       "  <tbody>\n",
       "    <tr>\n",
       "      <th>0</th>\n",
       "      <td>udp</td>\n",
       "      <td>INT</td>\n",
       "      <td>0.025056</td>\n",
       "      <td>-0.766532</td>\n",
       "      <td>-0.247087</td>\n",
       "      <td>dns</td>\n",
       "      <td>-1.254120</td>\n",
       "      <td>-0.244819</td>\n",
       "      <td>-0.091917</td>\n",
       "      <td>1.083818</td>\n",
       "      <td>...</td>\n",
       "      <td>2.209440</td>\n",
       "      <td>-2.077696</td>\n",
       "      <td>-1.128518</td>\n",
       "      <td>-1.248081</td>\n",
       "      <td>-1.247712</td>\n",
       "      <td>0.563425</td>\n",
       "      <td>-2.037488</td>\n",
       "      <td>-1.029888</td>\n",
       "      <td>-0.933149</td>\n",
       "      <td>-1.124982</td>\n",
       "    </tr>\n",
       "    <tr>\n",
       "      <th>1</th>\n",
       "      <td>udp</td>\n",
       "      <td>INT</td>\n",
       "      <td>0.025056</td>\n",
       "      <td>-0.766532</td>\n",
       "      <td>-0.247087</td>\n",
       "      <td>dns</td>\n",
       "      <td>-1.254120</td>\n",
       "      <td>-0.244819</td>\n",
       "      <td>-0.091917</td>\n",
       "      <td>1.083818</td>\n",
       "      <td>...</td>\n",
       "      <td>2.209440</td>\n",
       "      <td>-2.077696</td>\n",
       "      <td>-1.128518</td>\n",
       "      <td>-1.248081</td>\n",
       "      <td>-1.247712</td>\n",
       "      <td>0.563425</td>\n",
       "      <td>-2.037488</td>\n",
       "      <td>-1.029888</td>\n",
       "      <td>-0.933149</td>\n",
       "      <td>-1.124982</td>\n",
       "    </tr>\n",
       "    <tr>\n",
       "      <th>2</th>\n",
       "      <td>udp</td>\n",
       "      <td>INT</td>\n",
       "      <td>0.025056</td>\n",
       "      <td>-0.766532</td>\n",
       "      <td>-0.247087</td>\n",
       "      <td>dns</td>\n",
       "      <td>-1.254120</td>\n",
       "      <td>-0.244819</td>\n",
       "      <td>-0.091917</td>\n",
       "      <td>1.083818</td>\n",
       "      <td>...</td>\n",
       "      <td>2.209440</td>\n",
       "      <td>-2.077696</td>\n",
       "      <td>-1.128518</td>\n",
       "      <td>-1.248081</td>\n",
       "      <td>-1.247712</td>\n",
       "      <td>0.563425</td>\n",
       "      <td>-2.037488</td>\n",
       "      <td>-1.029888</td>\n",
       "      <td>-0.933149</td>\n",
       "      <td>-1.124982</td>\n",
       "    </tr>\n",
       "    <tr>\n",
       "      <th>3</th>\n",
       "      <td>tcp</td>\n",
       "      <td>FIN</td>\n",
       "      <td>-0.387689</td>\n",
       "      <td>-0.046710</td>\n",
       "      <td>-0.109351</td>\n",
       "      <td>http</td>\n",
       "      <td>0.797381</td>\n",
       "      <td>2.655285</td>\n",
       "      <td>-0.091917</td>\n",
       "      <td>1.083817</td>\n",
       "      <td>...</td>\n",
       "      <td>-1.352704</td>\n",
       "      <td>0.017172</td>\n",
       "      <td>-0.048886</td>\n",
       "      <td>0.862893</td>\n",
       "      <td>0.751843</td>\n",
       "      <td>0.563425</td>\n",
       "      <td>0.858001</td>\n",
       "      <td>1.812003</td>\n",
       "      <td>2.231315</td>\n",
       "      <td>0.510753</td>\n",
       "    </tr>\n",
       "    <tr>\n",
       "      <th>4</th>\n",
       "      <td>tcp</td>\n",
       "      <td>FIN</td>\n",
       "      <td>-0.387689</td>\n",
       "      <td>-0.046710</td>\n",
       "      <td>0.074297</td>\n",
       "      <td>None</td>\n",
       "      <td>0.797381</td>\n",
       "      <td>-0.244819</td>\n",
       "      <td>-0.091917</td>\n",
       "      <td>1.083818</td>\n",
       "      <td>...</td>\n",
       "      <td>0.025248</td>\n",
       "      <td>0.972515</td>\n",
       "      <td>1.383845</td>\n",
       "      <td>0.882854</td>\n",
       "      <td>0.805791</td>\n",
       "      <td>-0.755985</td>\n",
       "      <td>1.113866</td>\n",
       "      <td>0.085242</td>\n",
       "      <td>0.328498</td>\n",
       "      <td>1.418027</td>\n",
       "    </tr>\n",
       "  </tbody>\n",
       "</table>\n",
       "<p>5 rows × 39 columns</p>\n",
       "</div>"
      ],
      "text/plain": [
       "  proto state      sttl      dttl     sloss service      swin  trans_depth  \\\n",
       "0   udp   INT  0.025056 -0.766532 -0.247087     dns -1.254120    -0.244819   \n",
       "1   udp   INT  0.025056 -0.766532 -0.247087     dns -1.254120    -0.244819   \n",
       "2   udp   INT  0.025056 -0.766532 -0.247087     dns -1.254120    -0.244819   \n",
       "3   tcp   FIN -0.387689 -0.046710 -0.109351    http  0.797381     2.655285   \n",
       "4   tcp   FIN -0.387689 -0.046710  0.074297    None  0.797381    -0.244819   \n",
       "\n",
       "   res_bdy_len     stime  ...  sload_log1p  dload_log1p  spkts_log1p  \\\n",
       "0    -0.091917  1.083818  ...     2.209440    -2.077696    -1.128518   \n",
       "1    -0.091917  1.083818  ...     2.209440    -2.077696    -1.128518   \n",
       "2    -0.091917  1.083818  ...     2.209440    -2.077696    -1.128518   \n",
       "3    -0.091917  1.083817  ...    -1.352704     0.017172    -0.048886   \n",
       "4    -0.091917  1.083818  ...     0.025248     0.972515     1.383845   \n",
       "\n",
       "   stcpb_log1p  dtcpb_log1p  smeansz_log1p  dmeansz_log1p  sjit_log1p  \\\n",
       "0    -1.248081    -1.247712       0.563425      -2.037488   -1.029888   \n",
       "1    -1.248081    -1.247712       0.563425      -2.037488   -1.029888   \n",
       "2    -1.248081    -1.247712       0.563425      -2.037488   -1.029888   \n",
       "3     0.862893     0.751843       0.563425       0.858001    1.812003   \n",
       "4     0.882854     0.805791      -0.755985       1.113866    0.085242   \n",
       "\n",
       "   djit_log1p  network_bytes_log1p  \n",
       "0   -0.933149            -1.124982  \n",
       "1   -0.933149            -1.124982  \n",
       "2   -0.933149            -1.124982  \n",
       "3    2.231315             0.510753  \n",
       "4    0.328498             1.418027  \n",
       "\n",
       "[5 rows x 39 columns]"
      ]
     },
     "execution_count": 62,
     "metadata": {},
     "output_type": "execute_result"
    }
   ],
   "source": [
    "x_test.head()"
   ]
  },
  {
   "cell_type": "code",
   "execution_count": 63,
   "metadata": {
    "colab": {},
    "colab_type": "code",
    "id": "rfVelvrWaRRS",
    "tags": []
   },
   "outputs": [],
   "source": [
    "# Onehot encoding categorical columns using ohencoding()\n",
    "x_test = ohencoding(x_test)"
   ]
  },
  {
   "cell_type": "code",
   "execution_count": 64,
   "metadata": {
    "colab": {
     "base_uri": "https://localhost:8080/",
     "height": 34
    },
    "colab_type": "code",
    "executionInfo": {
     "elapsed": 821,
     "status": "ok",
     "timestamp": 1598254875109,
     "user": {
      "displayName": "Subrata Maji",
      "photoUrl": "https://lh3.googleusercontent.com/a-/AOh14Ghxu8VIGqB6XL51-t5wM_f1R1LdmEePYHIwb9b-=s64",
      "userId": "03124174213573157612"
     },
     "user_tz": -330
    },
    "id": "Yvpv3XcPr8P8",
    "outputId": "f1b76f84-12d0-4aa9-e4d6-0d11ffd5f5ce",
    "tags": []
   },
   "outputs": [
    {
     "data": {
      "text/plain": [
       "(508010, 200)"
      ]
     },
     "execution_count": 64,
     "metadata": {},
     "output_type": "execute_result"
    }
   ],
   "source": [
    "x_test.shape"
   ]
  },
  {
   "cell_type": "code",
   "execution_count": 65,
   "metadata": {
    "colab": {
     "base_uri": "https://localhost:8080/",
     "height": 270
    },
    "colab_type": "code",
    "executionInfo": {
     "elapsed": 932,
     "status": "ok",
     "timestamp": 1598254877225,
     "user": {
      "displayName": "Subrata Maji",
      "photoUrl": "https://lh3.googleusercontent.com/a-/AOh14Ghxu8VIGqB6XL51-t5wM_f1R1LdmEePYHIwb9b-=s64",
      "userId": "03124174213573157612"
     },
     "user_tz": -330
    },
    "id": "_9x_SlYSuxNU",
    "outputId": "dfe86c01-49f4-44a0-fc2b-9764b6b47db2",
    "tags": []
   },
   "outputs": [
    {
     "data": {
      "text/html": [
       "<div>\n",
       "<style scoped>\n",
       "    .dataframe tbody tr th:only-of-type {\n",
       "        vertical-align: middle;\n",
       "    }\n",
       "\n",
       "    .dataframe tbody tr th {\n",
       "        vertical-align: top;\n",
       "    }\n",
       "\n",
       "    .dataframe thead th {\n",
       "        text-align: right;\n",
       "    }\n",
       "</style>\n",
       "<table border=\"1\" class=\"dataframe\">\n",
       "  <thead>\n",
       "    <tr style=\"text-align: right;\">\n",
       "      <th></th>\n",
       "      <th>sttl</th>\n",
       "      <th>dttl</th>\n",
       "      <th>sloss</th>\n",
       "      <th>swin</th>\n",
       "      <th>trans_depth</th>\n",
       "      <th>res_bdy_len</th>\n",
       "      <th>stime</th>\n",
       "      <th>sintpkt</th>\n",
       "      <th>dintpkt</th>\n",
       "      <th>tcprtt</th>\n",
       "      <th>...</th>\n",
       "      <th>state_INT</th>\n",
       "      <th>state_MAS</th>\n",
       "      <th>state_PAR</th>\n",
       "      <th>state_REQ</th>\n",
       "      <th>state_RST</th>\n",
       "      <th>state_TST</th>\n",
       "      <th>state_TXD</th>\n",
       "      <th>state_URH</th>\n",
       "      <th>state_URN</th>\n",
       "      <th>state_no</th>\n",
       "    </tr>\n",
       "  </thead>\n",
       "  <tbody>\n",
       "    <tr>\n",
       "      <th>0</th>\n",
       "      <td>0.025056</td>\n",
       "      <td>-0.766532</td>\n",
       "      <td>-0.247087</td>\n",
       "      <td>-1.254120</td>\n",
       "      <td>-0.244819</td>\n",
       "      <td>-0.091917</td>\n",
       "      <td>1.083818</td>\n",
       "      <td>-0.071867</td>\n",
       "      <td>-0.056317</td>\n",
       "      <td>-0.137899</td>\n",
       "      <td>...</td>\n",
       "      <td>1.0</td>\n",
       "      <td>0.0</td>\n",
       "      <td>0.0</td>\n",
       "      <td>0.0</td>\n",
       "      <td>0.0</td>\n",
       "      <td>0.0</td>\n",
       "      <td>0.0</td>\n",
       "      <td>0.0</td>\n",
       "      <td>0.0</td>\n",
       "      <td>0.0</td>\n",
       "    </tr>\n",
       "    <tr>\n",
       "      <th>1</th>\n",
       "      <td>0.025056</td>\n",
       "      <td>-0.766532</td>\n",
       "      <td>-0.247087</td>\n",
       "      <td>-1.254120</td>\n",
       "      <td>-0.244819</td>\n",
       "      <td>-0.091917</td>\n",
       "      <td>1.083818</td>\n",
       "      <td>-0.071867</td>\n",
       "      <td>-0.056317</td>\n",
       "      <td>-0.137899</td>\n",
       "      <td>...</td>\n",
       "      <td>1.0</td>\n",
       "      <td>0.0</td>\n",
       "      <td>0.0</td>\n",
       "      <td>0.0</td>\n",
       "      <td>0.0</td>\n",
       "      <td>0.0</td>\n",
       "      <td>0.0</td>\n",
       "      <td>0.0</td>\n",
       "      <td>0.0</td>\n",
       "      <td>0.0</td>\n",
       "    </tr>\n",
       "    <tr>\n",
       "      <th>2</th>\n",
       "      <td>0.025056</td>\n",
       "      <td>-0.766532</td>\n",
       "      <td>-0.247087</td>\n",
       "      <td>-1.254120</td>\n",
       "      <td>-0.244819</td>\n",
       "      <td>-0.091917</td>\n",
       "      <td>1.083818</td>\n",
       "      <td>-0.071867</td>\n",
       "      <td>-0.056317</td>\n",
       "      <td>-0.137899</td>\n",
       "      <td>...</td>\n",
       "      <td>1.0</td>\n",
       "      <td>0.0</td>\n",
       "      <td>0.0</td>\n",
       "      <td>0.0</td>\n",
       "      <td>0.0</td>\n",
       "      <td>0.0</td>\n",
       "      <td>0.0</td>\n",
       "      <td>0.0</td>\n",
       "      <td>0.0</td>\n",
       "      <td>0.0</td>\n",
       "    </tr>\n",
       "    <tr>\n",
       "      <th>3</th>\n",
       "      <td>-0.387689</td>\n",
       "      <td>-0.046710</td>\n",
       "      <td>-0.109351</td>\n",
       "      <td>0.797381</td>\n",
       "      <td>2.655285</td>\n",
       "      <td>-0.091917</td>\n",
       "      <td>1.083817</td>\n",
       "      <td>-0.040457</td>\n",
       "      <td>-0.016952</td>\n",
       "      <td>-0.120097</td>\n",
       "      <td>...</td>\n",
       "      <td>0.0</td>\n",
       "      <td>0.0</td>\n",
       "      <td>0.0</td>\n",
       "      <td>0.0</td>\n",
       "      <td>0.0</td>\n",
       "      <td>0.0</td>\n",
       "      <td>0.0</td>\n",
       "      <td>0.0</td>\n",
       "      <td>0.0</td>\n",
       "      <td>0.0</td>\n",
       "    </tr>\n",
       "    <tr>\n",
       "      <th>4</th>\n",
       "      <td>-0.387689</td>\n",
       "      <td>-0.046710</td>\n",
       "      <td>0.074297</td>\n",
       "      <td>0.797381</td>\n",
       "      <td>-0.244819</td>\n",
       "      <td>-0.091917</td>\n",
       "      <td>1.083818</td>\n",
       "      <td>-0.071650</td>\n",
       "      <td>-0.055912</td>\n",
       "      <td>-0.122230</td>\n",
       "      <td>...</td>\n",
       "      <td>0.0</td>\n",
       "      <td>0.0</td>\n",
       "      <td>0.0</td>\n",
       "      <td>0.0</td>\n",
       "      <td>0.0</td>\n",
       "      <td>0.0</td>\n",
       "      <td>0.0</td>\n",
       "      <td>0.0</td>\n",
       "      <td>0.0</td>\n",
       "      <td>0.0</td>\n",
       "    </tr>\n",
       "  </tbody>\n",
       "</table>\n",
       "<p>5 rows × 200 columns</p>\n",
       "</div>"
      ],
      "text/plain": [
       "       sttl      dttl     sloss      swin  trans_depth  res_bdy_len     stime  \\\n",
       "0  0.025056 -0.766532 -0.247087 -1.254120    -0.244819    -0.091917  1.083818   \n",
       "1  0.025056 -0.766532 -0.247087 -1.254120    -0.244819    -0.091917  1.083818   \n",
       "2  0.025056 -0.766532 -0.247087 -1.254120    -0.244819    -0.091917  1.083818   \n",
       "3 -0.387689 -0.046710 -0.109351  0.797381     2.655285    -0.091917  1.083817   \n",
       "4 -0.387689 -0.046710  0.074297  0.797381    -0.244819    -0.091917  1.083818   \n",
       "\n",
       "    sintpkt   dintpkt    tcprtt  ...  state_INT  state_MAS  state_PAR  \\\n",
       "0 -0.071867 -0.056317 -0.137899  ...        1.0        0.0        0.0   \n",
       "1 -0.071867 -0.056317 -0.137899  ...        1.0        0.0        0.0   \n",
       "2 -0.071867 -0.056317 -0.137899  ...        1.0        0.0        0.0   \n",
       "3 -0.040457 -0.016952 -0.120097  ...        0.0        0.0        0.0   \n",
       "4 -0.071650 -0.055912 -0.122230  ...        0.0        0.0        0.0   \n",
       "\n",
       "   state_REQ  state_RST  state_TST  state_TXD  state_URH  state_URN  state_no  \n",
       "0        0.0        0.0        0.0        0.0        0.0        0.0       0.0  \n",
       "1        0.0        0.0        0.0        0.0        0.0        0.0       0.0  \n",
       "2        0.0        0.0        0.0        0.0        0.0        0.0       0.0  \n",
       "3        0.0        0.0        0.0        0.0        0.0        0.0       0.0  \n",
       "4        0.0        0.0        0.0        0.0        0.0        0.0       0.0  \n",
       "\n",
       "[5 rows x 200 columns]"
      ]
     },
     "execution_count": 65,
     "metadata": {},
     "output_type": "execute_result"
    }
   ],
   "source": [
    "# Final test data\n",
    "x_test.head()"
   ]
  },
  {
   "cell_type": "code",
   "execution_count": 66,
   "metadata": {
    "colab": {
     "base_uri": "https://localhost:8080/",
     "height": 34
    },
    "colab_type": "code",
    "executionInfo": {
     "elapsed": 912,
     "status": "ok",
     "timestamp": 1598254883093,
     "user": {
      "displayName": "Subrata Maji",
      "photoUrl": "https://lh3.googleusercontent.com/a-/AOh14Ghxu8VIGqB6XL51-t5wM_f1R1LdmEePYHIwb9b-=s64",
      "userId": "03124174213573157612"
     },
     "user_tz": -330
    },
    "id": "Xfgg1xv6oe5a",
    "outputId": "fd78e545-c224-4e27-8321-f4956fbaabd3",
    "tags": []
   },
   "outputs": [
    {
     "data": {
      "text/plain": [
       "True"
      ]
     },
     "execution_count": 66,
     "metadata": {},
     "output_type": "execute_result"
    }
   ],
   "source": [
    "# Matching test data columns with train data columns\n",
    "all(x_train.columns == x_test.columns)"
   ]
  },
  {
   "cell_type": "code",
   "execution_count": 68,
   "metadata": {},
   "outputs": [],
   "source": [
    "# Cleaned an processed train data\n",
    "x_train.to_csv(file_path+'x_train.csv', index=False)\n",
    "y_train.to_csv(file_path+'y_train.csv', index=False)\n",
    "\n",
    "# Cleaned an processed test data\n",
    "x_test.to_csv(file_path+'x_test.csv', index=False)\n",
    "y_test.to_csv(file_path+'y_test.csv', index=False)"
   ]
  },
  {
   "cell_type": "code",
   "execution_count": null,
   "metadata": {},
   "outputs": [],
   "source": []
  }
 ],
 "metadata": {
  "colab": {
   "authorship_tag": "ABX9TyPXGF2NJxYdMQ6udPW7Xp71",
   "collapsed_sections": [],
   "name": "CS1_Feature_Engineering.ipynb",
   "provenance": []
  },
  "kernelspec": {
   "display_name": "Python 3 (ipykernel)",
   "language": "python",
   "name": "python3"
  },
  "language_info": {
   "codemirror_mode": {
    "name": "ipython",
    "version": 3
   },
   "file_extension": ".py",
   "mimetype": "text/x-python",
   "name": "python",
   "nbconvert_exporter": "python",
   "pygments_lexer": "ipython3",
   "version": "3.7.16"
  },
  "toc": {
   "base_numbering": 1,
   "nav_menu": {},
   "number_sections": true,
   "sideBar": true,
   "skip_h1_title": false,
   "title_cell": "Table of Contents",
   "title_sidebar": "Contents",
   "toc_cell": false,
   "toc_position": {},
   "toc_section_display": true,
   "toc_window_display": false
  }
 },
 "nbformat": 4,
 "nbformat_minor": 4
}
