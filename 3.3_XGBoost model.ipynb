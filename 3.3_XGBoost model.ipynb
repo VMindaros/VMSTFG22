{
 "cells": [
  {
   "cell_type": "code",
   "execution_count": 1,
   "id": "0b387541-c66d-4cec-bba3-96d86cd6c1a4",
   "metadata": {
    "tags": []
   },
   "outputs": [],
   "source": [
    "import pickle\n",
    "import pandas as pd\n",
    "import numpy as np\n",
    "import matplotlib.pyplot as plt\n",
    "import seaborn as sns\n",
    "import xgboost as xgb\n",
    "\n",
    "from sklearn import metrics\n",
    "from sklearn.utils.class_weight import compute_class_weight"
   ]
  },
  {
   "cell_type": "code",
   "execution_count": 2,
   "id": "94701cab-5743-4c90-8514-34413e05716e",
   "metadata": {
    "tags": []
   },
   "outputs": [],
   "source": [
    "file_path = './final_ipynb/'"
   ]
  },
  {
   "cell_type": "code",
   "execution_count": 3,
   "id": "c7780bc3-87e2-4cc8-8ce6-a10a92ed784f",
   "metadata": {
    "tags": []
   },
   "outputs": [],
   "source": [
    "# Retrieve the train and set data\n",
    "x_train_df, y_train_df = pd.read_csv(file_path+'x_train.csv'), pd.read_csv(file_path+'y_train.csv')\n",
    "x_test_df, y_test_df = pd.read_csv(file_path+'x_test.csv'), pd.read_csv(file_path+'y_test.csv')"
   ]
  },
  {
   "cell_type": "code",
   "execution_count": 4,
   "id": "b9d28531-44f4-4fff-9fb2-e62ceb601ab9",
   "metadata": {
    "tags": []
   },
   "outputs": [],
   "source": [
    "ccw = compute_class_weight(class_weight='balanced', \n",
    "                          classes=np.unique(y_train_df.values.flatten()), \n",
    "                          y=y_train_df.values.flatten())\n",
    "\n",
    "weights = np.ones(y_train_df.shape[0], dtype='float')\n",
    "\n",
    "for i, val in enumerate(y_train_df.values.flatten()):\n",
    "    weights[i] = ccw[val - 1]"
   ]
  },
  {
   "cell_type": "code",
   "execution_count": 22,
   "id": "0f69ff8a-c7ff-47dd-b6a3-1e52a0e18850",
   "metadata": {},
   "outputs": [],
   "source": [
    "clf = xgb.XGBClassifier(verbosity=2,\n",
    "                        early_stopping_rounds=5)"
   ]
  },
  {
   "cell_type": "code",
   "execution_count": 5,
   "id": "19cda70b-f527-4743-939e-4bd3d579879b",
   "metadata": {
    "tags": []
   },
   "outputs": [
    {
     "name": "stdout",
     "output_type": "stream",
     "text": [
      "[17:25:14] INFO: ../src/tree/updater_prune.cc:101: tree pruning end, 70 extra nodes, 0 pruned nodes, max_depth=6\n",
      "[0]\tvalidation_0-logloss:0.45125\n",
      "[17:25:17] INFO: ../src/tree/updater_prune.cc:101: tree pruning end, 70 extra nodes, 0 pruned nodes, max_depth=6\n",
      "[1]\tvalidation_0-logloss:0.31801\n",
      "[17:25:19] INFO: ../src/tree/updater_prune.cc:101: tree pruning end, 94 extra nodes, 0 pruned nodes, max_depth=6\n",
      "[2]\tvalidation_0-logloss:0.23200\n",
      "[17:25:22] INFO: ../src/tree/updater_prune.cc:101: tree pruning end, 86 extra nodes, 0 pruned nodes, max_depth=6\n",
      "[3]\tvalidation_0-logloss:0.17549\n",
      "[17:25:24] INFO: ../src/tree/updater_prune.cc:101: tree pruning end, 94 extra nodes, 0 pruned nodes, max_depth=6\n",
      "[4]\tvalidation_0-logloss:0.13612\n",
      "[17:25:27] INFO: ../src/tree/updater_prune.cc:101: tree pruning end, 66 extra nodes, 0 pruned nodes, max_depth=6\n",
      "[5]\tvalidation_0-logloss:0.10912\n",
      "[17:25:29] INFO: ../src/tree/updater_prune.cc:101: tree pruning end, 64 extra nodes, 0 pruned nodes, max_depth=6\n",
      "[6]\tvalidation_0-logloss:0.08997\n",
      "[17:25:32] INFO: ../src/tree/updater_prune.cc:101: tree pruning end, 60 extra nodes, 0 pruned nodes, max_depth=6\n",
      "[7]\tvalidation_0-logloss:0.07536\n",
      "[17:25:34] INFO: ../src/tree/updater_prune.cc:101: tree pruning end, 50 extra nodes, 0 pruned nodes, max_depth=6\n",
      "[8]\tvalidation_0-logloss:0.06492\n",
      "[17:25:36] INFO: ../src/tree/updater_prune.cc:101: tree pruning end, 50 extra nodes, 0 pruned nodes, max_depth=6\n",
      "[9]\tvalidation_0-logloss:0.05734\n",
      "[17:25:38] INFO: ../src/tree/updater_prune.cc:101: tree pruning end, 46 extra nodes, 0 pruned nodes, max_depth=6\n",
      "[10]\tvalidation_0-logloss:0.05175\n",
      "[17:25:40] INFO: ../src/tree/updater_prune.cc:101: tree pruning end, 58 extra nodes, 0 pruned nodes, max_depth=6\n",
      "[11]\tvalidation_0-logloss:0.04803\n",
      "[17:25:42] INFO: ../src/tree/updater_prune.cc:101: tree pruning end, 48 extra nodes, 0 pruned nodes, max_depth=6\n",
      "[12]\tvalidation_0-logloss:0.04496\n",
      "[17:25:44] INFO: ../src/tree/updater_prune.cc:101: tree pruning end, 66 extra nodes, 0 pruned nodes, max_depth=6\n",
      "[13]\tvalidation_0-logloss:0.04243\n",
      "[17:25:46] INFO: ../src/tree/updater_prune.cc:101: tree pruning end, 44 extra nodes, 0 pruned nodes, max_depth=6\n",
      "[14]\tvalidation_0-logloss:0.04064\n",
      "[17:25:49] INFO: ../src/tree/updater_prune.cc:101: tree pruning end, 58 extra nodes, 0 pruned nodes, max_depth=6\n",
      "[15]\tvalidation_0-logloss:0.03905\n",
      "[17:25:51] INFO: ../src/tree/updater_prune.cc:101: tree pruning end, 48 extra nodes, 0 pruned nodes, max_depth=6\n",
      "[16]\tvalidation_0-logloss:0.03623\n",
      "[17:25:53] INFO: ../src/tree/updater_prune.cc:101: tree pruning end, 46 extra nodes, 0 pruned nodes, max_depth=6\n",
      "[17]\tvalidation_0-logloss:0.03534\n",
      "[17:25:55] INFO: ../src/tree/updater_prune.cc:101: tree pruning end, 74 extra nodes, 0 pruned nodes, max_depth=6\n",
      "[18]\tvalidation_0-logloss:0.03476\n",
      "[17:25:57] INFO: ../src/tree/updater_prune.cc:101: tree pruning end, 28 extra nodes, 0 pruned nodes, max_depth=6\n",
      "[19]\tvalidation_0-logloss:0.03428\n",
      "[17:25:59] INFO: ../src/tree/updater_prune.cc:101: tree pruning end, 84 extra nodes, 0 pruned nodes, max_depth=6\n",
      "[20]\tvalidation_0-logloss:0.03371\n",
      "[17:26:02] INFO: ../src/tree/updater_prune.cc:101: tree pruning end, 80 extra nodes, 0 pruned nodes, max_depth=6\n",
      "[21]\tvalidation_0-logloss:0.03276\n",
      "[17:26:07] INFO: ../src/tree/updater_prune.cc:101: tree pruning end, 40 extra nodes, 0 pruned nodes, max_depth=6\n",
      "[22]\tvalidation_0-logloss:0.03247\n",
      "[17:26:10] INFO: ../src/tree/updater_prune.cc:101: tree pruning end, 66 extra nodes, 0 pruned nodes, max_depth=6\n",
      "[23]\tvalidation_0-logloss:0.03080\n",
      "[17:26:12] INFO: ../src/tree/updater_prune.cc:101: tree pruning end, 78 extra nodes, 0 pruned nodes, max_depth=6\n",
      "[24]\tvalidation_0-logloss:0.03064\n",
      "[17:26:14] INFO: ../src/tree/updater_prune.cc:101: tree pruning end, 68 extra nodes, 0 pruned nodes, max_depth=6\n",
      "[25]\tvalidation_0-logloss:0.03012\n",
      "[17:26:16] INFO: ../src/tree/updater_prune.cc:101: tree pruning end, 42 extra nodes, 0 pruned nodes, max_depth=6\n",
      "[26]\tvalidation_0-logloss:0.03002\n",
      "[17:26:18] INFO: ../src/tree/updater_prune.cc:101: tree pruning end, 38 extra nodes, 0 pruned nodes, max_depth=6\n",
      "[27]\tvalidation_0-logloss:0.02982\n",
      "[17:26:20] INFO: ../src/tree/updater_prune.cc:101: tree pruning end, 34 extra nodes, 0 pruned nodes, max_depth=6\n",
      "[28]\tvalidation_0-logloss:0.02980\n",
      "[17:26:22] INFO: ../src/tree/updater_prune.cc:101: tree pruning end, 58 extra nodes, 0 pruned nodes, max_depth=6\n",
      "[29]\tvalidation_0-logloss:0.02872\n",
      "[17:26:24] INFO: ../src/tree/updater_prune.cc:101: tree pruning end, 72 extra nodes, 0 pruned nodes, max_depth=6\n",
      "[30]\tvalidation_0-logloss:0.02877\n",
      "[17:26:26] INFO: ../src/tree/updater_prune.cc:101: tree pruning end, 56 extra nodes, 0 pruned nodes, max_depth=6\n",
      "[31]\tvalidation_0-logloss:0.02868\n",
      "[17:26:28] INFO: ../src/tree/updater_prune.cc:101: tree pruning end, 62 extra nodes, 0 pruned nodes, max_depth=6\n",
      "[32]\tvalidation_0-logloss:0.02848\n",
      "[17:26:30] INFO: ../src/tree/updater_prune.cc:101: tree pruning end, 24 extra nodes, 0 pruned nodes, max_depth=6\n",
      "[33]\tvalidation_0-logloss:0.02841\n",
      "[17:26:32] INFO: ../src/tree/updater_prune.cc:101: tree pruning end, 66 extra nodes, 0 pruned nodes, max_depth=6\n",
      "[34]\tvalidation_0-logloss:0.02778\n",
      "[17:26:34] INFO: ../src/tree/updater_prune.cc:101: tree pruning end, 48 extra nodes, 0 pruned nodes, max_depth=6\n",
      "[35]\tvalidation_0-logloss:0.02773\n",
      "[17:26:36] INFO: ../src/tree/updater_prune.cc:101: tree pruning end, 64 extra nodes, 0 pruned nodes, max_depth=6\n",
      "[36]\tvalidation_0-logloss:0.02727\n",
      "[17:26:38] INFO: ../src/tree/updater_prune.cc:101: tree pruning end, 64 extra nodes, 0 pruned nodes, max_depth=6\n",
      "[37]\tvalidation_0-logloss:0.02711\n",
      "[17:26:40] INFO: ../src/tree/updater_prune.cc:101: tree pruning end, 76 extra nodes, 0 pruned nodes, max_depth=6\n",
      "[38]\tvalidation_0-logloss:0.02704\n",
      "[17:26:42] INFO: ../src/tree/updater_prune.cc:101: tree pruning end, 34 extra nodes, 0 pruned nodes, max_depth=6\n",
      "[39]\tvalidation_0-logloss:0.02703\n",
      "[17:26:44] INFO: ../src/tree/updater_prune.cc:101: tree pruning end, 48 extra nodes, 0 pruned nodes, max_depth=6\n",
      "[40]\tvalidation_0-logloss:0.02694\n",
      "[17:26:46] INFO: ../src/tree/updater_prune.cc:101: tree pruning end, 62 extra nodes, 0 pruned nodes, max_depth=6\n",
      "[41]\tvalidation_0-logloss:0.02693\n",
      "[17:26:49] INFO: ../src/tree/updater_prune.cc:101: tree pruning end, 106 extra nodes, 0 pruned nodes, max_depth=6\n",
      "[42]\tvalidation_0-logloss:0.02692\n",
      "[17:26:51] INFO: ../src/tree/updater_prune.cc:101: tree pruning end, 90 extra nodes, 0 pruned nodes, max_depth=6\n",
      "[43]\tvalidation_0-logloss:0.02694\n",
      "[17:26:53] INFO: ../src/tree/updater_prune.cc:101: tree pruning end, 36 extra nodes, 0 pruned nodes, max_depth=6\n",
      "[44]\tvalidation_0-logloss:0.02693\n",
      "[17:26:56] INFO: ../src/tree/updater_prune.cc:101: tree pruning end, 34 extra nodes, 0 pruned nodes, max_depth=6\n",
      "[45]\tvalidation_0-logloss:0.02695\n",
      "[17:26:58] INFO: ../src/tree/updater_prune.cc:101: tree pruning end, 32 extra nodes, 0 pruned nodes, max_depth=6\n",
      "[46]\tvalidation_0-logloss:0.02689\n",
      "[17:27:00] INFO: ../src/tree/updater_prune.cc:101: tree pruning end, 48 extra nodes, 0 pruned nodes, max_depth=6\n",
      "[47]\tvalidation_0-logloss:0.02679\n",
      "[17:27:06] INFO: ../src/tree/updater_prune.cc:101: tree pruning end, 72 extra nodes, 0 pruned nodes, max_depth=6\n",
      "[48]\tvalidation_0-logloss:0.02671\n",
      "[17:27:10] INFO: ../src/tree/updater_prune.cc:101: tree pruning end, 68 extra nodes, 0 pruned nodes, max_depth=6\n",
      "[49]\tvalidation_0-logloss:0.02687\n",
      "[17:27:13] INFO: ../src/tree/updater_prune.cc:101: tree pruning end, 58 extra nodes, 0 pruned nodes, max_depth=6\n",
      "[50]\tvalidation_0-logloss:0.02675\n",
      "[17:27:15] INFO: ../src/tree/updater_prune.cc:101: tree pruning end, 84 extra nodes, 0 pruned nodes, max_depth=6\n",
      "[51]\tvalidation_0-logloss:0.02672\n",
      "[17:27:17] INFO: ../src/tree/updater_prune.cc:101: tree pruning end, 30 extra nodes, 0 pruned nodes, max_depth=6\n",
      "[52]\tvalidation_0-logloss:0.02673\n",
      "[17:27:20] INFO: ../src/tree/updater_prune.cc:101: tree pruning end, 34 extra nodes, 0 pruned nodes, max_depth=6\n",
      "[53]\tvalidation_0-logloss:0.02667\n",
      "[17:27:22] INFO: ../src/tree/updater_prune.cc:101: tree pruning end, 92 extra nodes, 0 pruned nodes, max_depth=6\n",
      "[54]\tvalidation_0-logloss:0.02674\n",
      "[17:27:25] INFO: ../src/tree/updater_prune.cc:101: tree pruning end, 80 extra nodes, 0 pruned nodes, max_depth=6\n",
      "[55]\tvalidation_0-logloss:0.02655\n",
      "[17:27:27] INFO: ../src/tree/updater_prune.cc:101: tree pruning end, 104 extra nodes, 0 pruned nodes, max_depth=6\n",
      "[56]\tvalidation_0-logloss:0.02630\n",
      "[17:27:30] INFO: ../src/tree/updater_prune.cc:101: tree pruning end, 46 extra nodes, 0 pruned nodes, max_depth=6\n",
      "[57]\tvalidation_0-logloss:0.02605\n",
      "[17:27:32] INFO: ../src/tree/updater_prune.cc:101: tree pruning end, 34 extra nodes, 0 pruned nodes, max_depth=6\n",
      "[58]\tvalidation_0-logloss:0.02602\n",
      "[17:27:34] INFO: ../src/tree/updater_prune.cc:101: tree pruning end, 108 extra nodes, 0 pruned nodes, max_depth=6\n",
      "[59]\tvalidation_0-logloss:0.02592\n",
      "[17:27:37] INFO: ../src/tree/updater_prune.cc:101: tree pruning end, 112 extra nodes, 0 pruned nodes, max_depth=6\n",
      "[60]\tvalidation_0-logloss:0.02586\n",
      "[17:27:39] INFO: ../src/tree/updater_prune.cc:101: tree pruning end, 98 extra nodes, 0 pruned nodes, max_depth=6\n",
      "[61]\tvalidation_0-logloss:0.02586\n",
      "[17:27:42] INFO: ../src/tree/updater_prune.cc:101: tree pruning end, 112 extra nodes, 0 pruned nodes, max_depth=6\n",
      "[62]\tvalidation_0-logloss:0.02575\n",
      "[17:27:44] INFO: ../src/tree/updater_prune.cc:101: tree pruning end, 52 extra nodes, 0 pruned nodes, max_depth=6\n",
      "[63]\tvalidation_0-logloss:0.02572\n",
      "[17:27:46] INFO: ../src/tree/updater_prune.cc:101: tree pruning end, 68 extra nodes, 0 pruned nodes, max_depth=6\n",
      "[64]\tvalidation_0-logloss:0.02568\n",
      "[17:27:49] INFO: ../src/tree/updater_prune.cc:101: tree pruning end, 24 extra nodes, 0 pruned nodes, max_depth=6\n",
      "[65]\tvalidation_0-logloss:0.02568\n",
      "[17:27:51] INFO: ../src/tree/updater_prune.cc:101: tree pruning end, 30 extra nodes, 0 pruned nodes, max_depth=6\n",
      "[66]\tvalidation_0-logloss:0.02565\n",
      "[17:27:54] INFO: ../src/tree/updater_prune.cc:101: tree pruning end, 48 extra nodes, 0 pruned nodes, max_depth=6\n",
      "[67]\tvalidation_0-logloss:0.02588\n",
      "[17:27:56] INFO: ../src/tree/updater_prune.cc:101: tree pruning end, 90 extra nodes, 0 pruned nodes, max_depth=6\n",
      "[68]\tvalidation_0-logloss:0.02586\n",
      "[17:27:59] INFO: ../src/tree/updater_prune.cc:101: tree pruning end, 54 extra nodes, 0 pruned nodes, max_depth=6\n",
      "[69]\tvalidation_0-logloss:0.02588\n",
      "[17:28:02] INFO: ../src/tree/updater_prune.cc:101: tree pruning end, 62 extra nodes, 0 pruned nodes, max_depth=6\n",
      "[70]\tvalidation_0-logloss:0.02585\n",
      "[17:28:06] INFO: ../src/tree/updater_prune.cc:101: tree pruning end, 32 extra nodes, 0 pruned nodes, max_depth=6\n",
      "[71]\tvalidation_0-logloss:0.02589\n"
     ]
    },
    {
     "data": {
      "text/plain": [
       "XGBClassifier(base_score=0.5, booster='gbtree', callbacks=None,\n",
       "              colsample_bylevel=1, colsample_bynode=1, colsample_bytree=1,\n",
       "              early_stopping_rounds=5, enable_categorical=False,\n",
       "              eval_metric=None, gamma=0, gpu_id=-1, grow_policy='depthwise',\n",
       "              importance_type=None, interaction_constraints='',\n",
       "              learning_rate=0.300000012, max_bin=256, max_cat_to_onehot=4,\n",
       "              max_delta_step=0, max_depth=6, max_leaves=0, min_child_weight=1,\n",
       "              missing=nan, monotone_constraints='()', n_estimators=100,\n",
       "              n_jobs=0, num_parallel_tree=1, predictor='auto', random_state=0,\n",
       "              reg_alpha=0, reg_lambda=1, ...)"
      ]
     },
     "execution_count": 5,
     "metadata": {},
     "output_type": "execute_result"
    }
   ],
   "source": [
    "clf.fit(x_train_df, y_train_df, \n",
    "        sample_weight=weights,\n",
    "        eval_set=[(x_test_df, y_test_df)])"
   ]
  },
  {
   "cell_type": "code",
   "execution_count": 25,
   "id": "6e6d682b-6024-465d-b391-36b090c471c7",
   "metadata": {
    "tags": []
   },
   "outputs": [],
   "source": [
    "y_test_pred = clf.predict(x_test_df)"
   ]
  },
  {
   "cell_type": "code",
   "execution_count": 26,
   "id": "d453549f-de35-457d-9379-ad72e141c6ca",
   "metadata": {
    "tags": []
   },
   "outputs": [],
   "source": [
    "models_benchmark = pd.DataFrame(columns=['Accuracy', 'Recall', 'Precision', 'F1-score'])\n",
    "\n",
    "def getMetrics(model_name, y_truth, y_pred):\n",
    "    # Macro-avg is recommended to keep minority classes relevant\n",
    "    # Weighted-avg is recommended to keep majority classes relevant\n",
    "    print(f'Metrics')\n",
    "    acc = metrics.accuracy_score(y_truth, y_pred)\n",
    "    rec = metrics.recall_score(y_truth, y_pred, zero_division=0)\n",
    "    pre = metrics.precision_score(y_truth, y_pred, zero_division=0)\n",
    "    f1s = metrics.f1_score(y_truth, y_pred, zero_division=0)\n",
    "\n",
    "    models_benchmark.loc[model_name] = [acc, rec, pre, f1s]\n",
    "    display(models_benchmark.loc[model_name])\n",
    "    return\n",
    "\n",
    "def getCM(model_name, y_test, y_pred):\n",
    "    cm = metrics.confusion_matrix(y_test, y_pred)\n",
    "    cm_normalized = cm.astype('float') / cm.sum(axis=1)[:, np.newaxis]\n",
    "\n",
    "    plt.figure(figsize=(5,5))\n",
    "    plt.title(f'{model_name}', fontsize=20)\n",
    "\n",
    "    sns.heatmap(cm_normalized, annot=True, fmt='.3f')\n",
    "\n",
    "    plt.xticks(rotation=45)\n",
    "    plt.ylabel('Real outcome', fontsize=16)\n",
    "    plt.xlabel('Predicted outcome', fontsize=16)\n",
    "    plt.ioff()\n",
    "    plt.show()\n",
    "    return"
   ]
  },
  {
   "cell_type": "code",
   "execution_count": 27,
   "id": "c0cd2ab2-d03d-463f-8615-3d134e33b3c4",
   "metadata": {
    "tags": []
   },
   "outputs": [
    {
     "name": "stdout",
     "output_type": "stream",
     "text": [
      "Metrics\n"
     ]
    },
    {
     "data": {
      "text/plain": [
       "Accuracy     0.987260\n",
       "Recall       0.982568\n",
       "Precision    0.951574\n",
       "F1-score     0.966823\n",
       "Name: XGBoost, dtype: float64"
      ]
     },
     "metadata": {},
     "output_type": "display_data"
    },
    {
     "data": {
      "image/png": "[encoded data removed]",
      "text/plain": [
       "<Figure size 500x500 with 2 Axes>"
      ]
     },
     "metadata": {},
     "output_type": "display_data"
    }
   ],
   "source": [
    "model_name = 'XGBoost'\n",
    "getMetrics(model_name, y_test_pred, y_test_df.values.flatten())\n",
    "getCM(model_name, y_test_pred, y_test_df.values.flatten())"
   ]
  },
  {
   "cell_type": "code",
   "execution_count": 28,
   "id": "34898318-fcc2-4294-9552-93d92a07846c",
   "metadata": {},
   "outputs": [],
   "source": [
    "clf.save_model('./Models/XGB.json')"
   ]
  },
  {
   "cell_type": "code",
   "execution_count": 23,
   "id": "394ae48f-6c5e-4d50-b18d-dd33e5314d3f",
   "metadata": {},
   "outputs": [],
   "source": [
    "clf.load_model('./Models/XGB.json')"
   ]
  }
 ],
 "metadata": {
  "environment": {
   "kernel": "python3",
   "name": "pytorch-gpu.1-13.m103",
   "type": "gcloud",
   "uri": "gcr.io/deeplearning-platform-release/pytorch-gpu.1-13:m103"
  },
  "kernelspec": {
   "display_name": "Python 3 (ipykernel)",
   "language": "python",
   "name": "python3"
  },
  "language_info": {
   "codemirror_mode": {
    "name": "ipython",
    "version": 3
   },
   "file_extension": ".py",
   "mimetype": "text/x-python",
   "name": "python",
   "nbconvert_exporter": "python",
   "pygments_lexer": "ipython3",
   "version": "3.7.16"
  }
 },
 "nbformat": 4,
 "nbformat_minor": 5
}
