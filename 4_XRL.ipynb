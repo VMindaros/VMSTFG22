{
 "cells": [
  {
   "cell_type": "markdown",
   "id": "2807f962-2da8-45b5-8c9e-f7e965c991f4",
   "metadata": {
    "tags": []
   },
   "source": [
    "# Reinforcement learning model explanations with SHAP #"
   ]
  },
  {
   "cell_type": "markdown",
   "id": "525bd5b3-8cd5-4b3a-9604-e2cdb26a43e4",
   "metadata": {
    "tags": []
   },
   "source": [
    "## Imports, loads and data processing functions ##"
   ]
  },
  {
   "cell_type": "code",
   "execution_count": 1,
   "id": "0a707c07-fb7a-468c-b4b9-db0416ac5ac0",
   "metadata": {
    "tags": []
   },
   "outputs": [],
   "source": [
    "import pickle\n",
    "import gym\n",
    "import pandas as pd\n",
    "import numpy as np\n",
    "import os\n",
    "import shap\n",
    "import warnings\n",
    "\n",
    "from stable_baselines3 import PPO\n",
    "from stable_baselines3.common.policies import obs_as_tensor\n",
    "\n",
    "warnings.filterwarnings(\"ignore\")"
   ]
  },
  {
   "cell_type": "code",
   "execution_count": 2,
   "id": "ddea35c4-1efb-4d89-9489-456b6c036a38",
   "metadata": {
    "tags": []
   },
   "outputs": [],
   "source": [
    "file_path = './final_ipynb/'"
   ]
  },
  {
   "cell_type": "code",
   "execution_count": 3,
   "id": "d26652d3-2037-47ec-bb03-73ebad9b11e4",
   "metadata": {
    "tags": []
   },
   "outputs": [],
   "source": [
    "x_train_df = pd.read_csv(file_path+'x_train.csv')\n",
    "x_train = x_train_df.values\n",
    "\n",
    "x_test_df = pd.read_csv(file_path+'test_alldata_EDA.csv')\n",
    "\n",
    "del x_train_df"
   ]
  },
  {
   "cell_type": "code",
   "execution_count": 4,
   "id": "d89a00c4-220e-490a-bab6-a6c1606a1f4e",
   "metadata": {
    "tags": []
   },
   "outputs": [],
   "source": [
    "def clean_data(data):\n",
    "    '''\n",
    "    Cleans given raw data. Performs various cleaning, removes Null and wrong values.\n",
    "    Check for columns datatype and fix them.\n",
    "    '''\n",
    "    numerical_col = data.select_dtypes(include=np.number).columns  # All the numerical columns list\n",
    "    categorical_col = data.select_dtypes(exclude=np.number).columns  # All the categorical columns list\n",
    "    \n",
    "    # Cleaning the data\n",
    "    for col in data.columns:\n",
    "        val = mode_dict[col]  # Mode value of the column in train data\n",
    "        data[col] = data[col].fillna(value=val)\n",
    "        data[col] = data[col].replace(' ', value=val)\n",
    "        data[col] = data[col].apply(lambda x:\"None\" if x==\"-\" else x)\n",
    "\n",
    "        # Fixing binary columns\n",
    "        if col in saved_dict['binary_col']:\n",
    "            data[col] = np.where(data[col]>1, val, data[col])\n",
    "\n",
    "    # Fixing datatype of columns\n",
    "    bad_dtypes = list(set(categorical_col) - set(saved_dict['cat_col']))\n",
    "    for bad_col in bad_dtypes:\n",
    "        data[col] = data[col].astype(float)\n",
    "    \n",
    "    return data"
   ]
  },
  {
   "cell_type": "code",
   "execution_count": 5,
   "id": "181fe787-64d9-4c01-a9be-9960bdf5356e",
   "metadata": {
    "tags": []
   },
   "outputs": [],
   "source": [
    "def apply_log1p(data):\n",
    "    '''\n",
    "    Performs FE on the data. Apply log1p on the specified columns create new column and remove those original columns.\n",
    "    '''\n",
    "    for col in saved_dict['log1p_col']:\n",
    "        new_col = col + '_log1p'  # New col name\n",
    "        data[new_col] = data[col].apply(np.log1p)  # Creating new column on transformed data\n",
    "        data.drop(col, axis=1, inplace=True)  # Removing old columns\n",
    "    return data"
   ]
  },
  {
   "cell_type": "code",
   "execution_count": 6,
   "id": "580676dc-8a38-499a-b207-89634b18ca90",
   "metadata": {
    "tags": []
   },
   "outputs": [],
   "source": [
    "def standardize(data):\n",
    "    '''\n",
    "    Stanardize the given data. Performs mean centering and varience scaling.\n",
    "    Using stanardscaler object trained on train data.\n",
    "    '''\n",
    "    data[saved_dict['num_col']] = scaler.transform(data[saved_dict['num_col']])\n",
    "    return data"
   ]
  },
  {
   "cell_type": "code",
   "execution_count": 7,
   "id": "832deb1c-5b6a-4c56-b962-882f06099934",
   "metadata": {
    "tags": []
   },
   "outputs": [],
   "source": [
    "def ohencoding(data):\n",
    "    '''\n",
    "    Onehot encoding the categoricla columns.\n",
    "    Add the ohe columns with the data and removes categorical columns.\n",
    "    Using Onehotencoder objects trained on train data.\n",
    "    '''\n",
    "\n",
    "    # Onehot encoding cat col using onehotencoder objects\n",
    "    X = ohe_service.transform(data['service'].values.reshape(-1, 1))\n",
    "    Xm = ohe_proto.transform(data['proto'].values.reshape(-1, 1))\n",
    "    Xmm = ohe_state.transform(data['state'].values.reshape(-1, 1))\n",
    "    \n",
    "    # Adding encoding data to original data\n",
    "    data = pd.concat([data,\n",
    "                      pd.DataFrame(Xm.toarray(), columns=['proto_'+i for i in ohe_proto.categories_[0]]),\n",
    "                      pd.DataFrame(X.toarray(), columns=['service_'+i for i in ohe_service.categories_[0]]),\n",
    "                      pd.DataFrame(Xmm.toarray(), columns=['state_'+i for i in ohe_state.categories_[0]])],\n",
    "                      axis=1)\n",
    "    \n",
    "    # Removing cat columns\n",
    "    data.drop(['proto', 'service', 'state'], axis=1, inplace=True)\n",
    "\n",
    "    return data"
   ]
  },
  {
   "cell_type": "code",
   "execution_count": 8,
   "id": "ec745be5-cd60-4a16-a1ac-eaa5781e338c",
   "metadata": {
    "tags": []
   },
   "outputs": [],
   "source": [
    "# Parametrs\n",
    "saved_dict = pickle.load(open(file_path+'saved_dict.pkl', 'rb'))\n",
    "# Mode value of all the columns\n",
    "mode_dict = pickle.load(open(file_path+'mode_dict.pkl', 'rb'))\n",
    "# Stanardscaler object\n",
    "scaler = pickle.load(open(file_path+'scaler.pkl', 'rb'))\n",
    "# One hot encoder objects\n",
    "ohe_proto = pickle.load(open(file_path+'ohe_proto.pkl', 'rb'))\n",
    "ohe_service = pickle.load(open(file_path+'ohe_service.pkl', 'rb'))\n",
    "ohe_state = pickle.load(open(file_path+'ohe_state.pkl', 'rb'))"
   ]
  },
  {
   "cell_type": "markdown",
   "id": "ad07151c-8f57-46f0-88ae-13e0544d2610",
   "metadata": {},
   "source": [
    "## Auxiliary: in case you want to get anomalies indexes ##"
   ]
  },
  {
   "cell_type": "code",
   "execution_count": 9,
   "id": "90d7ce27-90df-4883-83d5-2704eae645d3",
   "metadata": {},
   "outputs": [],
   "source": [
    "y_test = x_test_df['label']\n",
    "\n",
    "att_idx = []\n",
    "for idx, _ in enumerate(y_test):\n",
    "    if y_test[idx] != 0:\n",
    "        att_idx.append(idx)"
   ]
  },
  {
   "cell_type": "code",
   "execution_count": 10,
   "id": "cab16ea8-43d9-49c6-bd30-d3b993968f80",
   "metadata": {
    "tags": []
   },
   "outputs": [
    {
     "data": {
      "text/plain": [
       "[53, 54, 97, 118, 119, 120, 121, 122, 123, 124, 125, 126, 127, 128, 129]"
      ]
     },
     "execution_count": 10,
     "metadata": {},
     "output_type": "execute_result"
    }
   ],
   "source": [
    "att_idx[:15]"
   ]
  },
  {
   "cell_type": "markdown",
   "id": "f41d8c39-109e-4326-8c70-0c41a3a7b363",
   "metadata": {
    "tags": []
   },
   "source": [
    "## Generate a SHAP waterfall graph as an explanation ##"
   ]
  },
  {
   "cell_type": "code",
   "execution_count": 11,
   "id": "0c41f85b-a26e-4122-9f5c-8a609bbdf0ff",
   "metadata": {},
   "outputs": [],
   "source": [
    "def generateFixedExplanation(sample, explainer, cleaned_cols, processed_cols):\n",
    "    shap_values = explainer.shap_values(sample, normalize=False)\n",
    "    new_values = []\n",
    "    \n",
    "    # Sums of X_proto columns and similar \n",
    "    for f in cleaned_cols:\n",
    "        tmp = 0\n",
    "        for idx, p in enumerate(processed_cols):\n",
    "            if p.startswith(f):\n",
    "                tmp += shap_values[idx]\n",
    "        new_values.append(tmp)\n",
    "        \n",
    "    new_values = np.asarray(new_values, np.float32)\n",
    "    \n",
    "    exp = shap.Explanation(new_values, \n",
    "                           SHAP_explainer.expected_value, \n",
    "                           data=x_test_original.iloc[0].values, \n",
    "                           feature_names=clean_cols)\n",
    "    \n",
    "    shap.plots.waterfall(exp, max_display=10)"
   ]
  },
  {
   "cell_type": "markdown",
   "id": "758e3686-9bff-45e0-9030-a17e4336a647",
   "metadata": {},
   "source": [
    "### Reinforcement Model load and SHAP Kernel Explainer initialisation ###"
   ]
  },
  {
   "cell_type": "code",
   "execution_count": 12,
   "id": "708c63b7-5eca-4fa2-98ca-611959abcfdc",
   "metadata": {},
   "outputs": [],
   "source": [
    "test_model = PPO.load('./Models/PPO')\n",
    "\n",
    "SHAP_explainer = shap.KernelExplainer(lambda x: test_model.predict(x)[0], \n",
    "                                      shap.sample(x_train, 100))"
   ]
  },
  {
   "cell_type": "markdown",
   "id": "f18b2be6-0564-4249-8701-8f8573327984",
   "metadata": {},
   "source": [
    "### Sample selection and processing, original value and columns copy  ###"
   ]
  },
  {
   "cell_type": "code",
   "execution_count": 13,
   "id": "63696778-818f-4730-8e46-95e527cdb233",
   "metadata": {},
   "outputs": [],
   "source": [
    "# Sample selection\n",
    "sample_idx = 118\n",
    "sample_df = x_test_df.drop(columns=['label']).iloc[[sample_idx]]\n",
    "sample_df.reset_index(drop=True, inplace=True)\n",
    "\n",
    "# Performs a clean on the sample\n",
    "dropable_col = saved_dict['to_drop'] + saved_dict['corr_col']\n",
    "sample_df.drop(columns=dropable_col, inplace=True)\n",
    "sample_df = clean_data(sample_df)"
   ]
  },
  {
   "cell_type": "code",
   "execution_count": 14,
   "id": "83eeb4fa-1754-44df-b248-ce8a6b770aa4",
   "metadata": {},
   "outputs": [
    {
     "data": {
      "text/plain": [
       "proto                       tcp\n",
       "state                       FIN\n",
       "dur                    0.841873\n",
       "sbytes                      564\n",
       "dbytes                      354\n",
       "sttl                        254\n",
       "dttl                        252\n",
       "sloss                         2\n",
       "service                    None\n",
       "sload               4827.331543\n",
       "dload                 2945.8125\n",
       "spkts                        10\n",
       "swin                        255\n",
       "stcpb                3240426617\n",
       "dtcpb                1691987323\n",
       "smeansz                      56\n",
       "dmeansz                      44\n",
       "trans_depth                   0\n",
       "res_bdy_len                   0\n",
       "sjit                6529.280566\n",
       "djit                 164.364563\n",
       "stime                1424247760\n",
       "sintpkt               93.541444\n",
       "dintpkt              108.679859\n",
       "tcprtt                 0.159898\n",
       "synack                 0.080401\n",
       "ackdat                 0.079497\n",
       "is_sm_ips_ports               0\n",
       "ct_state_ttl                  1\n",
       "ct_flw_http_mthd            0.0\n",
       "is_ftp_login                0.0\n",
       "ct_ftp_cmd                    0\n",
       "ct_srv_src                    1\n",
       "ct_srv_dst                    1\n",
       "ct_dst_ltm                    1\n",
       "ct_src_ltm                    1\n",
       "ct_dst_sport_ltm              1\n",
       "ct_dst_src_ltm              1.0\n",
       "Name: 0, dtype: object"
      ]
     },
     "metadata": {},
     "output_type": "display_data"
    }
   ],
   "source": [
    "# If you wish to change the sample data, change it here. Examples:\n",
    "# sample_df['ct_state_ttl'] = 0\n",
    "# sample_df['dur'] = 9999999999999999\n",
    "# sample_df['dttl'] = 0\n",
    "\n",
    "display(sample_df.iloc[0])"
   ]
  },
  {
   "cell_type": "code",
   "execution_count": 15,
   "id": "ca7e67ee-3e03-4efa-93ac-9c2b873738e2",
   "metadata": {},
   "outputs": [],
   "source": [
    "# Add the aditional network_bytes column\n",
    "sample_df['network_bytes'] = sample_df['dbytes'] + sample_df['sbytes']\n",
    "\n",
    "# Copies the original values values and columns for later use on explanations\n",
    "x_test_original = sample_df.copy()\n",
    "clean_cols = sample_df.columns.values # 39 features"
   ]
  },
  {
   "cell_type": "code",
   "execution_count": 16,
   "id": "39ff1fec-11c4-489f-98af-d5e898680b58",
   "metadata": {},
   "outputs": [],
   "source": [
    "# Processes the sample and also saves the processed column names\n",
    "sample_df = apply_log1p(sample_df)\n",
    "sample_df = standardize(sample_df)\n",
    "sample_df = ohencoding(sample_df)\n",
    "processed_cols = sample_df.columns.values # 200 features\n",
    "\n",
    "# Get the values of the processed sample as an array\n",
    "sample = sample_df.iloc[0].values"
   ]
  },
  {
   "cell_type": "markdown",
   "id": "d10d543e-5096-4b36-b406-6766a1ec2cd2",
   "metadata": {},
   "source": [
    "### Visual explanation ###"
   ]
  },
  {
   "cell_type": "code",
   "execution_count": 17,
   "id": "18084eac-cbde-4d05-a12b-ac5e2df18f8f",
   "metadata": {
    "tags": []
   },
   "outputs": [
    {
     "data": {
      "image/png": "[encoded data removed]",
      "text/plain": [
       "<Figure size 800x650 with 3 Axes>"
      ]
     },
     "metadata": {},
     "output_type": "display_data"
    }
   ],
   "source": [
    "generateFixedExplanation(sample=sample,\n",
    "                         explainer=SHAP_explainer,\n",
    "                         cleaned_cols=clean_cols,\n",
    "                         processed_cols=processed_cols)"
   ]
  },
  {
   "cell_type": "code",
   "execution_count": null,
   "id": "bb8bdc73-30a3-41bd-8d22-4b79c004aecb",
   "metadata": {},
   "outputs": [],
   "source": []
  }
 ],
 "metadata": {
  "kernelspec": {
   "display_name": "Python 3 (ipykernel)",
   "language": "python",
   "name": "python3"
  },
  "language_info": {
   "codemirror_mode": {
    "name": "ipython",
    "version": 3
   },
   "file_extension": ".py",
   "mimetype": "text/x-python",
   "name": "python",
   "nbconvert_exporter": "python",
   "pygments_lexer": "ipython3",
   "version": "3.7.16"
  }
 },
 "nbformat": 4,
 "nbformat_minor": 5
}
