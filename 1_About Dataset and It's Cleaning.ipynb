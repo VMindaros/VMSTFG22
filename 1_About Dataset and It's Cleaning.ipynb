{
 "cells": [
  {
   "cell_type": "markdown",
   "metadata": {
    "colab_type": "text",
    "id": "XExu7qDXt-Ol"
   },
   "source": [
    "# UNSW-NB15: Data Information"
   ]
  },
  {
   "cell_type": "markdown",
   "metadata": {
    "colab_type": "text",
    "id": "NdEtZ6YBuIuj"
   },
   "source": [
    "## Source/Useful Links"
   ]
  },
  {
   "cell_type": "markdown",
   "metadata": {
    "colab_type": "text",
    "id": "0GSJZmgbuUNN"
   },
   "source": [
    "Get the data from: https://www.unsw.adfa.edu.au/unsw-canberra-cyber/cybersecurity/ADFA-NB15-Datasets/\n",
    "\n",
    "Refer: http://dx.doi.org/10.1080/19393555.2015.1125974\n",
    "\n",
    "\n",
    "This dataset has been created by: Nour Moustafa, IEEE student Member, Jill Slay\n"
   ]
  },
  {
   "cell_type": "markdown",
   "metadata": {
    "colab_type": "text",
    "id": "P9hQKKJQy6Se"
   },
   "source": [
    "## What is IDS (Intrusion Detection System)?"
   ]
  },
  {
   "cell_type": "markdown",
   "metadata": {
    "colab_type": "text",
    "id": "YgahjiyXJllR"
   },
   "source": [
    "Intrusion Detection Systems (IDS) are precisely present to prevent attacks and infiltration to Networks, which might affect the organization. They monitor network traffic for suspicious activities and issue alert in case of issues.\n",
    "\n",
    "**Types if IDS:**\n",
    "> 1. *Signature-based intrusion detection*– In this kind incoming attacks are compared with pre-existing database of known attacks.\n",
    "> 2. *Anomaly-based intrusion detection*- It uses statistics to form a baseline usage of the networks at different time intervals. They were introduced to detect unknown attacks.\n",
    "\n",
    "Based on where they discover, they can be classified into:\n",
    "1. Network intrusion detection (NIDS)\n",
    "2. Host intrusion detection (HIDS)"
   ]
  },
  {
   "cell_type": "markdown",
   "metadata": {
    "colab_type": "text",
    "id": "oCIAUYTQzNXL"
   },
   "source": [
    "## Problem Statement"
   ]
  },
  {
   "cell_type": "markdown",
   "metadata": {
    "colab_type": "text",
    "id": "Vknah70vLLPB"
   },
   "source": [
    "With the rise of Internet usage, it is very important to protect Networks.  The most common risk to a network’s security is an intrusion such as brute force, denial of service or even an infiltration from within a network. With the changing patterns in network behavior, it is necessary to switch to a dynamic approach to detect and prevent such intrusions.\n",
    "\n",
    "**Importance of this dataset:**\n",
    " \n",
    "Although there were few daatset available before this dataset for NIDS, but they were generated decades ago and do not provide realistic outputs. That's why this dataset had been created by Nour Moustafa to tackle existing problems like: unbalanced dataset, missing values etc."
   ]
  },
  {
   "cell_type": "markdown",
   "metadata": {
    "colab_type": "text",
    "id": "41Rlj0SsvJs-"
   },
   "source": [
    "## Data Collection"
   ]
  },
  {
   "cell_type": "markdown",
   "metadata": {
    "colab_type": "text",
    "id": "l5m0e4e5vPx5"
   },
   "source": [
    "This dataset has 4 CSV files of the data records and each CSV file contains attack and normal records.\n",
    "<table>\n",
    "<tr>\n",
    "<th> file name </th>\n",
    "<th> file name size</th>\n",
    "<th> number of records </th>\n",
    "<th> number of features </th>\n",
    "</tr>\n",
    "\n",
    "<tr>\n",
    "<td> UNSWNB15_1.csv </td>\n",
    "<td> 161.2 MB </td>\n",
    "<td> 700000 </td>\n",
    "<td> 49 </td>\n",
    "</tr>\n",
    "\n",
    "<tr>\n",
    "<td> UNSWNB15_2.csv </td>\n",
    "<td> 157.6 MB </td>\n",
    "<td> 700000 </td>\n",
    "<td> 49 </td>\n",
    "</tr>\n",
    "\n",
    "<tr>\n",
    "<td> UNSWNB15_3.csv </td>\n",
    "<td> 147.4 MB </td>\n",
    "<td> 700000 </td>\n",
    "<td> 49 </td>\n",
    "</tr>\n",
    "\n",
    "<tr>\n",
    "<td> UNSWNB15_4.csv </td>\n",
    "<td> 91.3 MB </td>\n",
    "<td> 440044 </td>\n",
    "<td> 49 </td>\n",
    "</tr>\n",
    "</table>\n"
   ]
  },
  {
   "cell_type": "markdown",
   "metadata": {
    "colab_type": "text",
    "id": "3N4GIGDlxQ5E"
   },
   "source": [
    "## Features in the Dataset"
   ]
  },
  {
   "cell_type": "markdown",
   "metadata": {
    "colab_type": "text",
    "id": "upBxlkRQxrvx"
   },
   "source": [
    "This dataset has 49 features.\n",
    "<br>\n",
    "There are 3 different datatypes:\n",
    "- Categorical: proto, state, service, attack_cat\n",
    "- Binary: is_sm_ips_ports, is_ftp_login\n",
    "- Numerical: Rest of the features"
   ]
  },
  {
   "cell_type": "markdown",
   "metadata": {
    "colab_type": "text",
    "id": "_oFD3hTTyxpE"
   },
   "source": [
    "## ML Problem Formulation"
   ]
  },
  {
   "cell_type": "markdown",
   "metadata": {
    "colab_type": "text",
    "id": "GPeudrf2MoII"
   },
   "source": [
    "*Binary classification of attack category*\n",
    "\n",
    "The dataset has \"label\" with 0 and 1 where 0 represents non-attack and 1 represent attack. So with the features available we will try to predict a given datapoint whether it belongs to attack or non-attack category."
   ]
  },
  {
   "cell_type": "markdown",
   "metadata": {
    "colab_type": "text",
    "id": "1-OMBMVny0u6"
   },
   "source": [
    "## Performance Metrics"
   ]
  },
  {
   "cell_type": "markdown",
   "metadata": {
    "colab_type": "text",
    "id": "oj58MEtaLN3F"
   },
   "source": [
    "1. Accuracy\n",
    "2. False Alarm Rate"
   ]
  },
  {
   "cell_type": "markdown",
   "metadata": {
    "colab_type": "text",
    "id": "CEzmOzrvqhC2"
   },
   "source": [
    "# UNSW-NB15: Data cleaning and preprocessing"
   ]
  },
  {
   "cell_type": "markdown",
   "metadata": {
    "colab_type": "text",
    "id": "z47K0yNEqyAN"
   },
   "source": [
    "## Importing libraries"
   ]
  },
  {
   "cell_type": "code",
   "execution_count": 1,
   "metadata": {
    "colab": {
     "base_uri": "https://localhost:8080/",
     "height": 71
    },
    "colab_type": "code",
    "executionInfo": {
     "elapsed": 2317,
     "status": "ok",
     "timestamp": 1598254502226,
     "user": {
      "displayName": "Subrata Maji",
      "photoUrl": "https://lh3.googleusercontent.com/a-/AOh14Ghxu8VIGqB6XL51-t5wM_f1R1LdmEePYHIwb9b-=s64",
      "userId": "03124174213573157612"
     },
     "user_tz": -330
    },
    "id": "f6ONB_pfCiB_",
    "outputId": "aba5e01d-97a8-4920-b2a6-7374ee8a2fa9",
    "tags": []
   },
   "outputs": [],
   "source": [
    "import numpy as np  # for array\n",
    "import pandas as pd  # for csv files and dataframe\n",
    "import matplotlib.pyplot as plt  # for plotting\n",
    "import seaborn as sns  # plotting\n",
    "from scipy import stats\n",
    "\n",
    "import pickle  # To load data int disk\n",
    "from prettytable import PrettyTable  # To print in tabular format\n",
    "\n",
    "import warnings\n",
    "warnings.filterwarnings(\"ignore\")\n",
    "\n",
    "from sklearn.preprocessing import StandardScaler\n",
    "from sklearn.preprocessing import LabelEncoder, OneHotEncoder\n",
    "\n",
    "from sklearn.model_selection import train_test_split\n",
    "from sklearn.linear_model import LogisticRegression, SGDClassifier\n",
    "from sklearn.svm import LinearSVC\n",
    "from sklearn.naive_bayes import MultinomialNB\n",
    "from sklearn.tree import DecisionTreeClassifier\n",
    "from sklearn.ensemble import RandomForestClassifier\n",
    "import xgboost as xgb\n",
    "\n",
    "from sklearn.metrics import accuracy_score, confusion_matrix, make_scorer\n",
    "from sklearn.metrics import auc, f1_score, roc_curve\n",
    "from sklearn.model_selection import GridSearchCV, RandomizedSearchCV\n",
    "from sklearn.model_selection import cross_validate, cross_val_predict\n",
    "\n",
    "%matplotlib inline"
   ]
  },
  {
   "cell_type": "markdown",
   "metadata": {
    "colab_type": "text",
    "id": "dPZ76vVwqsGD"
   },
   "source": [
    "## Reading data"
   ]
  },
  {
   "cell_type": "code",
   "execution_count": 2,
   "metadata": {
    "colab": {},
    "colab_type": "code",
    "id": "H8FyMkxn7c-u",
    "tags": []
   },
   "outputs": [],
   "source": [
    "# Creating a empty dict, where I will save all parameters required for test data transformation\n",
    "\n",
    "saved_dict = {}"
   ]
  },
  {
   "cell_type": "code",
   "execution_count": 3,
   "metadata": {
    "colab": {},
    "colab_type": "code",
    "id": "JP2T1JbfEALU",
    "tags": []
   },
   "outputs": [],
   "source": [
    "# Reading datasets\n",
    "dfs = []\n",
    "for i in range(1,5):\n",
    "    path = './Dataset/UNSW-NB15_{}.csv'  # There are 4 input csv files\n",
    "    dfs.append(pd.read_csv(path.format(i), header = None))\n",
    "all_data = pd.concat(dfs).reset_index(drop=True)  # Concat all to a single df"
   ]
  },
  {
   "cell_type": "code",
   "execution_count": 4,
   "metadata": {
    "colab": {},
    "colab_type": "code",
    "id": "YIhtY1RMFI6V",
    "tags": []
   },
   "outputs": [],
   "source": [
    "# This csv file contains names of all the features\n",
    "df_col = pd.read_csv('./NUSW-NB15_features.csv', encoding='ISO-8859-1')"
   ]
  },
  {
   "cell_type": "code",
   "execution_count": 5,
   "metadata": {
    "colab": {},
    "colab_type": "code",
    "id": "A4cRIiK3Furb",
    "tags": []
   },
   "outputs": [],
   "source": [
    "# Making column names lower case, removing spaces\n",
    "df_col['Name'] = df_col['Name'].apply(lambda x: x.strip().replace(' ', '').lower())"
   ]
  },
  {
   "cell_type": "code",
   "execution_count": 6,
   "metadata": {
    "colab": {},
    "colab_type": "code",
    "id": "WA_VRzz3GQ5R",
    "tags": []
   },
   "outputs": [],
   "source": [
    "# Renaming our dataframe with proper column names\n",
    "all_data.columns = df_col['Name']"
   ]
  },
  {
   "cell_type": "code",
   "execution_count": 7,
   "metadata": {
    "colab": {},
    "colab_type": "code",
    "id": "VTbVl_fY801n",
    "tags": []
   },
   "outputs": [],
   "source": [
    "# Saving useful info, later this will be used to transform raw test data\n",
    "saved_dict['columns'] = df_col['Name'][df_col['Name']!='label'].tolist()"
   ]
  },
  {
   "cell_type": "code",
   "execution_count": 8,
   "metadata": {
    "colab": {},
    "colab_type": "code",
    "id": "F1OsEYzyG5Mg",
    "tags": []
   },
   "outputs": [],
   "source": [
    "del df_col"
   ]
  },
  {
   "cell_type": "code",
   "execution_count": 9,
   "metadata": {
    "colab": {
     "base_uri": "https://localhost:8080/",
     "height": 34
    },
    "colab_type": "code",
    "executionInfo": {
     "elapsed": 998,
     "status": "ok",
     "timestamp": 1598243970686,
     "user": {
      "displayName": "Subrata Maji",
      "photoUrl": "https://lh3.googleusercontent.com/a-/AOh14Ghxu8VIGqB6XL51-t5wM_f1R1LdmEePYHIwb9b-=s64",
      "userId": "03124174213573157612"
     },
     "user_tz": -330
    },
    "id": "PhzQWEjjOh09",
    "outputId": "44ebab89-4be8-4108-c4df-e18b43c274a9",
    "tags": []
   },
   "outputs": [
    {
     "data": {
      "text/plain": [
       "(2540047, 49)"
      ]
     },
     "execution_count": 9,
     "metadata": {},
     "output_type": "execute_result"
    }
   ],
   "source": [
    "all_data.shape"
   ]
  },
  {
   "cell_type": "code",
   "execution_count": 10,
   "metadata": {
    "colab": {
     "base_uri": "https://localhost:8080/",
     "height": 224
    },
    "colab_type": "code",
    "executionInfo": {
     "elapsed": 1055,
     "status": "ok",
     "timestamp": 1598246771370,
     "user": {
      "displayName": "Subrata Maji",
      "photoUrl": "https://lh3.googleusercontent.com/a-/AOh14Ghxu8VIGqB6XL51-t5wM_f1R1LdmEePYHIwb9b-=s64",
      "userId": "03124174213573157612"
     },
     "user_tz": -330
    },
    "id": "cioJQLS5GV0E",
    "outputId": "1bd31163-dab6-4bd9-b175-98b640801f8c",
    "tags": []
   },
   "outputs": [
    {
     "data": {
      "text/html": [
       "<div>\n",
       "<style scoped>\n",
       "    .dataframe tbody tr th:only-of-type {\n",
       "        vertical-align: middle;\n",
       "    }\n",
       "\n",
       "    .dataframe tbody tr th {\n",
       "        vertical-align: top;\n",
       "    }\n",
       "\n",
       "    .dataframe thead th {\n",
       "        text-align: right;\n",
       "    }\n",
       "</style>\n",
       "<table border=\"1\" class=\"dataframe\">\n",
       "  <thead>\n",
       "    <tr style=\"text-align: right;\">\n",
       "      <th>Name</th>\n",
       "      <th>srcip</th>\n",
       "      <th>sport</th>\n",
       "      <th>dstip</th>\n",
       "      <th>dsport</th>\n",
       "      <th>proto</th>\n",
       "      <th>state</th>\n",
       "      <th>dur</th>\n",
       "      <th>sbytes</th>\n",
       "      <th>dbytes</th>\n",
       "      <th>sttl</th>\n",
       "      <th>...</th>\n",
       "      <th>ct_ftp_cmd</th>\n",
       "      <th>ct_srv_src</th>\n",
       "      <th>ct_srv_dst</th>\n",
       "      <th>ct_dst_ltm</th>\n",
       "      <th>ct_src_ltm</th>\n",
       "      <th>ct_src_dport_ltm</th>\n",
       "      <th>ct_dst_sport_ltm</th>\n",
       "      <th>ct_dst_src_ltm</th>\n",
       "      <th>attack_cat</th>\n",
       "      <th>label</th>\n",
       "    </tr>\n",
       "  </thead>\n",
       "  <tbody>\n",
       "    <tr>\n",
       "      <th>0</th>\n",
       "      <td>59.166.0.0</td>\n",
       "      <td>1390</td>\n",
       "      <td>149.171.126.6</td>\n",
       "      <td>53</td>\n",
       "      <td>udp</td>\n",
       "      <td>CON</td>\n",
       "      <td>0.001055</td>\n",
       "      <td>132</td>\n",
       "      <td>164</td>\n",
       "      <td>31</td>\n",
       "      <td>...</td>\n",
       "      <td>0</td>\n",
       "      <td>3</td>\n",
       "      <td>7</td>\n",
       "      <td>1</td>\n",
       "      <td>3</td>\n",
       "      <td>1</td>\n",
       "      <td>1</td>\n",
       "      <td>1</td>\n",
       "      <td>NaN</td>\n",
       "      <td>0</td>\n",
       "    </tr>\n",
       "    <tr>\n",
       "      <th>1</th>\n",
       "      <td>59.166.0.0</td>\n",
       "      <td>33661</td>\n",
       "      <td>149.171.126.9</td>\n",
       "      <td>1024</td>\n",
       "      <td>udp</td>\n",
       "      <td>CON</td>\n",
       "      <td>0.036133</td>\n",
       "      <td>528</td>\n",
       "      <td>304</td>\n",
       "      <td>31</td>\n",
       "      <td>...</td>\n",
       "      <td>0</td>\n",
       "      <td>2</td>\n",
       "      <td>4</td>\n",
       "      <td>2</td>\n",
       "      <td>3</td>\n",
       "      <td>1</td>\n",
       "      <td>1</td>\n",
       "      <td>2</td>\n",
       "      <td>NaN</td>\n",
       "      <td>0</td>\n",
       "    </tr>\n",
       "    <tr>\n",
       "      <th>2</th>\n",
       "      <td>59.166.0.6</td>\n",
       "      <td>1464</td>\n",
       "      <td>149.171.126.7</td>\n",
       "      <td>53</td>\n",
       "      <td>udp</td>\n",
       "      <td>CON</td>\n",
       "      <td>0.001119</td>\n",
       "      <td>146</td>\n",
       "      <td>178</td>\n",
       "      <td>31</td>\n",
       "      <td>...</td>\n",
       "      <td>0</td>\n",
       "      <td>12</td>\n",
       "      <td>8</td>\n",
       "      <td>1</td>\n",
       "      <td>2</td>\n",
       "      <td>2</td>\n",
       "      <td>1</td>\n",
       "      <td>1</td>\n",
       "      <td>NaN</td>\n",
       "      <td>0</td>\n",
       "    </tr>\n",
       "    <tr>\n",
       "      <th>3</th>\n",
       "      <td>59.166.0.5</td>\n",
       "      <td>3593</td>\n",
       "      <td>149.171.126.5</td>\n",
       "      <td>53</td>\n",
       "      <td>udp</td>\n",
       "      <td>CON</td>\n",
       "      <td>0.001209</td>\n",
       "      <td>132</td>\n",
       "      <td>164</td>\n",
       "      <td>31</td>\n",
       "      <td>...</td>\n",
       "      <td>0</td>\n",
       "      <td>6</td>\n",
       "      <td>9</td>\n",
       "      <td>1</td>\n",
       "      <td>1</td>\n",
       "      <td>1</td>\n",
       "      <td>1</td>\n",
       "      <td>1</td>\n",
       "      <td>NaN</td>\n",
       "      <td>0</td>\n",
       "    </tr>\n",
       "    <tr>\n",
       "      <th>4</th>\n",
       "      <td>59.166.0.3</td>\n",
       "      <td>49664</td>\n",
       "      <td>149.171.126.0</td>\n",
       "      <td>53</td>\n",
       "      <td>udp</td>\n",
       "      <td>CON</td>\n",
       "      <td>0.001169</td>\n",
       "      <td>146</td>\n",
       "      <td>178</td>\n",
       "      <td>31</td>\n",
       "      <td>...</td>\n",
       "      <td>0</td>\n",
       "      <td>7</td>\n",
       "      <td>9</td>\n",
       "      <td>1</td>\n",
       "      <td>1</td>\n",
       "      <td>1</td>\n",
       "      <td>1</td>\n",
       "      <td>1</td>\n",
       "      <td>NaN</td>\n",
       "      <td>0</td>\n",
       "    </tr>\n",
       "  </tbody>\n",
       "</table>\n",
       "<p>5 rows × 49 columns</p>\n",
       "</div>"
      ],
      "text/plain": [
       "Name       srcip  sport          dstip dsport proto state       dur  sbytes  \\\n",
       "0     59.166.0.0   1390  149.171.126.6     53   udp   CON  0.001055     132   \n",
       "1     59.166.0.0  33661  149.171.126.9   1024   udp   CON  0.036133     528   \n",
       "2     59.166.0.6   1464  149.171.126.7     53   udp   CON  0.001119     146   \n",
       "3     59.166.0.5   3593  149.171.126.5     53   udp   CON  0.001209     132   \n",
       "4     59.166.0.3  49664  149.171.126.0     53   udp   CON  0.001169     146   \n",
       "\n",
       "Name  dbytes  sttl  ...  ct_ftp_cmd  ct_srv_src  ct_srv_dst ct_dst_ltm  \\\n",
       "0        164    31  ...           0           3           7          1   \n",
       "1        304    31  ...           0           2           4          2   \n",
       "2        178    31  ...           0          12           8          1   \n",
       "3        164    31  ...           0           6           9          1   \n",
       "4        178    31  ...           0           7           9          1   \n",
       "\n",
       "Name  ct_src_ltm  ct_src_dport_ltm  ct_dst_sport_ltm  ct_dst_src_ltm  \\\n",
       "0              3                 1                 1               1   \n",
       "1              3                 1                 1               2   \n",
       "2              2                 2                 1               1   \n",
       "3              1                 1                 1               1   \n",
       "4              1                 1                 1               1   \n",
       "\n",
       "Name  attack_cat  label  \n",
       "0            NaN      0  \n",
       "1            NaN      0  \n",
       "2            NaN      0  \n",
       "3            NaN      0  \n",
       "4            NaN      0  \n",
       "\n",
       "[5 rows x 49 columns]"
      ]
     },
     "execution_count": 10,
     "metadata": {},
     "output_type": "execute_result"
    }
   ],
   "source": [
    "all_data.head()"
   ]
  },
  {
   "cell_type": "markdown",
   "metadata": {
    "colab_type": "text",
    "id": "BEUb71mo3kQ0"
   },
   "source": [
    "## Data cleaning and pre-processing"
   ]
  },
  {
   "cell_type": "code",
   "execution_count": 11,
   "metadata": {
    "tags": []
   },
   "outputs": [
    {
     "data": {
      "text/html": [
       "<div>\n",
       "<style scoped>\n",
       "    .dataframe tbody tr th:only-of-type {\n",
       "        vertical-align: middle;\n",
       "    }\n",
       "\n",
       "    .dataframe tbody tr th {\n",
       "        vertical-align: top;\n",
       "    }\n",
       "\n",
       "    .dataframe thead th {\n",
       "        text-align: right;\n",
       "    }\n",
       "</style>\n",
       "<table border=\"1\" class=\"dataframe\">\n",
       "  <thead>\n",
       "    <tr style=\"text-align: right;\">\n",
       "      <th>Name</th>\n",
       "      <th>srcip</th>\n",
       "      <th>sport</th>\n",
       "      <th>dstip</th>\n",
       "      <th>dsport</th>\n",
       "      <th>proto</th>\n",
       "      <th>state</th>\n",
       "      <th>dur</th>\n",
       "      <th>sbytes</th>\n",
       "      <th>dbytes</th>\n",
       "      <th>sttl</th>\n",
       "      <th>...</th>\n",
       "      <th>ct_ftp_cmd</th>\n",
       "      <th>ct_srv_src</th>\n",
       "      <th>ct_srv_dst</th>\n",
       "      <th>ct_dst_ltm</th>\n",
       "      <th>ct_src_ltm</th>\n",
       "      <th>ct_src_dport_ltm</th>\n",
       "      <th>ct_dst_sport_ltm</th>\n",
       "      <th>ct_dst_src_ltm</th>\n",
       "      <th>attack_cat</th>\n",
       "      <th>label</th>\n",
       "    </tr>\n",
       "  </thead>\n",
       "  <tbody>\n",
       "    <tr>\n",
       "      <th>0</th>\n",
       "      <td>59.166.0.0</td>\n",
       "      <td>1390</td>\n",
       "      <td>149.171.126.6</td>\n",
       "      <td>53</td>\n",
       "      <td>udp</td>\n",
       "      <td>CON</td>\n",
       "      <td>0.001055</td>\n",
       "      <td>132</td>\n",
       "      <td>164</td>\n",
       "      <td>31</td>\n",
       "      <td>...</td>\n",
       "      <td>0</td>\n",
       "      <td>3</td>\n",
       "      <td>7</td>\n",
       "      <td>1</td>\n",
       "      <td>3</td>\n",
       "      <td>1</td>\n",
       "      <td>1</td>\n",
       "      <td>1</td>\n",
       "      <td>NaN</td>\n",
       "      <td>0</td>\n",
       "    </tr>\n",
       "    <tr>\n",
       "      <th>1</th>\n",
       "      <td>59.166.0.0</td>\n",
       "      <td>33661</td>\n",
       "      <td>149.171.126.9</td>\n",
       "      <td>1024</td>\n",
       "      <td>udp</td>\n",
       "      <td>CON</td>\n",
       "      <td>0.036133</td>\n",
       "      <td>528</td>\n",
       "      <td>304</td>\n",
       "      <td>31</td>\n",
       "      <td>...</td>\n",
       "      <td>0</td>\n",
       "      <td>2</td>\n",
       "      <td>4</td>\n",
       "      <td>2</td>\n",
       "      <td>3</td>\n",
       "      <td>1</td>\n",
       "      <td>1</td>\n",
       "      <td>2</td>\n",
       "      <td>NaN</td>\n",
       "      <td>0</td>\n",
       "    </tr>\n",
       "    <tr>\n",
       "      <th>2</th>\n",
       "      <td>59.166.0.6</td>\n",
       "      <td>1464</td>\n",
       "      <td>149.171.126.7</td>\n",
       "      <td>53</td>\n",
       "      <td>udp</td>\n",
       "      <td>CON</td>\n",
       "      <td>0.001119</td>\n",
       "      <td>146</td>\n",
       "      <td>178</td>\n",
       "      <td>31</td>\n",
       "      <td>...</td>\n",
       "      <td>0</td>\n",
       "      <td>12</td>\n",
       "      <td>8</td>\n",
       "      <td>1</td>\n",
       "      <td>2</td>\n",
       "      <td>2</td>\n",
       "      <td>1</td>\n",
       "      <td>1</td>\n",
       "      <td>NaN</td>\n",
       "      <td>0</td>\n",
       "    </tr>\n",
       "  </tbody>\n",
       "</table>\n",
       "<p>3 rows × 49 columns</p>\n",
       "</div>"
      ],
      "text/plain": [
       "Name       srcip  sport          dstip dsport proto state       dur  sbytes  \\\n",
       "0     59.166.0.0   1390  149.171.126.6     53   udp   CON  0.001055     132   \n",
       "1     59.166.0.0  33661  149.171.126.9   1024   udp   CON  0.036133     528   \n",
       "2     59.166.0.6   1464  149.171.126.7     53   udp   CON  0.001119     146   \n",
       "\n",
       "Name  dbytes  sttl  ...  ct_ftp_cmd  ct_srv_src  ct_srv_dst ct_dst_ltm  \\\n",
       "0        164    31  ...           0           3           7          1   \n",
       "1        304    31  ...           0           2           4          2   \n",
       "2        178    31  ...           0          12           8          1   \n",
       "\n",
       "Name  ct_src_ltm  ct_src_dport_ltm  ct_dst_sport_ltm  ct_dst_src_ltm  \\\n",
       "0              3                 1                 1               1   \n",
       "1              3                 1                 1               2   \n",
       "2              2                 2                 1               1   \n",
       "\n",
       "Name  attack_cat  label  \n",
       "0            NaN      0  \n",
       "1            NaN      0  \n",
       "2            NaN      0  \n",
       "\n",
       "[3 rows x 49 columns]"
      ]
     },
     "execution_count": 11,
     "metadata": {},
     "output_type": "execute_result"
    }
   ],
   "source": [
    "all_data.iloc[:3]"
   ]
  },
  {
   "cell_type": "code",
   "execution_count": 12,
   "metadata": {
    "colab": {},
    "colab_type": "code",
    "id": "emqivUeUKXsD",
    "tags": []
   },
   "outputs": [],
   "source": [
    "# Splitting data into train and test\n",
    "# All the operation like cleaning, EDA and FE will be done on train data only\n",
    "\n",
    "split_perc = 0.8\n",
    "split_idx = int(split_perc*len(all_data))\n",
    "\n",
    "train = all_data.iloc[:split_idx]\n",
    "test = all_data.iloc[split_idx:]"
   ]
  },
  {
   "cell_type": "code",
   "execution_count": 13,
   "metadata": {
    "colab": {},
    "colab_type": "code",
    "id": "lot-WQk7yf0a",
    "tags": []
   },
   "outputs": [],
   "source": [
    "# Deleting the concatenated dataframe, as we don't need that anymore\n",
    "del all_data"
   ]
  },
  {
   "cell_type": "code",
   "execution_count": 14,
   "metadata": {
    "colab": {
     "base_uri": "https://localhost:8080/",
     "height": 51
    },
    "colab_type": "code",
    "executionInfo": {
     "elapsed": 972,
     "status": "ok",
     "timestamp": 1598246792566,
     "user": {
      "displayName": "Subrata Maji",
      "photoUrl": "https://lh3.googleusercontent.com/a-/AOh14Ghxu8VIGqB6XL51-t5wM_f1R1LdmEePYHIwb9b-=s64",
      "userId": "03124174213573157612"
     },
     "user_tz": -330
    },
    "id": "BTFWAF16xm6G",
    "outputId": "44fcaac8-151c-4e2b-9183-664256f5ceb5",
    "tags": []
   },
   "outputs": [
    {
     "name": "stdout",
     "output_type": "stream",
     "text": [
      "(2032037, 49) \n",
      " (508010, 49)\n"
     ]
    }
   ],
   "source": [
    "print(train.shape,'\\n',test.shape)"
   ]
  },
  {
   "cell_type": "code",
   "execution_count": 15,
   "metadata": {
    "colab": {
     "base_uri": "https://localhost:8080/",
     "height": 884
    },
    "colab_type": "code",
    "executionInfo": {
     "elapsed": 3349,
     "status": "ok",
     "timestamp": 1598246796961,
     "user": {
      "displayName": "Subrata Maji",
      "photoUrl": "https://lh3.googleusercontent.com/a-/AOh14Ghxu8VIGqB6XL51-t5wM_f1R1LdmEePYHIwb9b-=s64",
      "userId": "03124174213573157612"
     },
     "user_tz": -330
    },
    "id": "h5DxlsTTHGgQ",
    "outputId": "78e91b5c-252f-47ff-b828-ae3e30ef3b03",
    "tags": []
   },
   "outputs": [
    {
     "data": {
      "text/plain": [
       "Name\n",
       "srcip                     0\n",
       "sport                     0\n",
       "dstip                     0\n",
       "dsport                    0\n",
       "proto                     0\n",
       "state                     0\n",
       "dur                       0\n",
       "sbytes                    0\n",
       "dbytes                    0\n",
       "sttl                      0\n",
       "dttl                      0\n",
       "sloss                     0\n",
       "dloss                     0\n",
       "service                   0\n",
       "sload                     0\n",
       "dload                     0\n",
       "spkts                     0\n",
       "dpkts                     0\n",
       "swin                      0\n",
       "dwin                      0\n",
       "stcpb                     0\n",
       "dtcpb                     0\n",
       "smeansz                   0\n",
       "dmeansz                   0\n",
       "trans_depth               0\n",
       "res_bdy_len               0\n",
       "sjit                      0\n",
       "djit                      0\n",
       "stime                     0\n",
       "ltime                     0\n",
       "sintpkt                   0\n",
       "dintpkt                   0\n",
       "tcprtt                    0\n",
       "synack                    0\n",
       "ackdat                    0\n",
       "is_sm_ips_ports           0\n",
       "ct_state_ttl              0\n",
       "ct_flw_http_mthd     879639\n",
       "is_ftp_login         929782\n",
       "ct_ftp_cmd                0\n",
       "ct_srv_src                0\n",
       "ct_srv_dst                0\n",
       "ct_dst_ltm                0\n",
       "ct_src_ltm                0\n",
       "ct_src_dport_ltm          0\n",
       "ct_dst_sport_ltm          0\n",
       "ct_dst_src_ltm            0\n",
       "attack_cat          1809853\n",
       "label                     0\n",
       "dtype: int64"
      ]
     },
     "execution_count": 15,
     "metadata": {},
     "output_type": "execute_result"
    }
   ],
   "source": [
    "# checking for null values\n",
    "train.isnull().sum()"
   ]
  },
  {
   "cell_type": "markdown",
   "metadata": {
    "colab_type": "text",
    "id": "lymw1lcbTBtk"
   },
   "source": [
    "### Filling Null values"
   ]
  },
  {
   "cell_type": "code",
   "execution_count": 16,
   "metadata": {
    "colab": {
     "base_uri": "https://localhost:8080/",
     "height": 255
    },
    "colab_type": "code",
    "executionInfo": {
     "elapsed": 1212,
     "status": "ok",
     "timestamp": 1598244209581,
     "user": {
      "displayName": "Subrata Maji",
      "photoUrl": "https://lh3.googleusercontent.com/a-/AOh14Ghxu8VIGqB6XL51-t5wM_f1R1LdmEePYHIwb9b-=s64",
      "userId": "03124174213573157612"
     },
     "user_tz": -330
    },
    "id": "owrNY7UeHxkW",
    "outputId": "84ecc39d-4d00-47b4-aa97-0975b1d71fef",
    "tags": []
   },
   "outputs": [
    {
     "data": {
      "text/plain": [
       "Generic             147043\n",
       "Exploits             31674\n",
       " Fuzzers             12482\n",
       "DoS                  11192\n",
       " Reconnaissance       8164\n",
       " Fuzzers              5051\n",
       "Analysis              1999\n",
       "Reconnaissance        1759\n",
       "Backdoor              1093\n",
       " Shellcode             848\n",
       "Backdoors              534\n",
       "Shellcode              223\n",
       "Worms                  122\n",
       "Name: attack_cat, dtype: int64"
      ]
     },
     "execution_count": 16,
     "metadata": {},
     "output_type": "execute_result"
    }
   ],
   "source": [
    "train['attack_cat'].value_counts()"
   ]
  },
  {
   "cell_type": "code",
   "execution_count": 17,
   "metadata": {
    "colab": {},
    "colab_type": "code",
    "id": "EbjAKIGcICqY",
    "tags": []
   },
   "outputs": [],
   "source": [
    "# We don't have \"normal\" values for \"attack_cat\", so we must fill Null values with \"normal\"\n",
    "train['attack_cat'] = train.attack_cat.fillna(value='normal').apply(lambda x: x.strip().lower())"
   ]
  },
  {
   "cell_type": "code",
   "execution_count": 18,
   "metadata": {
    "colab": {
     "base_uri": "https://localhost:8080/",
     "height": 221
    },
    "colab_type": "code",
    "executionInfo": {
     "elapsed": 1203,
     "status": "ok",
     "timestamp": 1598244273870,
     "user": {
      "displayName": "Subrata Maji",
      "photoUrl": "https://lh3.googleusercontent.com/a-/AOh14Ghxu8VIGqB6XL51-t5wM_f1R1LdmEePYHIwb9b-=s64",
      "userId": "03124174213573157612"
     },
     "user_tz": -330
    },
    "id": "v2ZbFH8hILg9",
    "outputId": "5e840326-0e3c-43b3-bef4-3e49f9561679",
    "tags": []
   },
   "outputs": [
    {
     "data": {
      "text/plain": [
       "normal            1809853\n",
       "generic            147043\n",
       "exploits            31674\n",
       "fuzzers             17533\n",
       "dos                 11192\n",
       "reconnaissance       9923\n",
       "analysis             1999\n",
       "backdoor             1093\n",
       "shellcode            1071\n",
       "backdoors             534\n",
       "worms                 122\n",
       "Name: attack_cat, dtype: int64"
      ]
     },
     "execution_count": 18,
     "metadata": {},
     "output_type": "execute_result"
    }
   ],
   "source": [
    "train['attack_cat'].value_counts()"
   ]
  },
  {
   "cell_type": "code",
   "execution_count": 19,
   "metadata": {
    "colab": {},
    "colab_type": "code",
    "id": "iAz36cZTHVYk",
    "tags": []
   },
   "outputs": [],
   "source": [
    "train['ct_flw_http_mthd'] = train.ct_flw_http_mthd.fillna(value=0)"
   ]
  },
  {
   "cell_type": "code",
   "execution_count": 20,
   "metadata": {
    "colab": {
     "base_uri": "https://localhost:8080/",
     "height": 102
    },
    "colab_type": "code",
    "executionInfo": {
     "elapsed": 906,
     "status": "ok",
     "timestamp": 1598244289634,
     "user": {
      "displayName": "Subrata Maji",
      "photoUrl": "https://lh3.googleusercontent.com/a-/AOh14Ghxu8VIGqB6XL51-t5wM_f1R1LdmEePYHIwb9b-=s64",
      "userId": "03124174213573157612"
     },
     "user_tz": -330
    },
    "id": "exliBT3ZIpUk",
    "outputId": "74ccb552-2a22-45e6-9c73-03f057822c05",
    "tags": []
   },
   "outputs": [
    {
     "data": {
      "text/plain": [
       "0.0    1066593\n",
       "1.0      35534\n",
       "4.0        112\n",
       "2.0         16\n",
       "Name: is_ftp_login, dtype: int64"
      ]
     },
     "execution_count": 20,
     "metadata": {},
     "output_type": "execute_result"
    }
   ],
   "source": [
    "# Even though it's a binary column, but there're values like 2 and 4\n",
    "train['is_ftp_login'].value_counts()"
   ]
  },
  {
   "cell_type": "code",
   "execution_count": 21,
   "metadata": {
    "colab": {},
    "colab_type": "code",
    "id": "DzY13jPlIuKR",
    "tags": []
   },
   "outputs": [],
   "source": [
    "train['is_ftp_login'] = (train.is_ftp_login.fillna(value=0)).astype(int)"
   ]
  },
  {
   "cell_type": "code",
   "execution_count": 22,
   "metadata": {
    "colab": {
     "base_uri": "https://localhost:8080/",
     "height": 34
    },
    "colab_type": "code",
    "executionInfo": {
     "elapsed": 2966,
     "status": "ok",
     "timestamp": 1598246820059,
     "user": {
      "displayName": "Subrata Maji",
      "photoUrl": "https://lh3.googleusercontent.com/a-/AOh14Ghxu8VIGqB6XL51-t5wM_f1R1LdmEePYHIwb9b-=s64",
      "userId": "03124174213573157612"
     },
     "user_tz": -330
    },
    "id": "H_NVLazgKOth",
    "outputId": "ea044f5e-6080-47de-9c04-37410fa01cec",
    "tags": []
   },
   "outputs": [
    {
     "data": {
      "text/plain": [
       "0"
      ]
     },
     "execution_count": 22,
     "metadata": {},
     "output_type": "execute_result"
    }
   ],
   "source": [
    "# There are no Null values in the train data anymore\n",
    "train.isnull().sum().sum()"
   ]
  },
  {
   "cell_type": "markdown",
   "metadata": {
    "colab_type": "text",
    "id": "avzn0XAKq6r2"
   },
   "source": [
    "## Information about dataset"
   ]
  },
  {
   "cell_type": "code",
   "execution_count": 23,
   "metadata": {
    "colab": {
     "base_uri": "https://localhost:8080/",
     "height": 187
    },
    "colab_type": "code",
    "executionInfo": {
     "elapsed": 1084,
     "status": "ok",
     "timestamp": 1598244455550,
     "user": {
      "displayName": "Subrata Maji",
      "photoUrl": "https://lh3.googleusercontent.com/a-/AOh14Ghxu8VIGqB6XL51-t5wM_f1R1LdmEePYHIwb9b-=s64",
      "userId": "03124174213573157612"
     },
     "user_tz": -330
    },
    "id": "WelMPaD4FLL1",
    "outputId": "efcc21e1-4409-4ea2-e139-6e6b9a790fee",
    "tags": []
   },
   "outputs": [
    {
     "data": {
      "text/plain": [
       "Index(['srcip', 'sport', 'dstip', 'dsport', 'proto', 'state', 'dur', 'sbytes',\n",
       "       'dbytes', 'sttl', 'dttl', 'sloss', 'dloss', 'service', 'sload', 'dload',\n",
       "       'spkts', 'dpkts', 'swin', 'dwin', 'stcpb', 'dtcpb', 'smeansz',\n",
       "       'dmeansz', 'trans_depth', 'res_bdy_len', 'sjit', 'djit', 'stime',\n",
       "       'ltime', 'sintpkt', 'dintpkt', 'tcprtt', 'synack', 'ackdat',\n",
       "       'is_sm_ips_ports', 'ct_state_ttl', 'ct_flw_http_mthd', 'is_ftp_login',\n",
       "       'ct_ftp_cmd', 'ct_srv_src', 'ct_srv_dst', 'ct_dst_ltm', 'ct_src_ltm',\n",
       "       'ct_src_dport_ltm', 'ct_dst_sport_ltm', 'ct_dst_src_ltm', 'attack_cat',\n",
       "       'label'],\n",
       "      dtype='object', name='Name')"
      ]
     },
     "execution_count": 23,
     "metadata": {},
     "output_type": "execute_result"
    }
   ],
   "source": [
    "# Getting name of all the columns\n",
    "train.columns"
   ]
  },
  {
   "cell_type": "markdown",
   "metadata": {
    "colab_type": "text",
    "id": "UxjtHGh5rF5M"
   },
   "source": [
    "### Class distribution"
   ]
  },
  {
   "cell_type": "code",
   "execution_count": 24,
   "metadata": {
    "colab": {
     "base_uri": "https://localhost:8080/",
     "height": 51
    },
    "colab_type": "code",
    "executionInfo": {
     "elapsed": 980,
     "status": "ok",
     "timestamp": 1598244513524,
     "user": {
      "displayName": "Subrata Maji",
      "photoUrl": "https://lh3.googleusercontent.com/a-/AOh14Ghxu8VIGqB6XL51-t5wM_f1R1LdmEePYHIwb9b-=s64",
      "userId": "03124174213573157612"
     },
     "user_tz": -330
    },
    "id": "-rA25dkVVlJp",
    "outputId": "4d6d714a-62d1-4ad1-f1d4-59d35b3bd08d",
    "tags": []
   },
   "outputs": [
    {
     "name": "stdout",
     "output_type": "stream",
     "text": [
      "In Train: there are 0.8906594712596276 % of class 0 and 0.10934052874037234 % of class 1\n",
      "In Test: there are 0.804927068364796 % of class 0 and 0.19507293163520403 % of class 1\n"
     ]
    }
   ],
   "source": [
    "train_0, train_1 = train['label'].value_counts()[0] / len(train.index), train['label'].value_counts()[1] / len(train.index)\n",
    "test_0, test_1 = test['label'].value_counts()[0] / len(test.index), test['label'].value_counts()[1] / len(test.index)\n",
    "\n",
    "print(\"In Train: there are {} % of class 0 and {} % of class 1\".format(train_0, train_1))\n",
    "print(\"In Test: there are {} % of class 0 and {} % of class 1\".format(test_0, test_1))"
   ]
  },
  {
   "cell_type": "code",
   "execution_count": 25,
   "metadata": {
    "colab": {
     "base_uri": "https://localhost:8080/",
     "height": 292
    },
    "colab_type": "code",
    "executionInfo": {
     "elapsed": 957,
     "status": "ok",
     "timestamp": 1598244734823,
     "user": {
      "displayName": "Subrata Maji",
      "photoUrl": "https://lh3.googleusercontent.com/a-/AOh14Ghxu8VIGqB6XL51-t5wM_f1R1LdmEePYHIwb9b-=s64",
      "userId": "03124174213573157612"
     },
     "user_tz": -330
    },
    "id": "k-JZdqoLoNOQ",
    "outputId": "e913ad3a-c040-433f-e7fa-3605bb4d5140",
    "tags": []
   },
   "outputs": [
    {
     "data": {
      "image/png": "[encoded data removed]",
      "text/plain": [
       "<Figure size 640x480 with 1 Axes>"
      ]
     },
     "metadata": {},
     "output_type": "display_data"
    }
   ],
   "source": [
    "# Plotting target label distribution\n",
    "plt.figure()\n",
    "plt.title(\"class distribution of train and test dataset\")\n",
    "train['label'].value_counts().plot(kind=\"bar\", color='b', label=\"train\")\n",
    "test['label'].value_counts().plot(kind=\"bar\", color='orange', label=\"test\")\n",
    "plt.xlabel(\"Class\")\n",
    "plt.ylabel(\"Count\")\n",
    "plt.legend()\n",
    "plt.show()"
   ]
  },
  {
   "cell_type": "markdown",
   "metadata": {
    "colab_type": "text",
    "id": "xYGJtnSXX4FQ"
   },
   "source": [
    "Both train and test datasets are highly imbalanced.<br>\n",
    "Percentage of points belongs to class 1 (attack) is very little in both of them.\n"
   ]
  },
  {
   "cell_type": "markdown",
   "metadata": {
    "colab_type": "text",
    "id": "UfekDewOSL9K"
   },
   "source": [
    "### Datatype information of the Features"
   ]
  },
  {
   "cell_type": "code",
   "execution_count": 26,
   "metadata": {
    "colab": {
     "base_uri": "https://localhost:8080/",
     "height": 34
    },
    "colab_type": "code",
    "executionInfo": {
     "elapsed": 3000,
     "status": "ok",
     "timestamp": 1598244760904,
     "user": {
      "displayName": "Subrata Maji",
      "photoUrl": "https://lh3.googleusercontent.com/a-/AOh14Ghxu8VIGqB6XL51-t5wM_f1R1LdmEePYHIwb9b-=s64",
      "userId": "03124174213573157612"
     },
     "user_tz": -330
    },
    "id": "DIQ4p178Mwt9",
    "outputId": "3dd224a7-6cf9-4737-e8a8-15b3bf0b36f2",
    "tags": []
   },
   "outputs": [
    {
     "data": {
      "text/plain": [
       "(0, 1377514)"
      ]
     },
     "execution_count": 26,
     "metadata": {},
     "output_type": "execute_result"
    }
   ],
   "source": [
    "# Check if any null value present in datasets\n",
    "train.isnull().sum().sum(), test.isnull().sum().sum()  # No Null in train and test data is still raw"
   ]
  },
  {
   "cell_type": "code",
   "execution_count": 27,
   "metadata": {
    "colab": {
     "base_uri": "https://localhost:8080/",
     "height": 969
    },
    "colab_type": "code",
    "executionInfo": {
     "elapsed": 1099,
     "status": "ok",
     "timestamp": 1598244775860,
     "user": {
      "displayName": "Subrata Maji",
      "photoUrl": "https://lh3.googleusercontent.com/a-/AOh14Ghxu8VIGqB6XL51-t5wM_f1R1LdmEePYHIwb9b-=s64",
      "userId": "03124174213573157612"
     },
     "user_tz": -330
    },
    "id": "94tDgeQmMri1",
    "outputId": "c8b78f9d-db43-46b8-966e-6c2ace92c95a",
    "tags": []
   },
   "outputs": [
    {
     "name": "stdout",
     "output_type": "stream",
     "text": [
      "<class 'pandas.core.frame.DataFrame'>\n",
      "RangeIndex: 2032037 entries, 0 to 2032036\n",
      "Data columns (total 49 columns):\n",
      " #   Column            Dtype  \n",
      "---  ------            -----  \n",
      " 0   srcip             object \n",
      " 1   sport             object \n",
      " 2   dstip             object \n",
      " 3   dsport            object \n",
      " 4   proto             object \n",
      " 5   state             object \n",
      " 6   dur               float64\n",
      " 7   sbytes            int64  \n",
      " 8   dbytes            int64  \n",
      " 9   sttl              int64  \n",
      " 10  dttl              int64  \n",
      " 11  sloss             int64  \n",
      " 12  dloss             int64  \n",
      " 13  service           object \n",
      " 14  sload             float64\n",
      " 15  dload             float64\n",
      " 16  spkts             int64  \n",
      " 17  dpkts             int64  \n",
      " 18  swin              int64  \n",
      " 19  dwin              int64  \n",
      " 20  stcpb             int64  \n",
      " 21  dtcpb             int64  \n",
      " 22  smeansz           int64  \n",
      " 23  dmeansz           int64  \n",
      " 24  trans_depth       int64  \n",
      " 25  res_bdy_len       int64  \n",
      " 26  sjit              float64\n",
      " 27  djit              float64\n",
      " 28  stime             int64  \n",
      " 29  ltime             int64  \n",
      " 30  sintpkt           float64\n",
      " 31  dintpkt           float64\n",
      " 32  tcprtt            float64\n",
      " 33  synack            float64\n",
      " 34  ackdat            float64\n",
      " 35  is_sm_ips_ports   int64  \n",
      " 36  ct_state_ttl      int64  \n",
      " 37  ct_flw_http_mthd  float64\n",
      " 38  is_ftp_login      int32  \n",
      " 39  ct_ftp_cmd        object \n",
      " 40  ct_srv_src        int64  \n",
      " 41  ct_srv_dst        int64  \n",
      " 42  ct_dst_ltm        int64  \n",
      " 43  ct_src_ltm        int64  \n",
      " 44  ct_src_dport_ltm  int64  \n",
      " 45  ct_dst_sport_ltm  int64  \n",
      " 46  ct_dst_src_ltm    int64  \n",
      " 47  attack_cat        object \n",
      " 48  label             int64  \n",
      "dtypes: float64(11), int32(1), int64(28), object(9)\n",
      "memory usage: 751.9+ MB\n"
     ]
    }
   ],
   "source": [
    "train.info()"
   ]
  },
  {
   "cell_type": "code",
   "execution_count": 28,
   "metadata": {
    "colab": {
     "base_uri": "https://localhost:8080/",
     "height": 85
    },
    "colab_type": "code",
    "executionInfo": {
     "elapsed": 876,
     "status": "ok",
     "timestamp": 1598244783542,
     "user": {
      "displayName": "Subrata Maji",
      "photoUrl": "https://lh3.googleusercontent.com/a-/AOh14Ghxu8VIGqB6XL51-t5wM_f1R1LdmEePYHIwb9b-=s64",
      "userId": "03124174213573157612"
     },
     "user_tz": -330
    },
    "id": "hpFAIry0RJ45",
    "outputId": "221bcde0-8200-40d2-8027-36f570b9338b",
    "tags": []
   },
   "outputs": [
    {
     "data": {
      "text/plain": [
       "int64      28\n",
       "float64    11\n",
       "object      9\n",
       "int32       1\n",
       "dtype: int64"
      ]
     },
     "execution_count": 28,
     "metadata": {},
     "output_type": "execute_result"
    }
   ],
   "source": [
    "# All the datatypes in our dataset\n",
    "train.dtypes.value_counts()"
   ]
  },
  {
   "cell_type": "code",
   "execution_count": 29,
   "metadata": {
    "colab": {
     "base_uri": "https://localhost:8080/",
     "height": 68
    },
    "colab_type": "code",
    "executionInfo": {
     "elapsed": 1113,
     "status": "ok",
     "timestamp": 1597084686897,
     "user": {
      "displayName": "Subrata Maji",
      "photoUrl": "https://lh3.googleusercontent.com/a-/AOh14Ghxu8VIGqB6XL51-t5wM_f1R1LdmEePYHIwb9b-=s64",
      "userId": "03124174213573157612"
     },
     "user_tz": -330
    },
    "id": "0EupesN7ORrD",
    "outputId": "5824ebd9-7920-4176-dde8-301f53e50459",
    "tags": []
   },
   "outputs": [
    {
     "data": {
      "text/plain": [
       "Index(['srcip', 'sport', 'dstip', 'dsport', 'proto', 'state', 'service',\n",
       "       'ct_ftp_cmd', 'attack_cat'],\n",
       "      dtype='object', name='Name')"
      ]
     },
     "execution_count": 29,
     "metadata": {},
     "output_type": "execute_result"
    }
   ],
   "source": [
    "# Categorical feature names\n",
    "train.select_dtypes(exclude=np.number).columns"
   ]
  },
  {
   "cell_type": "code",
   "execution_count": 30,
   "metadata": {
    "colab": {
     "base_uri": "https://localhost:8080/",
     "height": 34
    },
    "colab_type": "code",
    "executionInfo": {
     "elapsed": 992,
     "status": "ok",
     "timestamp": 1598244830039,
     "user": {
      "displayName": "Subrata Maji",
      "photoUrl": "https://lh3.googleusercontent.com/a-/AOh14Ghxu8VIGqB6XL51-t5wM_f1R1LdmEePYHIwb9b-=s64",
      "userId": "03124174213573157612"
     },
     "user_tz": -330
    },
    "id": "BUVY87vzLP5i",
    "outputId": "94c20644-47e3-493d-870d-63b02996a5d4",
    "tags": []
   },
   "outputs": [
    {
     "data": {
      "text/plain": [
       "array([0, 1, 6, 2, 4, 8, 5, 3, '0', '1', ' ', '2', '4'], dtype=object)"
      ]
     },
     "execution_count": 30,
     "metadata": {},
     "output_type": "execute_result"
    }
   ],
   "source": [
    "# In the research paper it was mentioned that, this is a numerical feature not a categorical\n",
    "train['ct_ftp_cmd'].unique()"
   ]
  },
  {
   "cell_type": "code",
   "execution_count": 31,
   "metadata": {
    "colab": {},
    "colab_type": "code",
    "id": "ugmRdb8HLWb8",
    "tags": []
   },
   "outputs": [],
   "source": [
    "# Removing empty space and converting it to numerical\n",
    "train['ct_ftp_cmd'] = train['ct_ftp_cmd'].replace(to_replace=' ', value=0).astype(int)"
   ]
  },
  {
   "cell_type": "code",
   "execution_count": 32,
   "metadata": {
    "colab": {
     "base_uri": "https://localhost:8080/",
     "height": 34
    },
    "colab_type": "code",
    "executionInfo": {
     "elapsed": 858,
     "status": "ok",
     "timestamp": 1598244916429,
     "user": {
      "displayName": "Subrata Maji",
      "photoUrl": "https://lh3.googleusercontent.com/a-/AOh14Ghxu8VIGqB6XL51-t5wM_f1R1LdmEePYHIwb9b-=s64",
      "userId": "03124174213573157612"
     },
     "user_tz": -330
    },
    "id": "jbCX_NQlLk2B",
    "outputId": "ce0e75d4-971b-432e-e1a0-2a6cca956f45",
    "tags": []
   },
   "outputs": [
    {
     "data": {
      "text/plain": [
       "array([0, 1, 6, 2, 4, 8, 5, 3])"
      ]
     },
     "execution_count": 32,
     "metadata": {},
     "output_type": "execute_result"
    }
   ],
   "source": [
    "train['ct_ftp_cmd'].unique()"
   ]
  },
  {
   "cell_type": "code",
   "execution_count": 33,
   "metadata": {
    "colab": {
     "base_uri": "https://localhost:8080/",
     "height": 68
    },
    "colab_type": "code",
    "executionInfo": {
     "elapsed": 1577,
     "status": "ok",
     "timestamp": 1598244919390,
     "user": {
      "displayName": "Subrata Maji",
      "photoUrl": "https://lh3.googleusercontent.com/a-/AOh14Ghxu8VIGqB6XL51-t5wM_f1R1LdmEePYHIwb9b-=s64",
      "userId": "03124174213573157612"
     },
     "user_tz": -330
    },
    "id": "3oIF3y7eLtV5",
    "outputId": "c778d9ca-1c51-457b-883d-7ab9409f82f7",
    "tags": []
   },
   "outputs": [
    {
     "data": {
      "text/plain": [
       "Index(['srcip', 'sport', 'dstip', 'dsport', 'proto', 'state', 'service',\n",
       "       'attack_cat'],\n",
       "      dtype='object', name='Name')"
      ]
     },
     "execution_count": 33,
     "metadata": {},
     "output_type": "execute_result"
    }
   ],
   "source": [
    "# Categorical feature names\n",
    "train.select_dtypes(exclude=np.number).columns"
   ]
  },
  {
   "cell_type": "code",
   "execution_count": 34,
   "metadata": {
    "colab": {
     "base_uri": "https://localhost:8080/",
     "height": 153
    },
    "colab_type": "code",
    "executionInfo": {
     "elapsed": 967,
     "status": "ok",
     "timestamp": 1598244937851,
     "user": {
      "displayName": "Subrata Maji",
      "photoUrl": "https://lh3.googleusercontent.com/a-/AOh14Ghxu8VIGqB6XL51-t5wM_f1R1LdmEePYHIwb9b-=s64",
      "userId": "03124174213573157612"
     },
     "user_tz": -330
    },
    "id": "eDg3n5hySsSz",
    "outputId": "fcaad993-927e-46e5-ce49-d5bda8f91229",
    "tags": []
   },
   "outputs": [
    {
     "data": {
      "text/plain": [
       "Index(['dur', 'sbytes', 'dbytes', 'sttl', 'dttl', 'sloss', 'dloss', 'sload',\n",
       "       'dload', 'spkts', 'dpkts', 'swin', 'dwin', 'stcpb', 'dtcpb', 'smeansz',\n",
       "       'dmeansz', 'trans_depth', 'res_bdy_len', 'sjit', 'djit', 'stime',\n",
       "       'ltime', 'sintpkt', 'dintpkt', 'tcprtt', 'synack', 'ackdat',\n",
       "       'is_sm_ips_ports', 'ct_state_ttl', 'ct_flw_http_mthd', 'is_ftp_login',\n",
       "       'ct_ftp_cmd', 'ct_srv_src', 'ct_srv_dst', 'ct_dst_ltm', 'ct_src_ltm',\n",
       "       'ct_src_dport_ltm', 'ct_dst_sport_ltm', 'ct_dst_src_ltm', 'label'],\n",
       "      dtype='object', name='Name')"
      ]
     },
     "execution_count": 34,
     "metadata": {},
     "output_type": "execute_result"
    }
   ],
   "source": [
    "# Numeric features names\n",
    "train.select_dtypes(include=np.number).columns"
   ]
  },
  {
   "cell_type": "markdown",
   "metadata": {
    "colab_type": "text",
    "id": "nJT_4FIgRlTt"
   },
   "source": [
    "**Observations:**\n",
    "1. In this dataset there are mainly 2 types of data types present\n",
    "    - numerical\n",
    "    - categorical\n",
    "\n",
    "2. Categorical columns: 'proto', 'service', 'state'\n",
    "\n",
    "3. From the research paper we found that there are binary columns also-<br>\n",
    "nummerical but binary: 'is_sm_ips_ports', 'is_ftp_login'\n",
    "\n",
    "4. Numerical columns : 'id', 'dur', 'spkts', 'dpkts', 'sbytes', 'dbytes', 'rate', 'sttl', 'dttl', 'sload', 'dload', 'sloss', 'dloss', 'sinpkt', 'dinpkt', 'sjit', 'djit', 'swin', 'stcpb', 'dtcpb', 'dwin', 'tcprtt', 'synack', 'ackdat',\n",
    "'smean', 'dmean', 'trans_depth', 'response_body_len', 'ct_srv_src',\n",
    "'ct_state_ttl', 'ct_dst_ltm', 'ct_src_dport_ltm', 'ct_dst_sport_ltm',\n",
    "'ct_dst_src_ltm', 'ct_ftp_cmd', 'ct_flw_http_mthd',\n",
    "'ct_src_ltm', 'ct_srv_dst'\n",
    "\n",
    "5. Target columns: 'attack_cat', 'label'"
   ]
  },
  {
   "cell_type": "code",
   "execution_count": 35,
   "metadata": {
    "colab": {},
    "colab_type": "code",
    "id": "c9qs5a1u-dVa",
    "tags": []
   },
   "outputs": [],
   "source": [
    "# Info for test data transformation\n",
    "saved_dict['binary_col'] = ['is_sm_ips_ports', 'is_ftp_login']"
   ]
  },
  {
   "cell_type": "markdown",
   "metadata": {
    "colab_type": "text",
    "id": "38EtRlewUz2P"
   },
   "source": [
    "### Fixing values of the columns"
   ]
  },
  {
   "cell_type": "code",
   "execution_count": 36,
   "metadata": {
    "colab": {
     "base_uri": "https://localhost:8080/",
     "height": 187
    },
    "colab_type": "code",
    "executionInfo": {
     "elapsed": 905,
     "status": "ok",
     "timestamp": 1598245058368,
     "user": {
      "displayName": "Subrata Maji",
      "photoUrl": "https://lh3.googleusercontent.com/a-/AOh14Ghxu8VIGqB6XL51-t5wM_f1R1LdmEePYHIwb9b-=s64",
      "userId": "03124174213573157612"
     },
     "user_tz": -330
    },
    "id": "RAhBgWXaPUfB",
    "outputId": "292c521e-44b9-43ff-8154-9a647378847f",
    "tags": []
   },
   "outputs": [
    {
     "name": "stdout",
     "output_type": "stream",
     "text": [
      "0    2028350\n",
      "1       3687\n",
      "Name: is_sm_ips_ports, dtype: int64\n",
      "\n",
      "0    1996375\n",
      "1      35534\n",
      "4        112\n",
      "2         16\n",
      "Name: is_ftp_login, dtype: int64\n",
      "\n"
     ]
    }
   ],
   "source": [
    "# see if binary columns are really binary\n",
    "for col in 'is_sm_ips_ports', 'is_ftp_login':\n",
    "    print(train[col].value_counts())\n",
    "    print()"
   ]
  },
  {
   "cell_type": "markdown",
   "metadata": {
    "colab_type": "text",
    "id": "OgMjHjzsT_Kk"
   },
   "source": [
    "The col \"is_ftp_login\" has few wrong values like 2, 4. It should only have 0 and 1, If the ftp session is accessed by user and\n",
    "password then 1 else 0. Need to fix this.\n",
    "\n",
    "Replacing all the values apart from 0 and 1 from these two columns."
   ]
  },
  {
   "cell_type": "code",
   "execution_count": 37,
   "metadata": {
    "colab": {},
    "colab_type": "code",
    "id": "8nwgE2AkL1nj",
    "tags": []
   },
   "outputs": [],
   "source": [
    "train['is_ftp_login'] = np.where(train['is_ftp_login']>1, 1, train['is_ftp_login'])"
   ]
  },
  {
   "cell_type": "code",
   "execution_count": 38,
   "metadata": {
    "colab": {
     "base_uri": "https://localhost:8080/",
     "height": 68
    },
    "colab_type": "code",
    "executionInfo": {
     "elapsed": 833,
     "status": "ok",
     "timestamp": 1598245091731,
     "user": {
      "displayName": "Subrata Maji",
      "photoUrl": "https://lh3.googleusercontent.com/a-/AOh14Ghxu8VIGqB6XL51-t5wM_f1R1LdmEePYHIwb9b-=s64",
      "userId": "03124174213573157612"
     },
     "user_tz": -330
    },
    "id": "tbK1cgrRML5S",
    "outputId": "7b75650f-95fc-457e-f8b1-0fc869d8c98b",
    "tags": []
   },
   "outputs": [
    {
     "data": {
      "text/plain": [
       "0    1996375\n",
       "1      35662\n",
       "Name: is_ftp_login, dtype: int64"
      ]
     },
     "execution_count": 38,
     "metadata": {},
     "output_type": "execute_result"
    }
   ],
   "source": [
    "train['is_ftp_login'].value_counts()"
   ]
  },
  {
   "cell_type": "markdown",
   "metadata": {
    "colab_type": "text",
    "id": "SfdckvbXsYJL"
   },
   "source": [
    "In the feature \"service\" we have \"-\" we need to replace that."
   ]
  },
  {
   "cell_type": "code",
   "execution_count": 39,
   "metadata": {
    "colab": {
     "base_uri": "https://localhost:8080/",
     "height": 255
    },
    "colab_type": "code",
    "executionInfo": {
     "elapsed": 1088,
     "status": "ok",
     "timestamp": 1598245098041,
     "user": {
      "displayName": "Subrata Maji",
      "photoUrl": "https://lh3.googleusercontent.com/a-/AOh14Ghxu8VIGqB6XL51-t5wM_f1R1LdmEePYHIwb9b-=s64",
      "userId": "03124174213573157612"
     },
     "user_tz": -330
    },
    "id": "SkHsM3AMsgLR",
    "outputId": "dfe7968e-e9e0-4fd1-8176-4ce979e2992c",
    "tags": []
   },
   "outputs": [
    {
     "data": {
      "text/plain": [
       "-           1038583\n",
       "dns          574479\n",
       "http         167083\n",
       "ftp-data     103661\n",
       "smtp          67015\n",
       "ftp           40724\n",
       "ssh           39052\n",
       "pop3           1089\n",
       "dhcp            124\n",
       "ssl              97\n",
       "snmp             80\n",
       "radius           29\n",
       "irc              21\n",
       "Name: service, dtype: int64"
      ]
     },
     "execution_count": 39,
     "metadata": {},
     "output_type": "execute_result"
    }
   ],
   "source": [
    "train['service'].value_counts()"
   ]
  },
  {
   "cell_type": "code",
   "execution_count": 40,
   "metadata": {
    "colab": {},
    "colab_type": "code",
    "id": "N6-UD3X1snWi",
    "tags": []
   },
   "outputs": [],
   "source": [
    "# removing all the \"-\" and replacing those with \"None\"\n",
    "train['service'] = train['service'].apply(lambda x:\"None\" if x==\"-\" else x)"
   ]
  },
  {
   "cell_type": "code",
   "execution_count": 41,
   "metadata": {
    "colab": {
     "base_uri": "https://localhost:8080/",
     "height": 255
    },
    "colab_type": "code",
    "executionInfo": {
     "elapsed": 1021,
     "status": "ok",
     "timestamp": 1598245123898,
     "user": {
      "displayName": "Subrata Maji",
      "photoUrl": "https://lh3.googleusercontent.com/a-/AOh14Ghxu8VIGqB6XL51-t5wM_f1R1LdmEePYHIwb9b-=s64",
      "userId": "03124174213573157612"
     },
     "user_tz": -330
    },
    "id": "z3ArmRX6NeW4",
    "outputId": "bf547f13-96df-4b14-90ae-fe445e58f5a4",
    "tags": []
   },
   "outputs": [
    {
     "data": {
      "text/plain": [
       "None        1038583\n",
       "dns          574479\n",
       "http         167083\n",
       "ftp-data     103661\n",
       "smtp          67015\n",
       "ftp           40724\n",
       "ssh           39052\n",
       "pop3           1089\n",
       "dhcp            124\n",
       "ssl              97\n",
       "snmp             80\n",
       "radius           29\n",
       "irc              21\n",
       "Name: service, dtype: int64"
      ]
     },
     "execution_count": 41,
     "metadata": {},
     "output_type": "execute_result"
    }
   ],
   "source": [
    "train['service'].value_counts()"
   ]
  },
  {
   "cell_type": "code",
   "execution_count": 42,
   "metadata": {
    "colab": {
     "base_uri": "https://localhost:8080/",
     "height": 34
    },
    "colab_type": "code",
    "executionInfo": {
     "elapsed": 901,
     "status": "ok",
     "timestamp": 1598245162415,
     "user": {
      "displayName": "Subrata Maji",
      "photoUrl": "https://lh3.googleusercontent.com/a-/AOh14Ghxu8VIGqB6XL51-t5wM_f1R1LdmEePYHIwb9b-=s64",
      "userId": "03124174213573157612"
     },
     "user_tz": -330
    },
    "id": "duQJ_2nV5CBE",
    "outputId": "0c1da48e-25b8-4832-fef9-2930f4226faf",
    "tags": []
   },
   "outputs": [
    {
     "data": {
      "text/plain": [
       "11"
      ]
     },
     "execution_count": 42,
     "metadata": {},
     "output_type": "execute_result"
    }
   ],
   "source": [
    "# In the research paper there are not 10 unique values\n",
    "train['attack_cat'].nunique()"
   ]
  },
  {
   "cell_type": "code",
   "execution_count": 43,
   "metadata": {
    "colab": {
     "base_uri": "https://localhost:8080/",
     "height": 221
    },
    "colab_type": "code",
    "executionInfo": {
     "elapsed": 1211,
     "status": "ok",
     "timestamp": 1598245185489,
     "user": {
      "displayName": "Subrata Maji",
      "photoUrl": "https://lh3.googleusercontent.com/a-/AOh14Ghxu8VIGqB6XL51-t5wM_f1R1LdmEePYHIwb9b-=s64",
      "userId": "03124174213573157612"
     },
     "user_tz": -330
    },
    "id": "1RJ7yvY91dju",
    "outputId": "2637ce28-d60a-4ebe-84d1-87c492172061",
    "tags": []
   },
   "outputs": [
    {
     "data": {
      "text/plain": [
       "normal            1809853\n",
       "generic            147043\n",
       "exploits            31674\n",
       "fuzzers             17533\n",
       "dos                 11192\n",
       "reconnaissance       9923\n",
       "analysis             1999\n",
       "backdoor             1093\n",
       "shellcode            1071\n",
       "backdoors             534\n",
       "worms                 122\n",
       "Name: attack_cat, dtype: int64"
      ]
     },
     "execution_count": 43,
     "metadata": {},
     "output_type": "execute_result"
    }
   ],
   "source": [
    "train['attack_cat'].value_counts()"
   ]
  },
  {
   "cell_type": "code",
   "execution_count": 44,
   "metadata": {
    "colab": {},
    "colab_type": "code",
    "id": "2NFsave95CBc",
    "tags": []
   },
   "outputs": [],
   "source": [
    "train['attack_cat'] = train['attack_cat'].replace('backdoors','backdoor', regex=True).apply(lambda x: x.strip().lower())"
   ]
  },
  {
   "cell_type": "markdown",
   "metadata": {
    "colab_type": "text",
    "id": "MOKmuHehlvmV"
   },
   "source": [
    "## Saving files to disk"
   ]
  },
  {
   "cell_type": "code",
   "execution_count": 45,
   "metadata": {
    "colab": {
     "base_uri": "https://localhost:8080/",
     "height": 34
    },
    "colab_type": "code",
    "executionInfo": {
     "elapsed": 921,
     "status": "ok",
     "timestamp": 1598246914346,
     "user": {
      "displayName": "Subrata Maji",
      "photoUrl": "https://lh3.googleusercontent.com/a-/AOh14Ghxu8VIGqB6XL51-t5wM_f1R1LdmEePYHIwb9b-=s64",
      "userId": "03124174213573157612"
     },
     "user_tz": -330
    },
    "id": "l-JeWiso4J14",
    "outputId": "bc5c9a14-cb03-418c-9e86-b16cac845f90",
    "tags": []
   },
   "outputs": [
    {
     "data": {
      "text/plain": [
       "((2032037, 49), (508010, 49))"
      ]
     },
     "execution_count": 45,
     "metadata": {},
     "output_type": "execute_result"
    }
   ],
   "source": [
    "train.shape, test.shape"
   ]
  },
  {
   "cell_type": "code",
   "execution_count": 46,
   "metadata": {
    "colab": {},
    "colab_type": "code",
    "id": "W4nDrjgasnML"
   },
   "outputs": [],
   "source": [
    "train.to_csv('./final_ipynb/train_alldata_EDA.csv', index=False)\n",
    "test.to_csv('./final_ipynb/test_alldata_EDA.csv', index=False)"
   ]
  },
  {
   "cell_type": "code",
   "execution_count": 47,
   "metadata": {
    "colab": {},
    "colab_type": "code",
    "id": "KMkN5-dSQdOk"
   },
   "outputs": [],
   "source": [
    "pickle.dump(saved_dict, open('./final_ipynb/saved_dict.pkl', 'wb'))"
   ]
  },
  {
   "cell_type": "code",
   "execution_count": null,
   "metadata": {
    "colab": {},
    "colab_type": "code",
    "id": "I2RqN_AxiZBw"
   },
   "outputs": [],
   "source": []
  }
 ],
 "metadata": {
  "colab": {
   "collapsed_sections": [],
   "name": "1_casestudy1_EDA_FE.ipynb",
   "provenance": [
    {
     "file_id": "1k7BH4WolCu38frXp97DspBQS2X3Adv5z",
     "timestamp": 1597904431040
    },
    {
     "file_id": "1NeoZNFmxl5o5WRzslc7YZFGw8A62kwRn",
     "timestamp": 1597848809194
    }
   ]
  },
  "kernelspec": {
   "display_name": "Python 3 (ipykernel)",
   "language": "python",
   "name": "python3"
  },
  "language_info": {
   "codemirror_mode": {
    "name": "ipython",
    "version": 3
   },
   "file_extension": ".py",
   "mimetype": "text/x-python",
   "name": "python",
   "nbconvert_exporter": "python",
   "pygments_lexer": "ipython3",
   "version": "3.7.16"
  },
  "toc": {
   "base_numbering": 1,
   "nav_menu": {},
   "number_sections": true,
   "sideBar": true,
   "skip_h1_title": false,
   "title_cell": "Table of Contents",
   "title_sidebar": "Contents",
   "toc_cell": false,
   "toc_position": {},
   "toc_section_display": true,
   "toc_window_display": true
  }
 },
 "nbformat": 4,
 "nbformat_minor": 4
}
